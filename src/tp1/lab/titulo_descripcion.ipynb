{
 "cells": [
  {
   "cell_type": "markdown",
   "metadata": {},
   "source": [
    "## Campos involucrados\n",
    "\n",
    "- titulo\n",
    "- descripcion\n",
    "\n",
    "## Ideas\n",
    "\n",
    "- wordcloud\n",
    "- normalizacion\n",
    "- stemming\n",
    "\n",
    "## Hipótesis\n",
    "\n",
    "- ciertas palabras indican mayor precio (luminoso, jardín, hermoso, vista...)\n",
    "- a más palabras, mayor precio"
   ]
  },
  {
   "cell_type": "code",
   "execution_count": 3,
   "metadata": {},
   "outputs": [
    {
     "data": {
      "text/plain": [
       "Index(['id', 'titulo', 'descripcion', 'tipodepropiedad', 'direccion', 'ciudad',\n",
       "       'provincia', 'antiguedad', 'habitaciones', 'garages', 'banos',\n",
       "       'metroscubiertos', 'metrostotales', 'idzona', 'lat', 'lng', 'fecha',\n",
       "       'gimnasio', 'usosmultiples', 'piscina', 'escuelascercanas',\n",
       "       'centroscomercialescercanos', 'precio', 'mes', 'ano', 'dia'],\n",
       "      dtype='object')"
      ]
     },
     "execution_count": 3,
     "metadata": {},
     "output_type": "execute_result"
    }
   ],
   "source": [
    "#importo las funciones para levantar los dataframes\n",
    "%run \"../../utils/dataset_parsing.ipynb\"\n",
    "#importo las funciones para graficar\n",
    "%run \"../../utils/graphs.ipynb\"\n",
    "df = levantar_datos(\"../../\"+DATASET_RELATIVE_PATH)\n",
    "df.columns"
   ]
  },
  {
   "cell_type": "code",
   "execution_count": 4,
   "metadata": {},
   "outputs": [],
   "source": [
    "import nltk  \n",
    "from nltk.corpus import stopwords  \n",
    "from string import punctuation  "
   ]
  },
  {
   "cell_type": "code",
   "execution_count": 5,
   "metadata": {},
   "outputs": [],
   "source": [
    "spanish_stopwords = set(stopwords.words('spanish'))\n",
    "non_words = set(punctuation)\n",
    "non_words.update({'¿', '¡'})\n",
    "non_words.update(map(str,range(10)))"
   ]
  },
  {
   "cell_type": "code",
   "execution_count": 79,
   "metadata": {},
   "outputs": [],
   "source": [
    "def add_to_dict(word, dictionary):\n",
    "    dictionary[word] = dictionary.get(word, 0) + 1 \n",
    "\n",
    "def get_word_count(series):\n",
    "    \"\"\"\n",
    "    \n",
    "    \"\"\"\n",
    "    words_count = {}\n",
    "    no_words_count = {}\n",
    "    for title in series.values:\n",
    "        if not isinstance(title,str): continue\n",
    "        words = title.split()\n",
    "        for word in words:\n",
    "            text = ''.join([\" \" if c in non_words else c for c in word]).strip()\n",
    "            if text in spanish_stopwords: \n",
    "                add_to_dict(text, no_words_count)\n",
    "                continue\n",
    "            add_to_dict(text, words_count)\n",
    "    return words_count, no_words_count"
   ]
  },
  {
   "cell_type": "code",
   "execution_count": 116,
   "metadata": {},
   "outputs": [],
   "source": [
    "from collections import Counter\n",
    "\n",
    "def get_word_counters(series):\n",
    "    \"\"\"\n",
    "        Faltaría analizar stemming\n",
    "    \"\"\"\n",
    "    words_counter = Counter()\n",
    "    no_words_counter = Counter()\n",
    "    for title in series.values:\n",
    "        if not isinstance(title,str): continue\n",
    "        words = filter(lambda x: len(x)>2, title.split())\n",
    "        for word in words:\n",
    "            text = ''.join([\" \" if c in non_words else c for c in word]).strip()\n",
    "            text_ok = len(text) > 2 and not text in spanish_stopwords\n",
    "            counter_to_update = words_counter if text_ok else no_words_counter \n",
    "            counter_to_update.update({text})\n",
    "    return words_counter, no_words_counter"
   ]
  },
  {
   "cell_type": "code",
   "execution_count": 117,
   "metadata": {},
   "outputs": [],
   "source": [
    "titulo_palabras, titulo_no_palabras = get_word_counters(df[\"titulo\"])"
   ]
  },
  {
   "cell_type": "code",
   "execution_count": 119,
   "metadata": {},
   "outputs": [],
   "source": [
    "descripcion_palabras, descripcion_no_palabras = get_word_counters(df[\"descripcion\"])"
   ]
  },
  {
   "cell_type": "code",
   "execution_count": 120,
   "metadata": {},
   "outputs": [
    {
     "name": "stdout",
     "output_type": "stream",
     "text": [
      "25477 406 174523 585\n"
     ]
    }
   ],
   "source": [
    "print(len(titulo_palabras), len(titulo_no_palabras), len(descripcion_palabras), len(descripcion_no_palabras))"
   ]
  },
  {
   "cell_type": "code",
   "execution_count": 131,
   "metadata": {},
   "outputs": [
    {
     "data": {
      "text/plain": [
       "[('casa', 121528),\n",
       " ('venta', 104820),\n",
       " ('departamento', 38162),\n",
       " ('san', 16410),\n",
       " ('excelente', 12397),\n",
       " ('lomas', 11088),\n",
       " ('terreno', 10608),\n",
       " ('col', 10349),\n",
       " ('residencial', 10035),\n",
       " ('hermosa', 9299),\n",
       " ('condominio', 8538),\n",
       " ('valle', 7861),\n",
       " ('oportunidad', 6847),\n",
       " ('santa', 6844),\n",
       " ('fracc', 6272),\n",
       " ('fraccionamiento', 6028),\n",
       " ('nueva', 5896),\n",
       " ('casas', 5847),\n",
       " ('remate', 5602),\n",
       " ('bonita', 5445),\n",
       " ('recamaras', 5426),\n",
       " ('cerca', 5096),\n",
       " ('zona', 4983),\n",
       " ('colonia', 4877),\n",
       " ('residencia', 4776),\n",
       " ('real', 4608),\n",
       " ('privada', 4188),\n",
       " ('centro', 3897),\n",
       " ('jardines', 3768),\n",
       " ('depto', 3711),\n",
       " ('vendo', 3631),\n",
       " ('vista', 3512),\n",
       " ('sur', 3448),\n",
       " ('nuevo', 3289),\n",
       " ('departamentos', 3268),\n",
       " ('amplia', 3220),\n",
       " ('preciosa', 3195),\n",
       " ('juriquilla', 3107),\n",
       " ('ciudad', 3097),\n",
       " ('vende', 3074),\n",
       " ('norte', 3061),\n",
       " ('comercial', 2989),\n",
       " ('villa', 2956),\n",
       " ('méxico', 2920),\n",
       " ('hacienda', 2848),\n",
       " ('cumbres', 2826),\n",
       " ('planta', 2822),\n",
       " ('juárez', 2773),\n",
       " ('local', 2634),\n",
       " ('bosques', 2619),\n",
       " ('bosque', 2545),\n",
       " ('calle', 2529),\n",
       " ('parque', 2512),\n",
       " ('miguel', 2477),\n",
       " ('villas', 2475),\n",
       " ('zapopan', 2426),\n",
       " ('preventa', 2420),\n",
       " ('ubicación', 2364),\n",
       " ('benito', 2181),\n",
       " ('alberca', 2171),\n",
       " ('bancario', 2142),\n",
       " ('hermoso', 2110),\n",
       " ('sola', 2097),\n",
       " ('lujo', 2067),\n",
       " ('bonito', 2057),\n",
       " ('precio', 2034),\n",
       " ('morelos', 2002),\n",
       " ('club', 1998),\n",
       " ('acabados', 1959),\n",
       " ('lago', 1948),\n",
       " ('coto', 1849),\n",
       " ('privado', 1795),\n",
       " ('pedregal', 1768),\n",
       " ('esquina', 1761),\n",
       " ('hidalgo', 1755),\n",
       " ('dos', 1742),\n",
       " ('gran', 1733),\n",
       " ('pedro', 1719),\n",
       " ('plaza', 1719),\n",
       " ('querétaro', 1705),\n",
       " ('tlalpan', 1699),\n",
       " ('guadalupe', 1695),\n",
       " ('amplio', 1664),\n",
       " ('rec', 1658),\n",
       " ('renta', 1649),\n",
       " ('niveles', 1641),\n",
       " ('puebla', 1641),\n",
       " ('recámaras', 1613),\n",
       " ('frente', 1602),\n",
       " ('federal', 1574),\n",
       " ('ubicacion', 1550),\n",
       " ('distrito', 1547),\n",
       " ('naucalpan', 1519),\n",
       " ('loma', 1517),\n",
       " ('edificio', 1494),\n",
       " ('colinas', 1479),\n",
       " ('sol', 1461),\n",
       " ('baños', 1455),\n",
       " ('monterrey', 1449),\n",
       " ('bodega', 1445)]"
      ]
     },
     "execution_count": 131,
     "metadata": {},
     "output_type": "execute_result"
    }
   ],
   "source": [
    "titulo_palabras.most_common(100)"
   ]
  },
  {
   "cell_type": "code",
   "execution_count": 130,
   "metadata": {},
   "outputs": [
    {
     "data": {
      "text/plain": [
       "[('baño', 185496),\n",
       " ('cocina', 155094),\n",
       " ('casa', 148033),\n",
       " ('sala', 129318),\n",
       " ('recamaras', 114087),\n",
       " ('comedor', 108051),\n",
       " ('cuenta', 88651),\n",
       " ('p  p', 82425),\n",
       " ('servicio', 80654),\n",
       " ('dos', 76341),\n",
       " ('cuarto', 72810),\n",
       " ('planta', 70813),\n",
       " ('baños', 70715),\n",
       " ('completo', 66226),\n",
       " ('principal', 61872),\n",
       " ('estacionamiento', 61793),\n",
       " ('excelente', 58634),\n",
       " ('integral', 58423),\n",
       " ('lavado', 58311),\n",
       " ('autos', 55402),\n",
       " ('patio', 53690),\n",
       " ('área', 50664),\n",
       " ('vestidor', 49661),\n",
       " ('terreno', 46634),\n",
       " ('departamento', 45781),\n",
       " ('recámaras', 45639),\n",
       " ('terraza', 43879),\n",
       " ('closet', 43754),\n",
       " ('cochera', 43275),\n",
       " ('jardín', 40586),\n",
       " ('piso', 39404),\n",
       " ('baja', 37862),\n",
       " ('vigilancia', 37638),\n",
       " ('venta', 36143),\n",
       " ('cerca', 35357),\n",
       " ('recamara', 35016),\n",
       " ('alta', 33990),\n",
       " ('amplia', 33479),\n",
       " ('acabados', 32928),\n",
       " ('zona', 32708),\n",
       " ('medio', 32505),\n",
       " ('estudio', 30702),\n",
       " ('equipada', 30670),\n",
       " ('niveles', 29301),\n",
       " ('acceso', 27453),\n",
       " ('alberca', 26676),\n",
       " ('vista', 26648),\n",
       " ('area', 26144),\n",
       " ('tres', 25707),\n",
       " ('nivel', 25630),\n",
       " ('construcción', 25289),\n",
       " ('amplio', 25138),\n",
       " ('precio', 24742),\n",
       " ('fraccionamiento', 24128),\n",
       " ('estancia', 23903),\n",
       " ('pisos', 23750),\n",
       " ('ba ntilde o', 23470),\n",
       " ('ubicación', 22686),\n",
       " ('visitas', 21795),\n",
       " ('cada', 21376),\n",
       " ('oportunidad', 21351),\n",
       " ('bodega', 21117),\n",
       " ('techada', 21095),\n",
       " ('ubicada', 20324),\n",
       " ('minutos', 20249),\n",
       " ('mts', 20225),\n",
       " ('jardin', 19672),\n",
       " ('frente', 19529),\n",
       " ('solo', 19081),\n",
       " ('comercial', 19071),\n",
       " ('espacios', 19058),\n",
       " ('tipo', 18965),\n",
       " ('cisterna', 18558),\n",
       " ('completos', 18498),\n",
       " ('madera', 18357),\n",
       " ('comerciales', 18247),\n",
       " ('calle', 18128),\n",
       " ('servicios', 17971),\n",
       " ('áreas', 17947),\n",
       " ('recámara', 17865),\n",
       " ('seguridad', 17825),\n",
       " ('juegos', 17798),\n",
       " ('privada', 17009),\n",
       " ('espacio', 16895),\n",
       " ('departamentos', 16766),\n",
       " ('consta', 16689),\n",
       " ('closets', 16647),\n",
       " ('encuentra', 16545),\n",
       " ('hermosa', 16444),\n",
       " ('amplios', 16379),\n",
       " ('sala comedor', 16323),\n",
       " ('granito', 16048),\n",
       " ('ubicado', 15872),\n",
       " ('propiedad', 15782),\n",
       " ('verdes', 15490),\n",
       " ('centro', 15460),\n",
       " ('casas', 15369),\n",
       " ('auto', 15369),\n",
       " ('escuelas', 15300),\n",
       " ('doble', 15033)]"
      ]
     },
     "execution_count": 130,
     "metadata": {},
     "output_type": "execute_result"
    }
   ],
   "source": [
    "descripcion_palabras.most_common(100)"
   ]
  },
  {
   "cell_type": "code",
   "execution_count": 125,
   "metadata": {},
   "outputs": [],
   "source": [
    "import matplotlib.pyplot as plt"
   ]
  },
  {
   "cell_type": "code",
   "execution_count": 128,
   "metadata": {},
   "outputs": [],
   "source": [
    "titulo_palabras_top_200 = titulo_palabras.most_common(200)"
   ]
  },
  {
   "cell_type": "code",
   "execution_count": null,
   "metadata": {},
   "outputs": [],
   "source": []
  }
 ],
 "metadata": {
  "kernelspec": {
   "display_name": "Python 3",
   "language": "python",
   "name": "python3"
  },
  "language_info": {
   "codemirror_mode": {
    "name": "ipython",
    "version": 3
   },
   "file_extension": ".py",
   "mimetype": "text/x-python",
   "name": "python",
   "nbconvert_exporter": "python",
   "pygments_lexer": "ipython3",
   "version": "3.7.0"
  }
 },
 "nbformat": 4,
 "nbformat_minor": 4
}

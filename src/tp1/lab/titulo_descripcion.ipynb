{
 "cells": [
  {
   "cell_type": "markdown",
   "metadata": {},
   "source": [
    "## Campos involucrados\n",
    "\n",
    "- titulo\n",
    "- descripcion\n",
    "\n",
    "## Ideas\n",
    "\n",
    "- wordcloud\n",
    "- normalizacion\n",
    "- stemming\n",
    "- palabras positivas (respecto al precio)\n",
    "- palabras negativas (respecto al precio)\n",
    "\n",
    "## Hipótesis\n",
    "\n",
    "- ciertas palabras indican mayor precio (luminoso, jardín, hermoso, vista...)\n",
    "- a más palabras, mayor precio\n",
    "\n",
    "## Resultados\n",
    "- la correlacion entre longitud de descripcion y precio es bastante baja (0.1)"
   ]
  },
  {
   "cell_type": "code",
   "execution_count": 1,
   "metadata": {},
   "outputs": [
    {
     "data": {
      "text/plain": [
       "Index(['id', 'titulo', 'descripcion', 'tipodepropiedad', 'direccion', 'ciudad',\n",
       "       'provincia', 'antiguedad', 'habitaciones', 'garages', 'banos',\n",
       "       'metroscubiertos', 'metrostotales', 'idzona', 'lat', 'lng', 'fecha',\n",
       "       'gimnasio', 'usosmultiples', 'piscina', 'escuelascercanas',\n",
       "       'centroscomercialescercanos', 'precio', 'mes', 'ano', 'dia'],\n",
       "      dtype='object')"
      ]
     },
     "execution_count": 1,
     "metadata": {},
     "output_type": "execute_result"
    }
   ],
   "source": [
    "#importo las funciones para levantar los dataframes\n",
    "%run \"../../utils/dataset_parsing.ipynb\"\n",
    "#importo las funciones para graficar\n",
    "%run \"../../utils/graphs.ipynb\"\n",
    "df = levantar_datos(\"../../\"+DATASET_RELATIVE_PATH)\n",
    "df.columns\n",
    "pd.set_option(\"display.max_colwidth\", -1)"
   ]
  },
  {
   "cell_type": "code",
   "execution_count": 2,
   "metadata": {},
   "outputs": [],
   "source": [
    "import nltk  \n",
    "from nltk.corpus import stopwords  \n",
    "from string import punctuation  "
   ]
  },
  {
   "cell_type": "code",
   "execution_count": 3,
   "metadata": {},
   "outputs": [],
   "source": [
    "spanish_stopwords = set(stopwords.words('spanish'))\n",
    "non_words = set(punctuation)\n",
    "non_words.update({'¿', '¡'})\n",
    "non_words.update(map(str,range(10)))"
   ]
  },
  {
   "cell_type": "code",
   "execution_count": 179,
   "metadata": {},
   "outputs": [],
   "source": [
    "import re\n",
    "from unidecode import unidecode\n",
    "\n",
    "def is_meaningful(word: str) -> bool:\n",
    "    \"\"\"\n",
    "        Recibe una palabra, remueve puntuaciones y verifica que lo que queda no esté en el set de stopwords\n",
    "    \"\"\"\n",
    "    return len(word) > 2 and not word in spanish_stopwords\n",
    "\n",
    "def remove_html(field: str) -> str:\n",
    "    \"\"\"\n",
    "        Recibe un texto y devuelve una copia sin los tags html\n",
    "    \"\"\"\n",
    "    return re.compile(r'<[^>]+>').sub('', field) if field else field\n",
    "\n",
    "def normalize(field: str) -> str:\n",
    "    \"\"\"\n",
    "        Recibe un texto y devuelve una copia sin acentos, ñ ni puntuaciones.\n",
    "    \"\"\"\n",
    "    return ''.join([\" \" if c in non_words else unidecode(c) for c in field]).strip() if field else \"\"\n",
    "\n",
    "def limpiar_campo(field: str) -> str:\n",
    "    \"\"\"\n",
    "        Recibe un campo string que podría tener muchas palabras.\n",
    "        Devuelve un string que contiene sólo las palabras significativas.\n",
    "    \"\"\"\n",
    "    if not isinstance(field,str): return \"\"\n",
    "    without_html = remove_html(field)\n",
    "    normalized = normalize(without_html)\n",
    "    meaningful = \" \".join(set(filter(is_meaningful, normalized.split())))\n",
    "    return meaningful"
   ]
  },
  {
   "cell_type": "code",
   "execution_count": 182,
   "metadata": {},
   "outputs": [],
   "source": [
    "df[\"descripcion_limpia\"] = df[\"descripcion\"].map(limpiar_campo)\n",
    "df[\"len_descripcion\"] = df[\"descripcion_limpia\"].map(lambda x: len(x.split()))"
   ]
  },
  {
   "cell_type": "code",
   "execution_count": 183,
   "metadata": {},
   "outputs": [],
   "source": [
    "df[\"titulo_limpio\"] = df[\"titulo\"].map(limpiar_campo)\n",
    "df[\"len_titulo\"] = df[\"titulo_limpio\"].map(lambda x: len(x.split()))"
   ]
  },
  {
   "cell_type": "code",
   "execution_count": 184,
   "metadata": {},
   "outputs": [
    {
     "data": {
      "text/plain": [
       "131504    hidroneumatico split completo recamaras cocina closet sala servicio espacio dos cuentan comparten agua cuarto republica casa medio integral techada lts ademas servicios cuenta gas antecomedor lavanderia alta planta baja excelente patio colonia luz mini cisterna comedor bano amplios                                                                                                                                                                                                                                                                                                  \n",
       "129360    motor completo recamaras bano terreno cocina closet sala construccion servicio jardin bardas lavado tendido alacena desayunadora garage cuarto porton integral barra techada techado acabados terraza iluminacion amplia recamara modernos granito perimetrales preparacion acondicionado lavabo gavetas piscina alta planta baja doble autos area principal vestidor filtro plantas lujo comedor herreria aire vista                                                                                                                                                                       \n",
       "15563     ser recamaras varias caracteristicas aceptan creditos cocina accesorias arquitectonico tirol sala forma cruz pagos dos cuentan equipo ubicacion usadas independientes calles agua previa zaragoza cita adicional acabados diseno ines juana pagado distribucion servicios gravamen cetram pago almacenar edificio ceramica comedor encuentra totalmente buena departamento cosas equina muestra visitas solo pisos cemento avenida tres departamentos pulido sor excelente autos transitada unas contado luz habitaciones pueden neza estacionamiento cisterna cuenta bano corriente drenaje\n",
       "121357    nbsp segunda casa planta completo habitaciones condiciones pueden rentar cada separado bano excelentes                                                                                                                                                                                                                                                                                                                                                                                                                                                                                      \n",
       "191008    santa tijuana excelente villas pasando recamaras plaza totalmente banos completos pajarita oportunidad dos ordenes independiente                                                                                                                                                                                                                                                                                                                                                                                                                                                            \n",
       "75414     recamaras controlados cocina electrico lavado tanque porton gimnasio caseta ademas salon cochera gas usos auto privada visitas estacionario aljibe vigilancia departamentos accesos multiples area contaran estacionamiento comedor ala                                                                                                                                                                                                                                                                                                                                                     \n",
       "159991    fraccionamientos hermosas felipe rentar credito independientes aprovecha escritura diferentes propiedades tramitamos lic deja ofertas bancario cerezo infonavit informes listas ciudad                                                                                                                                                                                                                                                                                                                                                                                                      \n",
       "200581    casa nueva hermosa lista recamaras avitarla perfectas acabados condiciones alberca lujo                                                                                                                                                                                                                                                                                                                                                                                                                                                                                                     \n",
       "24415     recamaras cocina propiedad sala ubicacion libre casa terraza cochera gravamen amplia buena alta planta baja excelente autos comedor bano                                                                                                                                                                                                                                                                                                                                                                                                                                                    \n",
       "103473    calle recamaras sala servicio lavado paseos medio cuarto casa garage tranquila bonita bosque amplia visitas banos autos area completos comedor bano                                                                                                                                                                                                                                                                                                                                                                                                                                         \n",
       "Name: descripcion_limpia, dtype: object"
      ]
     },
     "execution_count": 184,
     "metadata": {},
     "output_type": "execute_result"
    }
   ],
   "source": [
    "# df[\"titulo_limpio\"].sample(10)\n",
    "df[\"descripcion_limpia\"].sample(10)"
   ]
  },
  {
   "cell_type": "code",
   "execution_count": 185,
   "metadata": {},
   "outputs": [
    {
     "data": {
      "text/html": [
       "<div>\n",
       "<style scoped>\n",
       "    .dataframe tbody tr th:only-of-type {\n",
       "        vertical-align: middle;\n",
       "    }\n",
       "\n",
       "    .dataframe tbody tr th {\n",
       "        vertical-align: top;\n",
       "    }\n",
       "\n",
       "    .dataframe thead th {\n",
       "        text-align: right;\n",
       "    }\n",
       "</style>\n",
       "<table border=\"1\" class=\"dataframe\">\n",
       "  <thead>\n",
       "    <tr style=\"text-align: right;\">\n",
       "      <th></th>\n",
       "      <th>len_descripcion</th>\n",
       "      <th>precio</th>\n",
       "    </tr>\n",
       "  </thead>\n",
       "  <tbody>\n",
       "    <tr>\n",
       "      <td>len_descripcion</td>\n",
       "      <td>1.000000</td>\n",
       "      <td>0.098862</td>\n",
       "    </tr>\n",
       "    <tr>\n",
       "      <td>precio</td>\n",
       "      <td>0.098862</td>\n",
       "      <td>1.000000</td>\n",
       "    </tr>\n",
       "  </tbody>\n",
       "</table>\n",
       "</div>"
      ],
      "text/plain": [
       "                 len_descripcion    precio\n",
       "len_descripcion  1.000000         0.098862\n",
       "precio           0.098862         1.000000"
      ]
     },
     "execution_count": 185,
     "metadata": {},
     "output_type": "execute_result"
    }
   ],
   "source": [
    "df[[\"len_descripcion\",\"precio\"]].corr()"
   ]
  },
  {
   "cell_type": "code",
   "execution_count": 148,
   "metadata": {},
   "outputs": [],
   "source": [
    "from collections import Counter\n",
    "\n",
    "def get_word_counter(series):\n",
    "    \"\"\"\n",
    "        Faltaría analizar stemming\n",
    "    \"\"\"\n",
    "    counter = Counter()\n",
    "    for title in series.values:\n",
    "        counter.update(set(title.split()))\n",
    "    return counter"
   ]
  },
  {
   "cell_type": "code",
   "execution_count": 186,
   "metadata": {},
   "outputs": [],
   "source": [
    "titulo_palabras = get_word_counter(df[\"titulo_limpio\"])\n",
    "descripcion_palabras = get_word_counter(df[\"descripcion_limpia\"])"
   ]
  },
  {
   "cell_type": "code",
   "execution_count": 151,
   "metadata": {},
   "outputs": [
    {
     "name": "stdout",
     "output_type": "stream",
     "text": [
      "18578 72121\n"
     ]
    }
   ],
   "source": [
    "print(len(titulo_palabras),len(descripcion_palabras))"
   ]
  },
  {
   "cell_type": "code",
   "execution_count": 155,
   "metadata": {},
   "outputs": [],
   "source": [
    "# titulo_palabras.most_common(10)"
   ]
  },
  {
   "cell_type": "code",
   "execution_count": 96,
   "metadata": {},
   "outputs": [],
   "source": [
    "# descripcion_palabras.most_common(10)"
   ]
  },
  {
   "cell_type": "code",
   "execution_count": 156,
   "metadata": {},
   "outputs": [],
   "source": [
    "palabras_positivas = {\"conservacion\",\"tenis\",\"balcon\",\"panoramica\",\"exclusivos\",\"golf\",\"canchas\",\"remodelada\",\"acondicionado\",\"lujo\",\"jacuzzi\",\"diseno\",\"exclusiva\",\"magnifica\",\"exclusivo\",\"country\",\"precioso\",\"estilo\",\"seguridad\",\"verdes\",\"juegos\",\"servicio\",\"excelente\",\"terraza\",\"jardin\",\"hermosa\",\"vista\",\"bonita\",\"renta\", \"granito\"}\n",
    "palabras_negativas = {\"oportunidad\",\"remato\",\"oferta\",\"remodelar\"}"
   ]
  },
  {
   "cell_type": "code",
   "execution_count": 188,
   "metadata": {},
   "outputs": [
    {
     "data": {
      "text/html": [
       "<div>\n",
       "<style scoped>\n",
       "    .dataframe tbody tr th:only-of-type {\n",
       "        vertical-align: middle;\n",
       "    }\n",
       "\n",
       "    .dataframe tbody tr th {\n",
       "        vertical-align: top;\n",
       "    }\n",
       "\n",
       "    .dataframe thead th {\n",
       "        text-align: right;\n",
       "    }\n",
       "</style>\n",
       "<table border=\"1\" class=\"dataframe\">\n",
       "  <thead>\n",
       "    <tr style=\"text-align: right;\">\n",
       "      <th></th>\n",
       "      <th>palabras_positivas_descripcion</th>\n",
       "      <th>precio</th>\n",
       "    </tr>\n",
       "  </thead>\n",
       "  <tbody>\n",
       "    <tr>\n",
       "      <td>palabras_positivas_descripcion</td>\n",
       "      <td>1.000000</td>\n",
       "      <td>0.338492</td>\n",
       "    </tr>\n",
       "    <tr>\n",
       "      <td>precio</td>\n",
       "      <td>0.338492</td>\n",
       "      <td>1.000000</td>\n",
       "    </tr>\n",
       "  </tbody>\n",
       "</table>\n",
       "</div>"
      ],
      "text/plain": [
       "                                palabras_positivas_descripcion    precio\n",
       "palabras_positivas_descripcion  1.000000                        0.338492\n",
       "precio                          0.338492                        1.000000"
      ]
     },
     "execution_count": 188,
     "metadata": {},
     "output_type": "execute_result"
    }
   ],
   "source": [
    "df[\"palabras_positivas_descripcion\"] = df[\"descripcion_limpia\"].map(lambda x: len([y for y in x.split() if y in palabras_positivas]))\n",
    "df[[\"palabras_positivas_descripcion\",\"precio\"]].corr()"
   ]
  },
  {
   "cell_type": "code",
   "execution_count": 189,
   "metadata": {},
   "outputs": [
    {
     "data": {
      "text/html": [
       "<div>\n",
       "<style scoped>\n",
       "    .dataframe tbody tr th:only-of-type {\n",
       "        vertical-align: middle;\n",
       "    }\n",
       "\n",
       "    .dataframe tbody tr th {\n",
       "        vertical-align: top;\n",
       "    }\n",
       "\n",
       "    .dataframe thead th {\n",
       "        text-align: right;\n",
       "    }\n",
       "</style>\n",
       "<table border=\"1\" class=\"dataframe\">\n",
       "  <thead>\n",
       "    <tr style=\"text-align: right;\">\n",
       "      <th></th>\n",
       "      <th>palabras_negativas_descripcion</th>\n",
       "      <th>precio</th>\n",
       "    </tr>\n",
       "  </thead>\n",
       "  <tbody>\n",
       "    <tr>\n",
       "      <td>palabras_negativas_descripcion</td>\n",
       "      <td>1.000000</td>\n",
       "      <td>-0.026244</td>\n",
       "    </tr>\n",
       "    <tr>\n",
       "      <td>precio</td>\n",
       "      <td>-0.026244</td>\n",
       "      <td>1.000000</td>\n",
       "    </tr>\n",
       "  </tbody>\n",
       "</table>\n",
       "</div>"
      ],
      "text/plain": [
       "                                palabras_negativas_descripcion    precio\n",
       "palabras_negativas_descripcion  1.000000                       -0.026244\n",
       "precio                         -0.026244                        1.000000"
      ]
     },
     "execution_count": 189,
     "metadata": {},
     "output_type": "execute_result"
    }
   ],
   "source": [
    "df[\"palabras_negativas_descripcion\"] = df[\"descripcion_limpia\"].map(lambda x: len([y for y in x.split() if y in palabras_negativas]))\n",
    "df[[\"palabras_negativas_descripcion\",\"precio\"]].corr()"
   ]
  },
  {
   "cell_type": "code",
   "execution_count": 196,
   "metadata": {},
   "outputs": [
    {
     "data": {
      "text/plain": [
       "1     64744\n",
       "0     59049\n",
       "2     46790\n",
       "3     30454\n",
       "4     18382\n",
       "5     10290\n",
       "6     5407 \n",
       "7     2635 \n",
       "8     1241 \n",
       "9     571  \n",
       "10    221  \n",
       "11    98   \n",
       "12    58   \n",
       "14    31   \n",
       "13    20   \n",
       "15    8    \n",
       "16    1    \n",
       "Name: palabras_positivas_descripcion, dtype: int64"
      ]
     },
     "execution_count": 196,
     "metadata": {},
     "output_type": "execute_result"
    }
   ],
   "source": [
    "df.palabras_positivas_descripcion.value_counts()"
   ]
  },
  {
   "cell_type": "code",
   "execution_count": 199,
   "metadata": {},
   "outputs": [],
   "source": [
    "# df.loc[df.palabras_positivas_descripcion > 14][\"descripcion\"]"
   ]
  },
  {
   "cell_type": "code",
   "execution_count": 203,
   "metadata": {},
   "outputs": [
    {
     "data": {
      "text/plain": [
       "6791      <p>residencia para remodelar. excelente ubicación frente a parque se incluyen planos de propuesta de remodelacion. oferta única en el mercado. casa habitación de tres recamaras con baño cada una. amplios espacios y terrazas. alberca de 6x3, cuarto de estudios. jardín, cochera para tres autos. oportunidad para inversionistas o desarrolladores.</p>                                                                                                                                                                                                                                                                                                                                                                                                                                                                    \n",
       "108031    <table class=adviewcontent cellpadding=0>\\r\\n<tbody>\\r\\n<tr>\\r\\n<td valign=top>remato casa en claveria, para remodelar, excelente oportunidad actualmente la construccion cuenta con 4 recamaras, 2 banos completos, sala,cocina, recibidor, patio de tendido, cuarto de servicio, terraza, &aacute;rea de estacionamiento, ubicado en una de las principales calles de claveria, muy tranquilo. no lo piense mas! mas informes:  o . contamos con varias opciones en el df y estado de mexico&nbsp;</td>\\r\\n<td align=right valign=top>&nbsp;</td>\\r\\n</tr>\\r\\n</tbody>\\r\\n</table>\\r\\n<p>&nbsp;</p>                                                                                                                                                                                                                           \n",
       "111661    quieres casa en cumbres elite ?\\r\\naprovecha excelente oportunidad remato buenísima casa de  a \\r\\nurge escucho ofertas maraca ahora y pide informes no dejes pasar esta oferta¡                                                                                                                                                                                                                                                                                                                                                                                                                                                                                                                                                                                                                                                \n",
       "149494    terreno con casa para remodelar gran oportunidad  millones de pesos remato en fuente del mirador  n 30  tecamachalco animate comunicarse  graciela dominguez   nextel\\r\\n                                                                                                                                                                                                                                                                                                                                                                                                                                                                                                                                                                                                                                                       \n",
       "194605    excelente oferta   ideal para quien desea remodelar una excelente oportunidad, tiene derecho a clúster en el que encontramos cancha de tenis, alberca con calefacción solar, palapa con baños para hombres y mujeres y una extensa área verde para que los pequeños puedan divertirse, ubicada cerca del centro comercial, casa club, campo de golf y escuela del fraccionamiento lomas de cocoyoc.<br /><br />cuenta con cluster con cancha de tenis                                                                                                                                                                                                                                                                                                                                                                           \n",
       "219380    <p>casa sola en tepatitlan de morelos jalisco.</p>\\r\\n<p>!oportunidad inversionistas! !urge!</p>\\r\\n<p>&nbsp;</p>\\r\\n<p>se vende casa sola, amplio terreno, excelente para remodelar o ampliar.</p>\\r\\n<p>aprovecha la oferta, urge vender por tratarse de una herencia.</p>\\r\\n<p>avaluo de . pesos</p>\\r\\n<p>se vende en . se escuchan ofertas serias.</p>\\r\\n<p>listo para escriturar.</p>\\r\\n<p>&nbsp;</p>\\r\\n<p>3 recamaras( 2 recamaras y estudio )</p>\\r\\n<p>1 ba&ntilde;o( opcion a tener otro )</p>\\r\\n<p>area de cocina-comedor.</p>\\r\\n<p>patio muy amplio.</p>\\r\\n<p>amplio terreno en la parte posterior.</p>\\r\\n<p>muy buena ubicacion (cerca de la iglesia de san antonio)</p>\\r\\n<p>se entrega pintado.</p>\\r\\n<p>&nbsp;</p>\\r\\n<p>llama y pide cita para ver la casa o mandanos un correo.</p>\\r\\n<p>&nbsp;</p>\n",
       "Name: descripcion, dtype: object"
      ]
     },
     "execution_count": 203,
     "metadata": {},
     "output_type": "execute_result"
    }
   ],
   "source": [
    "df.loc[df.palabras_negativas_descripcion > 2][\"descripcion\"]"
   ]
  },
  {
   "cell_type": "code",
   "execution_count": 214,
   "metadata": {},
   "outputs": [
    {
     "name": "stderr",
     "output_type": "stream",
     "text": [
      "c:\\users\\dev\\repos\\fiuba\\75-06\\2019-2\\tp\\.venv\\lib\\site-packages\\ipykernel_launcher.py:3: SettingWithCopyWarning: \n",
      "A value is trying to be set on a copy of a slice from a DataFrame.\n",
      "Try using .loc[row_indexer,col_indexer] = value instead\n",
      "\n",
      "See the caveats in the documentation: http://pandas.pydata.org/pandas-docs/stable/user_guide/indexing.html#returning-a-view-versus-a-copy\n",
      "  This is separate from the ipykernel package so we can avoid doing imports until\n"
     ]
    },
    {
     "data": {
      "text/plain": [
       "precio           1.000000\n",
       "terraza          0.223338\n",
       "jardin           0.208592\n",
       "vista            0.194534\n",
       "jacuzzi          0.157660\n",
       "lujo             0.155200\n",
       "juegos           0.144366\n",
       "servicio         0.132612\n",
       "granito          0.102580\n",
       "estilo           0.099340\n",
       "hermosa          0.097818\n",
       "exclusivo        0.091339\n",
       "panoramica       0.087759\n",
       "precioso         0.086908\n",
       "balcon           0.081591\n",
       "tenis            0.073820\n",
       "excelente        0.065813\n",
       "golf             0.064149\n",
       "seguridad        0.060509\n",
       "exclusiva        0.055698\n",
       "diseno           0.052607\n",
       "country          0.051681\n",
       "remodelada       0.051611\n",
       "exclusivos       0.040721\n",
       "magnifica        0.039993\n",
       "conservacion     0.028719\n",
       "renta            0.026840\n",
       "acondicionado    0.022942\n",
       "canchas          0.021226\n",
       "verdes          -0.022241\n",
       "bonita          -0.040270\n",
       "Name: precio, dtype: float64"
      ]
     },
     "execution_count": 214,
     "metadata": {},
     "output_type": "execute_result"
    }
   ],
   "source": [
    "df_corr_positivas = df[[\"descripcion_limpia\",\"precio\"]]\n",
    "for palabra in palabras_positivas:\n",
    "    df_corr_positivas[palabra] = df_corr_positivas[\"descripcion_limpia\"].map(lambda x: int(palabra in x))\n",
    "df_corr_positivas.corr()[\"precio\"].sort_values(ascending=False)"
   ]
  },
  {
   "cell_type": "code",
   "execution_count": 215,
   "metadata": {},
   "outputs": [
    {
     "name": "stderr",
     "output_type": "stream",
     "text": [
      "c:\\users\\dev\\repos\\fiuba\\75-06\\2019-2\\tp\\.venv\\lib\\site-packages\\ipykernel_launcher.py:3: SettingWithCopyWarning: \n",
      "A value is trying to be set on a copy of a slice from a DataFrame.\n",
      "Try using .loc[row_indexer,col_indexer] = value instead\n",
      "\n",
      "See the caveats in the documentation: http://pandas.pydata.org/pandas-docs/stable/user_guide/indexing.html#returning-a-view-versus-a-copy\n",
      "  This is separate from the ipykernel package so we can avoid doing imports until\n"
     ]
    },
    {
     "data": {
      "text/plain": [
       "oportunidad   -0.042807\n",
       "oferta        -0.031834\n",
       "remato        -0.017778\n",
       "remodelar      0.049695\n",
       "precio         1.000000\n",
       "Name: precio, dtype: float64"
      ]
     },
     "execution_count": 215,
     "metadata": {},
     "output_type": "execute_result"
    }
   ],
   "source": [
    "df_corr_negativas = df[[\"descripcion_limpia\",\"precio\"]]\n",
    "for palabra in palabras_negativas:\n",
    "    df_corr_negativas[palabra] = df_corr_negativas[\"descripcion_limpia\"].map(lambda x: int(palabra in x))\n",
    "df_corr_negativas.corr()[\"precio\"].sort_values(ascending=True)"
   ]
  },
  {
   "cell_type": "code",
   "execution_count": 216,
   "metadata": {},
   "outputs": [
    {
     "name": "stderr",
     "output_type": "stream",
     "text": [
      "c:\\users\\dev\\repos\\fiuba\\75-06\\2019-2\\tp\\.venv\\lib\\site-packages\\ipykernel_launcher.py:3: SettingWithCopyWarning: \n",
      "A value is trying to be set on a copy of a slice from a DataFrame.\n",
      "Try using .loc[row_indexer,col_indexer] = value instead\n",
      "\n",
      "See the caveats in the documentation: http://pandas.pydata.org/pandas-docs/stable/user_guide/indexing.html#returning-a-view-versus-a-copy\n",
      "  This is separate from the ipykernel package so we can avoid doing imports until\n"
     ]
    },
    {
     "data": {
      "text/plain": [
       "precio           1.000000\n",
       "metrostotales    0.514411\n",
       "terraza          0.223338\n",
       "jardin           0.208592\n",
       "vista            0.194534\n",
       "jacuzzi          0.157660\n",
       "lujo             0.155200\n",
       "juegos           0.144366\n",
       "servicio         0.132612\n",
       "granito          0.102580\n",
       "estilo           0.099340\n",
       "hermosa          0.097818\n",
       "exclusivo        0.091339\n",
       "panoramica       0.087759\n",
       "precioso         0.086908\n",
       "balcon           0.081591\n",
       "tenis            0.073820\n",
       "excelente        0.065813\n",
       "golf             0.064149\n",
       "seguridad        0.060509\n",
       "exclusiva        0.055698\n",
       "diseno           0.052607\n",
       "country          0.051681\n",
       "remodelada       0.051611\n",
       "exclusivos       0.040721\n",
       "magnifica        0.039993\n",
       "conservacion     0.028719\n",
       "renta            0.026840\n",
       "acondicionado    0.022942\n",
       "canchas          0.021226\n",
       "verdes          -0.022241\n",
       "bonita          -0.040270\n",
       "Name: precio, dtype: float64"
      ]
     },
     "execution_count": 216,
     "metadata": {},
     "output_type": "execute_result"
    }
   ],
   "source": [
    "test = df[[\"descripcion_limpia\",\"precio\",\"metrostotales\"]]\n",
    "for palabra in palabras_positivas:\n",
    "    test[palabra] = test[\"descripcion_limpia\"].map(lambda x: int(palabra in x))"
   ]
  },
  {
   "cell_type": "code",
   "execution_count": 222,
   "metadata": {},
   "outputs": [
    {
     "data": {
      "text/plain": [
       "metrostotales    1.000000\n",
       "precio           0.514411\n",
       "jardin           0.234522\n",
       "terraza          0.184700\n",
       "vista            0.124387\n",
       "granito          0.109006\n",
       "jacuzzi          0.105397\n",
       "hermosa          0.102505\n",
       "servicio         0.087094\n",
       "lujo             0.077831\n",
       "estilo           0.074213\n",
       "juegos           0.065640\n",
       "panoramica       0.057353\n",
       "tenis            0.055924\n",
       "golf             0.055919\n",
       "acondicionado    0.052472\n",
       "exclusivo        0.044286\n",
       "exclusiva        0.042953\n",
       "country          0.037417\n",
       "diseno           0.030468\n",
       "magnifica        0.027192\n",
       "excelente        0.025536\n",
       "canchas          0.015788\n",
       "exclusivos       0.012004\n",
       "remodelada       0.010258\n",
       "precioso         0.006164\n",
       "balcon           0.002815\n",
       "renta            0.002466\n",
       "seguridad        0.001984\n",
       "conservacion    -0.005672\n",
       "verdes          -0.031609\n",
       "bonita          -0.036421\n",
       "Name: metrostotales, dtype: float64"
      ]
     },
     "execution_count": 222,
     "metadata": {},
     "output_type": "execute_result"
    }
   ],
   "source": []
  },
  {
   "cell_type": "code",
   "execution_count": 239,
   "metadata": {},
   "outputs": [],
   "source": [
    "top = list(set(test.corr()[\"metrostotales\"].sort_values(ascending=False).head(8).index).union(set(test.corr()[\"precio\"].sort_values(ascending=False).head(8).index)))"
   ]
  },
  {
   "cell_type": "code",
   "execution_count": 244,
   "metadata": {},
   "outputs": [],
   "source": [
    "test_corr = test[top].corr()\n",
    "test_corr[\"dif\"] = test_corr[\"precio\"] - test_corr[\"metrostotales\"]\n",
    "test_corr[\"dif\"] = abs(test_corr[\"dif\"])"
   ]
  },
  {
   "cell_type": "code",
   "execution_count": 246,
   "metadata": {},
   "outputs": [
    {
     "data": {
      "text/plain": [
       "precio           0.485589\n",
       "metrostotales    0.485589\n",
       "juegos           0.078725\n",
       "lujo             0.077370\n",
       "vista            0.070146\n",
       "jacuzzi          0.052263\n",
       "terraza          0.038639\n",
       "jardin           0.025931\n",
       "granito          0.006427\n",
       "hermosa          0.004686\n",
       "Name: dif, dtype: float64"
      ]
     },
     "execution_count": 246,
     "metadata": {},
     "output_type": "execute_result"
    }
   ],
   "source": [
    "test_corr[\"dif\"].sort_values(ascending=False)\n",
    "#estas se me ocurre que serian las palabras que mayor diferencia podrian hacer"
   ]
  },
  {
   "cell_type": "code",
   "execution_count": 247,
   "metadata": {},
   "outputs": [
    {
     "data": {
      "text/html": [
       "<div>\n",
       "<style scoped>\n",
       "    .dataframe tbody tr th:only-of-type {\n",
       "        vertical-align: middle;\n",
       "    }\n",
       "\n",
       "    .dataframe tbody tr th {\n",
       "        vertical-align: top;\n",
       "    }\n",
       "\n",
       "    .dataframe thead th {\n",
       "        text-align: right;\n",
       "    }\n",
       "</style>\n",
       "<table border=\"1\" class=\"dataframe\">\n",
       "  <thead>\n",
       "    <tr style=\"text-align: right;\">\n",
       "      <th></th>\n",
       "      <th>metrostotales</th>\n",
       "      <th>hermosa</th>\n",
       "      <th>jacuzzi</th>\n",
       "      <th>juegos</th>\n",
       "      <th>granito</th>\n",
       "      <th>terraza</th>\n",
       "      <th>jardin</th>\n",
       "      <th>precio</th>\n",
       "      <th>lujo</th>\n",
       "      <th>vista</th>\n",
       "      <th>dif</th>\n",
       "    </tr>\n",
       "  </thead>\n",
       "  <tbody>\n",
       "    <tr>\n",
       "      <td>metrostotales</td>\n",
       "      <td>1.000000</td>\n",
       "      <td>0.102505</td>\n",
       "      <td>0.105397</td>\n",
       "      <td>0.065640</td>\n",
       "      <td>0.109006</td>\n",
       "      <td>0.184700</td>\n",
       "      <td>0.234522</td>\n",
       "      <td>0.514411</td>\n",
       "      <td>0.077831</td>\n",
       "      <td>0.124387</td>\n",
       "      <td>0.485589</td>\n",
       "    </tr>\n",
       "    <tr>\n",
       "      <td>hermosa</td>\n",
       "      <td>0.102505</td>\n",
       "      <td>1.000000</td>\n",
       "      <td>0.047128</td>\n",
       "      <td>0.054155</td>\n",
       "      <td>0.080282</td>\n",
       "      <td>0.096229</td>\n",
       "      <td>0.122408</td>\n",
       "      <td>0.097818</td>\n",
       "      <td>0.067182</td>\n",
       "      <td>0.156207</td>\n",
       "      <td>0.004686</td>\n",
       "    </tr>\n",
       "    <tr>\n",
       "      <td>jacuzzi</td>\n",
       "      <td>0.105397</td>\n",
       "      <td>0.047128</td>\n",
       "      <td>1.000000</td>\n",
       "      <td>0.109528</td>\n",
       "      <td>0.040159</td>\n",
       "      <td>0.120713</td>\n",
       "      <td>0.102968</td>\n",
       "      <td>0.157660</td>\n",
       "      <td>0.066057</td>\n",
       "      <td>0.094428</td>\n",
       "      <td>0.052263</td>\n",
       "    </tr>\n",
       "    <tr>\n",
       "      <td>juegos</td>\n",
       "      <td>0.065640</td>\n",
       "      <td>0.054155</td>\n",
       "      <td>0.109528</td>\n",
       "      <td>1.000000</td>\n",
       "      <td>0.055081</td>\n",
       "      <td>0.111850</td>\n",
       "      <td>0.146598</td>\n",
       "      <td>0.144366</td>\n",
       "      <td>0.046619</td>\n",
       "      <td>0.101708</td>\n",
       "      <td>0.078725</td>\n",
       "    </tr>\n",
       "    <tr>\n",
       "      <td>granito</td>\n",
       "      <td>0.109006</td>\n",
       "      <td>0.080282</td>\n",
       "      <td>0.040159</td>\n",
       "      <td>0.055081</td>\n",
       "      <td>1.000000</td>\n",
       "      <td>0.163145</td>\n",
       "      <td>0.148632</td>\n",
       "      <td>0.102580</td>\n",
       "      <td>0.164585</td>\n",
       "      <td>0.094475</td>\n",
       "      <td>0.006427</td>\n",
       "    </tr>\n",
       "    <tr>\n",
       "      <td>terraza</td>\n",
       "      <td>0.184700</td>\n",
       "      <td>0.096229</td>\n",
       "      <td>0.120713</td>\n",
       "      <td>0.111850</td>\n",
       "      <td>0.163145</td>\n",
       "      <td>1.000000</td>\n",
       "      <td>0.207999</td>\n",
       "      <td>0.223338</td>\n",
       "      <td>0.113100</td>\n",
       "      <td>0.191207</td>\n",
       "      <td>0.038639</td>\n",
       "    </tr>\n",
       "    <tr>\n",
       "      <td>jardin</td>\n",
       "      <td>0.234522</td>\n",
       "      <td>0.122408</td>\n",
       "      <td>0.102968</td>\n",
       "      <td>0.146598</td>\n",
       "      <td>0.148632</td>\n",
       "      <td>0.207999</td>\n",
       "      <td>1.000000</td>\n",
       "      <td>0.208592</td>\n",
       "      <td>0.071130</td>\n",
       "      <td>0.124513</td>\n",
       "      <td>0.025931</td>\n",
       "    </tr>\n",
       "    <tr>\n",
       "      <td>precio</td>\n",
       "      <td>0.514411</td>\n",
       "      <td>0.097818</td>\n",
       "      <td>0.157660</td>\n",
       "      <td>0.144366</td>\n",
       "      <td>0.102580</td>\n",
       "      <td>0.223338</td>\n",
       "      <td>0.208592</td>\n",
       "      <td>1.000000</td>\n",
       "      <td>0.155200</td>\n",
       "      <td>0.194534</td>\n",
       "      <td>0.485589</td>\n",
       "    </tr>\n",
       "    <tr>\n",
       "      <td>lujo</td>\n",
       "      <td>0.077831</td>\n",
       "      <td>0.067182</td>\n",
       "      <td>0.066057</td>\n",
       "      <td>0.046619</td>\n",
       "      <td>0.164585</td>\n",
       "      <td>0.113100</td>\n",
       "      <td>0.071130</td>\n",
       "      <td>0.155200</td>\n",
       "      <td>1.000000</td>\n",
       "      <td>0.107811</td>\n",
       "      <td>0.077370</td>\n",
       "    </tr>\n",
       "    <tr>\n",
       "      <td>vista</td>\n",
       "      <td>0.124387</td>\n",
       "      <td>0.156207</td>\n",
       "      <td>0.094428</td>\n",
       "      <td>0.101708</td>\n",
       "      <td>0.094475</td>\n",
       "      <td>0.191207</td>\n",
       "      <td>0.124513</td>\n",
       "      <td>0.194534</td>\n",
       "      <td>0.107811</td>\n",
       "      <td>1.000000</td>\n",
       "      <td>0.070146</td>\n",
       "    </tr>\n",
       "  </tbody>\n",
       "</table>\n",
       "</div>"
      ],
      "text/plain": [
       "               metrostotales   hermosa   jacuzzi    juegos   granito  \\\n",
       "metrostotales  1.000000       0.102505  0.105397  0.065640  0.109006   \n",
       "hermosa        0.102505       1.000000  0.047128  0.054155  0.080282   \n",
       "jacuzzi        0.105397       0.047128  1.000000  0.109528  0.040159   \n",
       "juegos         0.065640       0.054155  0.109528  1.000000  0.055081   \n",
       "granito        0.109006       0.080282  0.040159  0.055081  1.000000   \n",
       "terraza        0.184700       0.096229  0.120713  0.111850  0.163145   \n",
       "jardin         0.234522       0.122408  0.102968  0.146598  0.148632   \n",
       "precio         0.514411       0.097818  0.157660  0.144366  0.102580   \n",
       "lujo           0.077831       0.067182  0.066057  0.046619  0.164585   \n",
       "vista          0.124387       0.156207  0.094428  0.101708  0.094475   \n",
       "\n",
       "                terraza    jardin    precio      lujo     vista       dif  \n",
       "metrostotales  0.184700  0.234522  0.514411  0.077831  0.124387  0.485589  \n",
       "hermosa        0.096229  0.122408  0.097818  0.067182  0.156207  0.004686  \n",
       "jacuzzi        0.120713  0.102968  0.157660  0.066057  0.094428  0.052263  \n",
       "juegos         0.111850  0.146598  0.144366  0.046619  0.101708  0.078725  \n",
       "granito        0.163145  0.148632  0.102580  0.164585  0.094475  0.006427  \n",
       "terraza        1.000000  0.207999  0.223338  0.113100  0.191207  0.038639  \n",
       "jardin         0.207999  1.000000  0.208592  0.071130  0.124513  0.025931  \n",
       "precio         0.223338  0.208592  1.000000  0.155200  0.194534  0.485589  \n",
       "lujo           0.113100  0.071130  0.155200  1.000000  0.107811  0.077370  \n",
       "vista          0.191207  0.124513  0.194534  0.107811  1.000000  0.070146  "
      ]
     },
     "execution_count": 247,
     "metadata": {},
     "output_type": "execute_result"
    }
   ],
   "source": [
    "test_corr"
   ]
  }
 ],
 "metadata": {
  "kernelspec": {
   "display_name": "Python 3",
   "language": "python",
   "name": "python3"
  },
  "language_info": {
   "codemirror_mode": {
    "name": "ipython",
    "version": 3
   },
   "file_extension": ".py",
   "mimetype": "text/x-python",
   "name": "python",
   "nbconvert_exporter": "python",
   "pygments_lexer": "ipython3",
   "version": "3.7.0"
  }
 },
 "nbformat": 4,
 "nbformat_minor": 4
}

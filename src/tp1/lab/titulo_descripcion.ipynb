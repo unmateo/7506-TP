{
 "cells": [
  {
   "cell_type": "markdown",
   "metadata": {},
   "source": [
    "## Campos involucrados\n",
    "\n",
    "- titulo\n",
    "- descripcion\n",
    "\n",
    "## Ideas\n",
    "\n",
    "- wordcloud\n",
    "- normalizacion\n",
    "- stemming\n",
    "\n"
   ]
  },
  {
   "cell_type": "code",
   "execution_count": 3,
   "metadata": {},
   "outputs": [
    {
     "data": {
      "text/plain": [
       "Index(['id', 'titulo', 'descripcion', 'tipodepropiedad', 'direccion', 'ciudad',\n",
       "       'provincia', 'antiguedad', 'habitaciones', 'garages', 'banos',\n",
       "       'metroscubiertos', 'metrostotales', 'idzona', 'lat', 'lng', 'fecha',\n",
       "       'gimnasio', 'usosmultiples', 'piscina', 'escuelascercanas',\n",
       "       'centroscomercialescercanos', 'precio', 'mes', 'ano', 'dia'],\n",
       "      dtype='object')"
      ]
     },
     "execution_count": 3,
     "metadata": {},
     "output_type": "execute_result"
    }
   ],
   "source": [
    "#importo las funciones para levantar los dataframes\n",
    "%run \"../../utils/dataset_parsing.ipynb\"\n",
    "#importo las funciones para graficar\n",
    "%run \"../../utils/graphs.ipynb\"\n",
    "df = levantar_datos(\"../../\"+DATASET_RELATIVE_PATH)\n",
    "df.columns"
   ]
  },
  {
   "cell_type": "code",
   "execution_count": 4,
   "metadata": {},
   "outputs": [],
   "source": [
    "import nltk  \n",
    "from nltk.corpus import stopwords  \n",
    "from string import punctuation  "
   ]
  },
  {
   "cell_type": "code",
   "execution_count": 5,
   "metadata": {},
   "outputs": [],
   "source": [
    "spanish_stopwords = set(stopwords.words('spanish'))\n",
    "non_words = set(punctuation)\n",
    "non_words.update({'¿', '¡'})\n",
    "non_words.update(map(str,range(10)))"
   ]
  },
  {
   "cell_type": "code",
   "execution_count": 79,
   "metadata": {},
   "outputs": [],
   "source": [
    "def add_to_dict(word, dictionary):\n",
    "    dictionary[word] = dictionary.get(word, 0) + 1 \n",
    "\n",
    "def get_word_count(series):\n",
    "    \"\"\"\n",
    "    \n",
    "    \"\"\"\n",
    "    words_count = {}\n",
    "    no_words_count = {}\n",
    "    for title in series.values:\n",
    "        if not isinstance(title,str): continue\n",
    "        words = title.split()\n",
    "        for word in words:\n",
    "            text = ''.join([\" \" if c in non_words else c for c in word]).strip()\n",
    "            if text in spanish_stopwords: \n",
    "                add_to_dict(text, no_words_count)\n",
    "                continue\n",
    "            add_to_dict(text, words_count)\n",
    "    return words_count, no_words_count"
   ]
  },
  {
   "cell_type": "code",
   "execution_count": 116,
   "metadata": {},
   "outputs": [],
   "source": [
    "from collections import Counter\n",
    "\n",
    "def get_word_counters(series):\n",
    "    \"\"\"\n",
    "        Faltaría hacer stemming\n",
    "    \"\"\"\n",
    "    words_counter = Counter()\n",
    "    no_words_counter = Counter()\n",
    "    for title in series.values:\n",
    "        if not isinstance(title,str): continue\n",
    "        words = filter(lambda x: len(x)>2, title.split())\n",
    "        for word in words:\n",
    "            text = ''.join([\" \" if c in non_words else c for c in word]).strip()\n",
    "            text_ok = len(text) > 2 and not text in spanish_stopwords\n",
    "            counter_to_update = words_counter if text_ok else no_words_counter \n",
    "            counter_to_update.update({text})\n",
    "    return words_counter, no_words_counter"
   ]
  },
  {
   "cell_type": "code",
   "execution_count": 117,
   "metadata": {},
   "outputs": [],
   "source": [
    "titulo_palabras, titulo_no_palabras = get_word_counters(df[\"titulo\"])"
   ]
  },
  {
   "cell_type": "code",
   "execution_count": 119,
   "metadata": {},
   "outputs": [],
   "source": [
    "descripcion_palabras, descripcion_no_palabras = get_word_counters(df[\"descripcion\"])"
   ]
  },
  {
   "cell_type": "code",
   "execution_count": 120,
   "metadata": {},
   "outputs": [
    {
     "name": "stdout",
     "output_type": "stream",
     "text": [
      "25477 406 174523 585\n"
     ]
    }
   ],
   "source": [
    "print(len(titulo_palabras), len(titulo_no_palabras), len(descripcion_palabras), len(descripcion_no_palabras))"
   ]
  },
  {
   "cell_type": "code",
   "execution_count": 118,
   "metadata": {},
   "outputs": [
    {
     "data": {
      "text/plain": [
       "[('casa', 121528),\n",
       " ('venta', 104820),\n",
       " ('departamento', 38162),\n",
       " ('san', 16410),\n",
       " ('excelente', 12397),\n",
       " ('lomas', 11088),\n",
       " ('terreno', 10608),\n",
       " ('col', 10349),\n",
       " ('residencial', 10035),\n",
       " ('hermosa', 9299),\n",
       " ('condominio', 8538),\n",
       " ('valle', 7861),\n",
       " ('oportunidad', 6847),\n",
       " ('santa', 6844),\n",
       " ('fracc', 6272),\n",
       " ('fraccionamiento', 6028),\n",
       " ('nueva', 5896),\n",
       " ('casas', 5847),\n",
       " ('remate', 5602),\n",
       " ('bonita', 5445)]"
      ]
     },
     "execution_count": 118,
     "metadata": {},
     "output_type": "execute_result"
    }
   ],
   "source": [
    "titulo_palabras.most_common(20)"
   ]
  },
  {
   "cell_type": "code",
   "execution_count": 122,
   "metadata": {},
   "outputs": [
    {
     "data": {
      "text/plain": [
       "[('baño', 185496),\n",
       " ('cocina', 155094),\n",
       " ('casa', 148033),\n",
       " ('sala', 129318),\n",
       " ('recamaras', 114087),\n",
       " ('comedor', 108051),\n",
       " ('cuenta', 88651),\n",
       " ('p  p', 82425),\n",
       " ('servicio', 80654),\n",
       " ('dos', 76341),\n",
       " ('cuarto', 72810),\n",
       " ('planta', 70813),\n",
       " ('baños', 70715),\n",
       " ('completo', 66226),\n",
       " ('principal', 61872),\n",
       " ('estacionamiento', 61793),\n",
       " ('excelente', 58634),\n",
       " ('integral', 58423),\n",
       " ('lavado', 58311),\n",
       " ('autos', 55402)]"
      ]
     },
     "execution_count": 122,
     "metadata": {},
     "output_type": "execute_result"
    }
   ],
   "source": [
    "descripcion_palabras.most_common(20)"
   ]
  }
 ],
 "metadata": {
  "kernelspec": {
   "display_name": "Python 3",
   "language": "python",
   "name": "python3"
  },
  "language_info": {
   "codemirror_mode": {
    "name": "ipython",
    "version": 3
   },
   "file_extension": ".py",
   "mimetype": "text/x-python",
   "name": "python",
   "nbconvert_exporter": "python",
   "pygments_lexer": "ipython3",
   "version": "3.7.0"
  }
 },
 "nbformat": 4,
 "nbformat_minor": 4
}

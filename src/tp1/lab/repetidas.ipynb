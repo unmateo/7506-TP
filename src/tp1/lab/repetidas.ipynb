{
 "cells": [
  {
   "cell_type": "markdown",
   "metadata": {},
   "source": [
    "### Analizaremos la existencia de publicaciones repetidas"
   ]
  },
  {
   "cell_type": "code",
   "execution_count": 35,
   "metadata": {},
   "outputs": [],
   "source": [
    "import pandas as pd\n",
    "#importo las funciones para levantar los dataframes\n",
    "%run \"../../utils/dataset_parsing.ipynb\"\n",
    "df = levantar_datos(\"../../\"+DATASET_RELATIVE_PATH)\n",
    "#importo las funciones para graficar\n",
    "%run \"../../utils/graphs.ipynb\""
   ]
  },
  {
   "cell_type": "markdown",
   "metadata": {},
   "source": [
    "### Consideramos que una publicación es igual a otra si comparten ciudad, precio, direccion, tipo de propiedad y metros totales. "
   ]
  },
  {
   "cell_type": "code",
   "execution_count": 57,
   "metadata": {},
   "outputs": [
    {
     "data": {
      "text/html": [
       "<div>\n",
       "<style scoped>\n",
       "    .dataframe tbody tr th:only-of-type {\n",
       "        vertical-align: middle;\n",
       "    }\n",
       "\n",
       "    .dataframe tbody tr th {\n",
       "        vertical-align: top;\n",
       "    }\n",
       "\n",
       "    .dataframe thead th {\n",
       "        text-align: right;\n",
       "    }\n",
       "</style>\n",
       "<table border=\"1\" class=\"dataframe\">\n",
       "  <thead>\n",
       "    <tr style=\"text-align: right;\">\n",
       "      <th></th>\n",
       "      <th></th>\n",
       "      <th></th>\n",
       "      <th></th>\n",
       "      <th></th>\n",
       "      <th></th>\n",
       "      <th>id</th>\n",
       "    </tr>\n",
       "    <tr>\n",
       "      <th>ciudad</th>\n",
       "      <th>provincia</th>\n",
       "      <th>precio</th>\n",
       "      <th>direccion</th>\n",
       "      <th>metrostotales</th>\n",
       "      <th>tipodepropiedad</th>\n",
       "      <th></th>\n",
       "    </tr>\n",
       "  </thead>\n",
       "  <tbody>\n",
       "    <tr>\n",
       "      <td rowspan=\"2\" valign=\"top\">Aguascalientes</td>\n",
       "      <td rowspan=\"2\" valign=\"top\">Aguascalientes</td>\n",
       "      <td>1330000.0</td>\n",
       "      <td>José Guadalupe Posada</td>\n",
       "      <td>120.0</td>\n",
       "      <td>Casa</td>\n",
       "      <td>2</td>\n",
       "    </tr>\n",
       "    <tr>\n",
       "      <td>1995000.0</td>\n",
       "      <td>Sierra del Humo 311</td>\n",
       "      <td>230.0</td>\n",
       "      <td>Casa</td>\n",
       "      <td>2</td>\n",
       "    </tr>\n",
       "    <tr>\n",
       "      <td rowspan=\"2\" valign=\"top\">Alvarado</td>\n",
       "      <td rowspan=\"2\" valign=\"top\">Veracruz</td>\n",
       "      <td>1890000.0</td>\n",
       "      <td>lomas de la rioja</td>\n",
       "      <td>158.0</td>\n",
       "      <td>Casa</td>\n",
       "      <td>2</td>\n",
       "    </tr>\n",
       "    <tr>\n",
       "      <td>2700000.0</td>\n",
       "      <td>LOMAS DEL VALLE</td>\n",
       "      <td>200.0</td>\n",
       "      <td>Casa</td>\n",
       "      <td>2</td>\n",
       "    </tr>\n",
       "    <tr>\n",
       "      <td>Alvaro Obregón</td>\n",
       "      <td>Distrito Federal</td>\n",
       "      <td>1400000.0</td>\n",
       "      <td>Lomas de Plateros</td>\n",
       "      <td>75.0</td>\n",
       "      <td>Apartamento</td>\n",
       "      <td>2</td>\n",
       "    </tr>\n",
       "    <tr>\n",
       "      <td>...</td>\n",
       "      <td>...</td>\n",
       "      <td>...</td>\n",
       "      <td>...</td>\n",
       "      <td>...</td>\n",
       "      <td>...</td>\n",
       "      <td>...</td>\n",
       "    </tr>\n",
       "    <tr>\n",
       "      <td>Zapopan</td>\n",
       "      <td>Jalisco</td>\n",
       "      <td>3800000.0</td>\n",
       "      <td>jardin de los pistaches</td>\n",
       "      <td>228.0</td>\n",
       "      <td>Casa</td>\n",
       "      <td>3</td>\n",
       "    </tr>\n",
       "    <tr>\n",
       "      <td>Zempoala</td>\n",
       "      <td>Hidalgo</td>\n",
       "      <td>900000.0</td>\n",
       "      <td>San Matilde Zempoala</td>\n",
       "      <td>105.0</td>\n",
       "      <td>Casa</td>\n",
       "      <td>2</td>\n",
       "    </tr>\n",
       "    <tr>\n",
       "      <td>Chiautla</td>\n",
       "      <td>Edo. de México</td>\n",
       "      <td>990000.0</td>\n",
       "      <td>Circuito San Francisco</td>\n",
       "      <td>71.0</td>\n",
       "      <td>Casa</td>\n",
       "      <td>2</td>\n",
       "    </tr>\n",
       "    <tr>\n",
       "      <td rowspan=\"2\" valign=\"top\">San Francisco de los Romo</td>\n",
       "      <td rowspan=\"2\" valign=\"top\">Aguascalientes</td>\n",
       "      <td>398000.0</td>\n",
       "      <td>Profesor Refugio Lara Martinez L119 - M01</td>\n",
       "      <td>252.0</td>\n",
       "      <td>Terreno</td>\n",
       "      <td>2</td>\n",
       "    </tr>\n",
       "    <tr>\n",
       "      <td>600000.0</td>\n",
       "      <td>San Francisco de los Romo</td>\n",
       "      <td>250.0</td>\n",
       "      <td>Casa</td>\n",
       "      <td>2</td>\n",
       "    </tr>\n",
       "  </tbody>\n",
       "</table>\n",
       "<p>369 rows × 1 columns</p>\n",
       "</div>"
      ],
      "text/plain": [
       "                                                                                                                              id\n",
       "ciudad                    provincia        precio    direccion                                 metrostotales tipodepropiedad    \n",
       "Aguascalientes            Aguascalientes   1330000.0 José Guadalupe Posada                     120.0         Casa              2\n",
       "                                           1995000.0 Sierra del Humo 311                       230.0         Casa              2\n",
       "Alvarado                  Veracruz         1890000.0 lomas de la rioja                         158.0         Casa              2\n",
       "                                           2700000.0 LOMAS DEL VALLE                           200.0         Casa              2\n",
       "Alvaro Obregón            Distrito Federal 1400000.0 Lomas de Plateros                         75.0          Apartamento       2\n",
       "...                                                                                                                           ..\n",
       "Zapopan                   Jalisco          3800000.0 jardin de los pistaches                   228.0         Casa              3\n",
       "Zempoala                  Hidalgo          900000.0  San Matilde Zempoala                      105.0         Casa              2\n",
       "Chiautla                  Edo. de México   990000.0  Circuito San Francisco                    71.0          Casa              2\n",
       "San Francisco de los Romo Aguascalientes   398000.0  Profesor Refugio Lara Martinez L119 - M01 252.0         Terreno           2\n",
       "                                           600000.0  San Francisco de los Romo                 250.0         Casa              2\n",
       "\n",
       "[369 rows x 1 columns]"
      ]
     },
     "execution_count": 57,
     "metadata": {},
     "output_type": "execute_result"
    }
   ],
   "source": [
    "repetidas = df.groupby(['ciudad','provincia','precio','direccion','metrostotales','tipodepropiedad']).agg({\"id\":\"count\"})\n",
    "repetidas=repetidas.loc[repetidas.id>1]\n",
    "repetidas"
   ]
  },
  {
   "cell_type": "markdown",
   "metadata": {},
   "source": [
    "### La cantidad de publicaciones repetidas según nuestro criterio no es significativa frente al total de los datos. Quisieramos mencionar que en el caso de diferentes departamentos con iguales caracteristicas en un mismo edificio, las publicaciones matchearán como repetidas."
   ]
  },
  {
   "cell_type": "code",
   "execution_count": 58,
   "metadata": {},
   "outputs": [
    {
     "data": {
      "text/plain": [
       "<matplotlib.axes._subplots.AxesSubplot at 0x7faabdffc190>"
      ]
     },
     "execution_count": 58,
     "metadata": {},
     "output_type": "execute_result"
    },
    {
     "data": {
      "image/png": "[encoded data removed]",
      "text/plain": [
       "<Figure size 864x432 with 1 Axes>"
      ]
     },
     "metadata": {
      "needs_background": "light"
     },
     "output_type": "display_data"
    }
   ],
   "source": [
    "repetidas=repetidas.groupby(\"tipodepropiedad\").agg({\"id\":\"count\"})\n",
    "repetidas=repetidas.rename(columns={\"id\":\"total\"})\n",
    "get_barplot(repetidas[\"total\"], title=\"Tipo de propiedad de las publicaciones repetidas\", x_label=\"Tipo de propiedad\", y_label=\"Total\",)"
   ]
  },
  {
   "cell_type": "markdown",
   "metadata": {},
   "source": [
    "#### El grafico nos permite ver que la cantidad de apartamentos repetidos es muy baja, de modo que la influencia de departamentos iguales en un edificio es casi nula."
   ]
  }
 ],
 "metadata": {
  "kernelspec": {
   "display_name": "Python 3",
   "language": "python",
   "name": "python3"
  },
  "language_info": {
   "codemirror_mode": {
    "name": "ipython",
    "version": 3
   },
   "file_extension": ".py",
   "mimetype": "text/x-python",
   "name": "python",
   "nbconvert_exporter": "python",
   "pygments_lexer": "ipython3",
   "version": "3.7.4"
  }
 },
 "nbformat": 4,
 "nbformat_minor": 4
}

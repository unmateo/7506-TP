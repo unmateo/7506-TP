{
 "cells": [
  {
   "cell_type": "markdown",
   "metadata": {},
   "source": [
    "## Campos involucrados\n",
    "\n",
    "- direccion\n",
    "- idzona\n",
    "- ciudad\n",
    "- provincia\n",
    "- lat\n",
    "- lng\n",
    "\n",
    "## Objetivos\n",
    "\n",
    "- Normalizar (provincia, ciudad, dirección)\n",
    "- Agregar información (geometry)\n",
    "- Métodos para graficar (cantidad+densidad)\n",
    "- Método para definir si x publicación está en una geometry\n",
    "\n",
    "- Agregar información externa (distrito electoral, etc.)\n"
   ]
  },
  {
   "cell_type": "code",
   "execution_count": 42,
   "metadata": {},
   "outputs": [],
   "source": [
    "import pandas as pd\n",
    "import geopandas\n",
    "import matplotlib.pyplot as plt\n",
    "from shapely.geometry import Point, Polygon"
   ]
  },
  {
   "cell_type": "code",
   "execution_count": 43,
   "metadata": {},
   "outputs": [],
   "source": [
    "#importo las funciones para levantar los dataframes\n",
    "%run \"../../utils/dataset_parsing.ipynb\"\n",
    "#importo las funciones para graficar\n",
    "%run \"../../utils/graphs.ipynb\""
   ]
  },
  {
   "cell_type": "code",
   "execution_count": 44,
   "metadata": {},
   "outputs": [],
   "source": [
    "pais = geopandas.read_file(\"./MEX_adm/MEX_adm0.shp\")\n",
    "estados = geopandas.read_file(\"./MEX_adm/MEX_adm1.shp\")\n",
    "municipios = geopandas.read_file(\"./MEX_adm/MEX_adm2.shp\")\n",
    "ciudades = geopandas.read_file(\"./México_Centros_Urbanos/México_Centros_Urbanos.shp\")\n",
    "mexico_polygon = pais.iloc[0][\"geometry\"]"
   ]
  },
  {
   "cell_type": "code",
   "execution_count": 74,
   "metadata": {},
   "outputs": [],
   "source": [
    "df = levantar_datos(\"../../\"+DATASET_RELATIVE_PATH)\n",
    "df[\"tiene_gps\"] = ~ (df[\"lat\"].isna() & df[\"lng\"].isna())\n",
    "crear_punto = lambda x: Point(x[\"lng\"],x[\"lat\"]) if x[\"tiene_gps\"] else None\n",
    "df[\"coord\"] = df.apply(crear_punto, axis=1)"
   ]
  },
  {
   "cell_type": "code",
   "execution_count": 46,
   "metadata": {},
   "outputs": [],
   "source": [
    "def esta_en_mexico(point: Point) -> bool:\n",
    "    \"\"\" \n",
    "        Recibe un punto (lat,lng) y devuelve (muy aproximadamente) True si está dentro de Mexico, False si no.\n",
    "        Hacerlo con ```df[\"coord\"].map(lambda x: mexico_polygon.contains(x))``` sería muy lento.\n",
    "    \"\"\"\n",
    "    MEX_MIN_LNG, MEX_MAX_LNG = (-120, -85)\n",
    "    MEX_MIN_LAT, MEX_MAX_LAT = (14,33)\n",
    "    return (MEX_MIN_LNG < point.x < MEX_MAX_LNG) and (MEX_MIN_LAT < point.y < MEX_MAX_LAT)"
   ]
  },
  {
   "cell_type": "code",
   "execution_count": 47,
   "metadata": {},
   "outputs": [],
   "source": [
    "df[\"en_mexico\"] = df.loc[df[\"tiene_gps\"]][\"coord\"].map(esta_en_mexico)"
   ]
  },
  {
   "cell_type": "code",
   "execution_count": 48,
   "metadata": {},
   "outputs": [
    {
     "data": {
      "text/plain": [
       "True     115871\n",
       "False       641\n",
       "Name: en_mexico, dtype: int64"
      ]
     },
     "execution_count": 48,
     "metadata": {},
     "output_type": "execute_result"
    }
   ],
   "source": [
    "df[\"en_mexico\"].value_counts()"
   ]
  },
  {
   "cell_type": "code",
   "execution_count": 49,
   "metadata": {},
   "outputs": [],
   "source": [
    "geoDF = geopandas.GeoDataFrame(df.loc[df[\"tiene_gps\"] & df[\"en_mexico\"]], geometry=\"coord\")"
   ]
  },
  {
   "cell_type": "code",
   "execution_count": 50,
   "metadata": {},
   "outputs": [],
   "source": [
    "def dibujar_mexico(puntos):\n",
    "    grafico = pais.plot(figsize=(18,9))\n",
    "    estados.plot(ax=grafico, color=\"white\")\n",
    "#     municipios.plot(ax=grafico, color=\"white\")\n",
    "    # ciudades.plot(ax=grafico, color=\"yellow\")\n",
    "    puntos.plot(ax=grafico, color=\"green\")"
   ]
  },
  {
   "cell_type": "code",
   "execution_count": 51,
   "metadata": {},
   "outputs": [],
   "source": [
    "def fix_provincias(df, provincias) -> bool:\n",
    "    # le cambio los nombres a las siguientes provincias, para que coincidan con mi info geografica \n",
    "    provincias_mapper = {\n",
    "        \"Baja California Norte\": \"Baja California\",\n",
    "        \"Edo. de México\": \"México\",\n",
    "        \"San luis Potosí\": \"San Luis Potosí\"\n",
    "    }\n",
    "    df[\"estado\"] = df[\"provincia\"].map(lambda x: provincias_mapper.get(x, x))\n",
    "    return set(validos[\"provincia\"].dropna().unique()) == set(provincias[\"NAME_1\"]) #verifico"
   ]
  },
  {
   "cell_type": "code",
   "execution_count": 52,
   "metadata": {},
   "outputs": [
    {
     "ename": "NameError",
     "evalue": "name 'validos' is not defined",
     "output_type": "error",
     "traceback": [
      "\u001b[0;31m---------------------------------------------------------------------------\u001b[0m",
      "\u001b[0;31mNameError\u001b[0m                                 Traceback (most recent call last)",
      "\u001b[0;32m<ipython-input-52-7801c47344c2>\u001b[0m in \u001b[0;36m<module>\u001b[0;34m\u001b[0m\n\u001b[0;32m----> 1\u001b[0;31m \u001b[0mfix_provincias\u001b[0m\u001b[0;34m(\u001b[0m\u001b[0mgeoDF\u001b[0m\u001b[0;34m,\u001b[0m \u001b[0mestados\u001b[0m\u001b[0;34m)\u001b[0m\u001b[0;34m\u001b[0m\u001b[0;34m\u001b[0m\u001b[0m\n\u001b[0m",
      "\u001b[0;32m<ipython-input-51-112a8db51a16>\u001b[0m in \u001b[0;36mfix_provincias\u001b[0;34m(df, provincias)\u001b[0m\n\u001b[1;32m      7\u001b[0m     }\n\u001b[1;32m      8\u001b[0m     \u001b[0mdf\u001b[0m\u001b[0;34m[\u001b[0m\u001b[0;34m\"estado\"\u001b[0m\u001b[0;34m]\u001b[0m \u001b[0;34m=\u001b[0m \u001b[0mdf\u001b[0m\u001b[0;34m[\u001b[0m\u001b[0;34m\"provincia\"\u001b[0m\u001b[0;34m]\u001b[0m\u001b[0;34m.\u001b[0m\u001b[0mmap\u001b[0m\u001b[0;34m(\u001b[0m\u001b[0;32mlambda\u001b[0m \u001b[0mx\u001b[0m\u001b[0;34m:\u001b[0m \u001b[0mprovincias_mapper\u001b[0m\u001b[0;34m.\u001b[0m\u001b[0mget\u001b[0m\u001b[0;34m(\u001b[0m\u001b[0mx\u001b[0m\u001b[0;34m,\u001b[0m \u001b[0mx\u001b[0m\u001b[0;34m)\u001b[0m\u001b[0;34m)\u001b[0m\u001b[0;34m\u001b[0m\u001b[0;34m\u001b[0m\u001b[0m\n\u001b[0;32m----> 9\u001b[0;31m     \u001b[0;32mreturn\u001b[0m \u001b[0mset\u001b[0m\u001b[0;34m(\u001b[0m\u001b[0mvalidos\u001b[0m\u001b[0;34m[\u001b[0m\u001b[0;34m\"provincia\"\u001b[0m\u001b[0;34m]\u001b[0m\u001b[0;34m.\u001b[0m\u001b[0mdropna\u001b[0m\u001b[0;34m(\u001b[0m\u001b[0;34m)\u001b[0m\u001b[0;34m.\u001b[0m\u001b[0munique\u001b[0m\u001b[0;34m(\u001b[0m\u001b[0;34m)\u001b[0m\u001b[0;34m)\u001b[0m \u001b[0;34m==\u001b[0m \u001b[0mset\u001b[0m\u001b[0;34m(\u001b[0m\u001b[0mprovincias\u001b[0m\u001b[0;34m[\u001b[0m\u001b[0;34m\"NAME_1\"\u001b[0m\u001b[0;34m]\u001b[0m\u001b[0;34m)\u001b[0m \u001b[0;31m#verifico\u001b[0m\u001b[0;34m\u001b[0m\u001b[0;34m\u001b[0m\u001b[0m\n\u001b[0m",
      "\u001b[0;31mNameError\u001b[0m: name 'validos' is not defined"
     ]
    }
   ],
   "source": [
    "fix_provincias(geoDF, estados)"
   ]
  },
  {
   "cell_type": "code",
   "execution_count": 53,
   "metadata": {},
   "outputs": [],
   "source": [
    "def buscar_provincia(punto: Point, provincias):\n",
    "    \"\"\"\n",
    "        Devuelve en qué provincia de mexico se encuentra el punto.\n",
    "    \"\"\"\n",
    "#     if not punto: return None\n",
    "    for provincia, geometry in provincias[[\"NAME_1\",\"geometry\"]].values:\n",
    "        if geometry.contains(punto): return provincia\n",
    "\n",
    "# agrego las provincias faltantes\n",
    "geoDF.loc[geoDF[\"estado\"].isna(), \"estado\"] = geoDF.loc[geoDF[\"estado\"].isna()][\"coord\"].map(lambda x: buscar_provincia(x, estados))"
   ]
  },
  {
   "cell_type": "code",
   "execution_count": 54,
   "metadata": {},
   "outputs": [],
   "source": [
    "publicaciones_por_estado = geoDF.loc[~geoDF[\"estado\"].isna()].groupby([\"estado\"]).agg({\"estado\":\"count\"})"
   ]
  },
  {
   "cell_type": "code",
   "execution_count": 55,
   "metadata": {},
   "outputs": [],
   "source": [
    "def choropleth_estados(estados, serie, nombre, titulo=\"\"):\n",
    "    estados[nombre] = estados[\"NAME_1\"].map(serie)\n",
    "    plot = estados.plot(column=nombre, legend=True, figsize=(24,8))    \n",
    "    plot.set_title(titulo)\n",
    "    return plot"
   ]
  },
  {
   "cell_type": "code",
   "execution_count": 56,
   "metadata": {},
   "outputs": [
    {
     "ename": "ImportError",
     "evalue": "The descartes package is required for plotting polygons in geopandas.",
     "output_type": "error",
     "traceback": [
      "\u001b[0;31m---------------------------------------------------------------------------\u001b[0m",
      "\u001b[0;31mModuleNotFoundError\u001b[0m                       Traceback (most recent call last)",
      "\u001b[0;32m~/.local/share/virtualenvs/7506-TP-WtW0mOt4/lib/python3.7/site-packages/geopandas/plotting.py\u001b[0m in \u001b[0;36mplot_polygon_collection\u001b[0;34m(ax, geoms, values, color, cmap, vmin, vmax, **kwargs)\u001b[0m\n\u001b[1;32m     84\u001b[0m     \u001b[0;32mtry\u001b[0m\u001b[0;34m:\u001b[0m\u001b[0;34m\u001b[0m\u001b[0;34m\u001b[0m\u001b[0m\n\u001b[0;32m---> 85\u001b[0;31m         \u001b[0;32mfrom\u001b[0m \u001b[0mdescartes\u001b[0m\u001b[0;34m.\u001b[0m\u001b[0mpatch\u001b[0m \u001b[0;32mimport\u001b[0m \u001b[0mPolygonPatch\u001b[0m\u001b[0;34m\u001b[0m\u001b[0;34m\u001b[0m\u001b[0m\n\u001b[0m\u001b[1;32m     86\u001b[0m     \u001b[0;32mexcept\u001b[0m \u001b[0mImportError\u001b[0m\u001b[0;34m:\u001b[0m\u001b[0;34m\u001b[0m\u001b[0;34m\u001b[0m\u001b[0m\n",
      "\u001b[0;31mModuleNotFoundError\u001b[0m: No module named 'descartes'",
      "\nDuring handling of the above exception, another exception occurred:\n",
      "\u001b[0;31mImportError\u001b[0m                               Traceback (most recent call last)",
      "\u001b[0;32m<ipython-input-56-e6f91a3f807a>\u001b[0m in \u001b[0;36m<module>\u001b[0;34m\u001b[0m\n\u001b[0;32m----> 1\u001b[0;31m \u001b[0mplot\u001b[0m \u001b[0;34m=\u001b[0m \u001b[0mchoropleth_estados\u001b[0m\u001b[0;34m(\u001b[0m\u001b[0mestados\u001b[0m\u001b[0;34m,\u001b[0m \u001b[0mpublicaciones_por_estado\u001b[0m\u001b[0;34m[\u001b[0m\u001b[0;34m\"estado\"\u001b[0m\u001b[0;34m]\u001b[0m\u001b[0;34m,\u001b[0m \u001b[0;34m\"publicaciones\"\u001b[0m\u001b[0;34m,\u001b[0m \u001b[0;34m\"Cantidad de publicaciones por estado\"\u001b[0m\u001b[0;34m)\u001b[0m\u001b[0;34m\u001b[0m\u001b[0;34m\u001b[0m\u001b[0m\n\u001b[0m",
      "\u001b[0;32m<ipython-input-55-fbdeb37b0fc2>\u001b[0m in \u001b[0;36mchoropleth_estados\u001b[0;34m(estados, serie, nombre, titulo)\u001b[0m\n\u001b[1;32m      1\u001b[0m \u001b[0;32mdef\u001b[0m \u001b[0mchoropleth_estados\u001b[0m\u001b[0;34m(\u001b[0m\u001b[0mestados\u001b[0m\u001b[0;34m,\u001b[0m \u001b[0mserie\u001b[0m\u001b[0;34m,\u001b[0m \u001b[0mnombre\u001b[0m\u001b[0;34m,\u001b[0m \u001b[0mtitulo\u001b[0m\u001b[0;34m=\u001b[0m\u001b[0;34m\"\"\u001b[0m\u001b[0;34m)\u001b[0m\u001b[0;34m:\u001b[0m\u001b[0;34m\u001b[0m\u001b[0;34m\u001b[0m\u001b[0m\n\u001b[1;32m      2\u001b[0m     \u001b[0mestados\u001b[0m\u001b[0;34m[\u001b[0m\u001b[0mnombre\u001b[0m\u001b[0;34m]\u001b[0m \u001b[0;34m=\u001b[0m \u001b[0mestados\u001b[0m\u001b[0;34m[\u001b[0m\u001b[0;34m\"NAME_1\"\u001b[0m\u001b[0;34m]\u001b[0m\u001b[0;34m.\u001b[0m\u001b[0mmap\u001b[0m\u001b[0;34m(\u001b[0m\u001b[0mserie\u001b[0m\u001b[0;34m)\u001b[0m\u001b[0;34m\u001b[0m\u001b[0;34m\u001b[0m\u001b[0m\n\u001b[0;32m----> 3\u001b[0;31m     \u001b[0mplot\u001b[0m \u001b[0;34m=\u001b[0m \u001b[0mestados\u001b[0m\u001b[0;34m.\u001b[0m\u001b[0mplot\u001b[0m\u001b[0;34m(\u001b[0m\u001b[0mcolumn\u001b[0m\u001b[0;34m=\u001b[0m\u001b[0mnombre\u001b[0m\u001b[0;34m,\u001b[0m \u001b[0mlegend\u001b[0m\u001b[0;34m=\u001b[0m\u001b[0;32mTrue\u001b[0m\u001b[0;34m,\u001b[0m \u001b[0mfigsize\u001b[0m\u001b[0;34m=\u001b[0m\u001b[0;34m(\u001b[0m\u001b[0;36m24\u001b[0m\u001b[0;34m,\u001b[0m\u001b[0;36m8\u001b[0m\u001b[0;34m)\u001b[0m\u001b[0;34m)\u001b[0m\u001b[0;34m\u001b[0m\u001b[0;34m\u001b[0m\u001b[0m\n\u001b[0m\u001b[1;32m      4\u001b[0m     \u001b[0mplot\u001b[0m\u001b[0;34m.\u001b[0m\u001b[0mset_title\u001b[0m\u001b[0;34m(\u001b[0m\u001b[0mtitulo\u001b[0m\u001b[0;34m)\u001b[0m\u001b[0;34m\u001b[0m\u001b[0;34m\u001b[0m\u001b[0m\n\u001b[1;32m      5\u001b[0m     \u001b[0;32mreturn\u001b[0m \u001b[0mplot\u001b[0m\u001b[0;34m\u001b[0m\u001b[0;34m\u001b[0m\u001b[0m\n",
      "\u001b[0;32m~/.local/share/virtualenvs/7506-TP-WtW0mOt4/lib/python3.7/site-packages/geopandas/geodataframe.py\u001b[0m in \u001b[0;36mplot\u001b[0;34m(self, *args, **kwargs)\u001b[0m\n\u001b[1;32m    548\u001b[0m         \u001b[0;32mfrom\u001b[0m \u001b[0mthere\u001b[0m\u001b[0;34m.\u001b[0m\u001b[0;34m\u001b[0m\u001b[0;34m\u001b[0m\u001b[0m\n\u001b[1;32m    549\u001b[0m         \"\"\"\n\u001b[0;32m--> 550\u001b[0;31m         \u001b[0;32mreturn\u001b[0m \u001b[0mplot_dataframe\u001b[0m\u001b[0;34m(\u001b[0m\u001b[0mself\u001b[0m\u001b[0;34m,\u001b[0m \u001b[0;34m*\u001b[0m\u001b[0margs\u001b[0m\u001b[0;34m,\u001b[0m \u001b[0;34m**\u001b[0m\u001b[0mkwargs\u001b[0m\u001b[0;34m)\u001b[0m\u001b[0;34m\u001b[0m\u001b[0;34m\u001b[0m\u001b[0m\n\u001b[0m\u001b[1;32m    551\u001b[0m \u001b[0;34m\u001b[0m\u001b[0m\n\u001b[1;32m    552\u001b[0m     \u001b[0mplot\u001b[0m\u001b[0;34m.\u001b[0m\u001b[0m__doc__\u001b[0m \u001b[0;34m=\u001b[0m \u001b[0mplot_dataframe\u001b[0m\u001b[0;34m.\u001b[0m\u001b[0m__doc__\u001b[0m\u001b[0;34m\u001b[0m\u001b[0;34m\u001b[0m\u001b[0m\n",
      "\u001b[0;32m~/.local/share/virtualenvs/7506-TP-WtW0mOt4/lib/python3.7/site-packages/geopandas/plotting.py\u001b[0m in \u001b[0;36mplot_dataframe\u001b[0;34m(df, column, cmap, color, ax, cax, categorical, legend, scheme, k, vmin, vmax, markersize, figsize, legend_kwds, classification_kwds, **style_kwds)\u001b[0m\n\u001b[1;32m    484\u001b[0m     \u001b[0;32mif\u001b[0m \u001b[0;32mnot\u001b[0m \u001b[0mpolys\u001b[0m\u001b[0;34m.\u001b[0m\u001b[0mempty\u001b[0m\u001b[0;34m:\u001b[0m\u001b[0;34m\u001b[0m\u001b[0;34m\u001b[0m\u001b[0m\n\u001b[1;32m    485\u001b[0m         plot_polygon_collection(ax, polys, values[poly_idx],\n\u001b[0;32m--> 486\u001b[0;31m                                 vmin=mn, vmax=mx, cmap=cmap, **style_kwds)\n\u001b[0m\u001b[1;32m    487\u001b[0m \u001b[0;34m\u001b[0m\u001b[0m\n\u001b[1;32m    488\u001b[0m     \u001b[0;31m# plot all LineStrings and MultiLineString components in same collection\u001b[0m\u001b[0;34m\u001b[0m\u001b[0;34m\u001b[0m\u001b[0;34m\u001b[0m\u001b[0m\n",
      "\u001b[0;32m~/.local/share/virtualenvs/7506-TP-WtW0mOt4/lib/python3.7/site-packages/geopandas/plotting.py\u001b[0m in \u001b[0;36mplot_polygon_collection\u001b[0;34m(ax, geoms, values, color, cmap, vmin, vmax, **kwargs)\u001b[0m\n\u001b[1;32m     85\u001b[0m         \u001b[0;32mfrom\u001b[0m \u001b[0mdescartes\u001b[0m\u001b[0;34m.\u001b[0m\u001b[0mpatch\u001b[0m \u001b[0;32mimport\u001b[0m \u001b[0mPolygonPatch\u001b[0m\u001b[0;34m\u001b[0m\u001b[0;34m\u001b[0m\u001b[0m\n\u001b[1;32m     86\u001b[0m     \u001b[0;32mexcept\u001b[0m \u001b[0mImportError\u001b[0m\u001b[0;34m:\u001b[0m\u001b[0;34m\u001b[0m\u001b[0;34m\u001b[0m\u001b[0m\n\u001b[0;32m---> 87\u001b[0;31m         raise ImportError(\"The descartes package is required\"\n\u001b[0m\u001b[1;32m     88\u001b[0m                           \" for plotting polygons in geopandas.\")\n\u001b[1;32m     89\u001b[0m     \u001b[0;32mfrom\u001b[0m \u001b[0mmatplotlib\u001b[0m\u001b[0;34m.\u001b[0m\u001b[0mcollections\u001b[0m \u001b[0;32mimport\u001b[0m \u001b[0mPatchCollection\u001b[0m\u001b[0;34m\u001b[0m\u001b[0;34m\u001b[0m\u001b[0m\n",
      "\u001b[0;31mImportError\u001b[0m: The descartes package is required for plotting polygons in geopandas."
     ]
    },
    {
     "data": {
      "image/png": "[encoded data removed]",
      "text/plain": [
       "<Figure size 1728x576 with 1 Axes>"
      ]
     },
     "metadata": {
      "needs_background": "light"
     },
     "output_type": "display_data"
    }
   ],
   "source": [
    "plot = choropleth_estados(estados, publicaciones_por_estado[\"estado\"], \"publicaciones\", \"Cantidad de publicaciones por estado\")"
   ]
  },
  {
   "cell_type": "markdown",
   "metadata": {},
   "source": [
    "# Presento un análisis del valor del metro cuadrado en relacion al clima"
   ]
  },
  {
   "cell_type": "code",
   "execution_count": 93,
   "metadata": {},
   "outputs": [],
   "source": [
    "#Primero realizo un calculo del promedio del valor del metro cuadrado por \n",
    "por_ciudad=df.groupby(\"ciudad\").agg({\"metrostotales\":\"sum\"})\n",
    "por_ciudad[\"precios\"] = df.groupby(\"ciudad\").agg({\"precio\":\"sum\"})\n",
    "por_ciudad[\"valormetrocuadrado\"] = por_ciudad[\"precios\"] / por_ciudad[\"metrostotales\"]\n"
   ]
  },
  {
   "cell_type": "markdown",
   "metadata": {},
   "source": [
    "### Limpio el dataset de valores nulos en metrostotales y/o precios"
   ]
  },
  {
   "cell_type": "code",
   "execution_count": 94,
   "metadata": {},
   "outputs": [],
   "source": [
    "por_ciudad=por_ciudad.loc[(por_ciudad.metrostotales != 0.0)]\n",
    "por_ciudad=por_ciudad.loc[(por_ciudad.precios != 0.0)]"
   ]
  },
  {
   "cell_type": "markdown",
   "metadata": {},
   "source": [
    "# Busco las ciudades extremo, la mas cara y la mas barata"
   ]
  },
  {
   "cell_type": "code",
   "execution_count": 109,
   "metadata": {},
   "outputs": [
    {
     "name": "stdout",
     "output_type": "stream",
     "text": [
      "                         metrostotales     precios  valormetrocuadrado\n",
      "ciudad                                                                \n",
      "Santa Isabel Xiloxoxtla          435.0    313200.0        7.200000e+02\n",
      "Ahuazotepec                      400.0    320000.0        8.000000e+02\n",
      "Mazatepec                        400.0    350000.0        8.750000e+02\n",
      "Villa Purificación               376.0    376000.0        1.000000e+03\n",
      "Tecali de Herrera                336.0    350000.0        1.041667e+03\n",
      "...                                ...         ...                 ...\n",
      "Ucú                               26.0   8500000.0        3.269231e+05\n",
      "Tolimán                           35.0  12000000.0        3.428571e+05\n",
      "Atempan                           40.0  16112121.0        4.028030e+05\n",
      "Motul                             17.0  10950000.0        6.441176e+05\n",
      "Villa Victoria                    26.0  27650000.0        1.063462e+06\n",
      "\n",
      "[705 rows x 3 columns]\n",
      "1062741.5384615385\n"
     ]
    }
   ],
   "source": [
    "por_ciudad = por_ciudad.sort_values(\"valormetrocuadrado\")\n",
    "print(por_ciudad)\n",
    "ciudad_mas_barata = por_ciudad[\"valormetrocuadrado\"].min()\n",
    "ciudad_mas_cara = por_ciudad[\"valormetrocuadrado\"].max()\n",
    "amplitud = ciudad_mas_cara - ciudad_mas_barata\n",
    "print(amplitud)#ver como sacar el nombre de la ciudad"
   ]
  },
  {
   "cell_type": "code",
   "execution_count": 111,
   "metadata": {},
   "outputs": [
    {
     "data": {
      "text/html": [
       "<div>\n",
       "<style scoped>\n",
       "    .dataframe tbody tr th:only-of-type {\n",
       "        vertical-align: middle;\n",
       "    }\n",
       "\n",
       "    .dataframe tbody tr th {\n",
       "        vertical-align: top;\n",
       "    }\n",
       "\n",
       "    .dataframe thead th {\n",
       "        text-align: right;\n",
       "    }\n",
       "</style>\n",
       "<table border=\"1\" class=\"dataframe\">\n",
       "  <thead>\n",
       "    <tr style=\"text-align: right;\">\n",
       "      <th></th>\n",
       "      <th>metrostotales</th>\n",
       "      <th>precios</th>\n",
       "      <th>valormetrocuadrado</th>\n",
       "    </tr>\n",
       "    <tr>\n",
       "      <th>ciudad</th>\n",
       "      <th></th>\n",
       "      <th></th>\n",
       "      <th></th>\n",
       "    </tr>\n",
       "  </thead>\n",
       "  <tbody>\n",
       "    <tr>\n",
       "      <td>Río Lagartos</td>\n",
       "      <td>89.0</td>\n",
       "      <td>7100000.0</td>\n",
       "      <td>7.977528e+04</td>\n",
       "    </tr>\n",
       "    <tr>\n",
       "      <td>Cacalchén</td>\n",
       "      <td>70.0</td>\n",
       "      <td>5600000.0</td>\n",
       "      <td>8.000000e+04</td>\n",
       "    </tr>\n",
       "    <tr>\n",
       "      <td>Otumba</td>\n",
       "      <td>458.0</td>\n",
       "      <td>36810000.0</td>\n",
       "      <td>8.037118e+04</td>\n",
       "    </tr>\n",
       "    <tr>\n",
       "      <td>Jilotzingo</td>\n",
       "      <td>1180.0</td>\n",
       "      <td>100184000.0</td>\n",
       "      <td>8.490169e+04</td>\n",
       "    </tr>\n",
       "    <tr>\n",
       "      <td>Izamal</td>\n",
       "      <td>33.0</td>\n",
       "      <td>3000000.0</td>\n",
       "      <td>9.090909e+04</td>\n",
       "    </tr>\n",
       "    <tr>\n",
       "      <td>Jerécuaro</td>\n",
       "      <td>90.0</td>\n",
       "      <td>8430000.0</td>\n",
       "      <td>9.366667e+04</td>\n",
       "    </tr>\n",
       "    <tr>\n",
       "      <td>Apaseo el Alto</td>\n",
       "      <td>120.0</td>\n",
       "      <td>11728000.0</td>\n",
       "      <td>9.773333e+04</td>\n",
       "    </tr>\n",
       "    <tr>\n",
       "      <td>Batopilas</td>\n",
       "      <td>120.0</td>\n",
       "      <td>12000000.0</td>\n",
       "      <td>1.000000e+05</td>\n",
       "    </tr>\n",
       "    <tr>\n",
       "      <td>Palenque</td>\n",
       "      <td>118.0</td>\n",
       "      <td>12582834.0</td>\n",
       "      <td>1.066342e+05</td>\n",
       "    </tr>\n",
       "    <tr>\n",
       "      <td>Yaxcabá</td>\n",
       "      <td>20.0</td>\n",
       "      <td>2500000.0</td>\n",
       "      <td>1.250000e+05</td>\n",
       "    </tr>\n",
       "    <tr>\n",
       "      <td>Juanacatlán</td>\n",
       "      <td>250.0</td>\n",
       "      <td>38365000.0</td>\n",
       "      <td>1.534600e+05</td>\n",
       "    </tr>\n",
       "    <tr>\n",
       "      <td>Allende</td>\n",
       "      <td>1022.0</td>\n",
       "      <td>158152000.0</td>\n",
       "      <td>1.547476e+05</td>\n",
       "    </tr>\n",
       "    <tr>\n",
       "      <td>Colón</td>\n",
       "      <td>160.0</td>\n",
       "      <td>33595000.0</td>\n",
       "      <td>2.099688e+05</td>\n",
       "    </tr>\n",
       "    <tr>\n",
       "      <td>PolotitlAn</td>\n",
       "      <td>182.0</td>\n",
       "      <td>39600000.0</td>\n",
       "      <td>2.175824e+05</td>\n",
       "    </tr>\n",
       "    <tr>\n",
       "      <td>Zapotlanejo</td>\n",
       "      <td>72.0</td>\n",
       "      <td>23300000.0</td>\n",
       "      <td>3.236111e+05</td>\n",
       "    </tr>\n",
       "    <tr>\n",
       "      <td>Ucú</td>\n",
       "      <td>26.0</td>\n",
       "      <td>8500000.0</td>\n",
       "      <td>3.269231e+05</td>\n",
       "    </tr>\n",
       "    <tr>\n",
       "      <td>Tolimán</td>\n",
       "      <td>35.0</td>\n",
       "      <td>12000000.0</td>\n",
       "      <td>3.428571e+05</td>\n",
       "    </tr>\n",
       "    <tr>\n",
       "      <td>Atempan</td>\n",
       "      <td>40.0</td>\n",
       "      <td>16112121.0</td>\n",
       "      <td>4.028030e+05</td>\n",
       "    </tr>\n",
       "    <tr>\n",
       "      <td>Motul</td>\n",
       "      <td>17.0</td>\n",
       "      <td>10950000.0</td>\n",
       "      <td>6.441176e+05</td>\n",
       "    </tr>\n",
       "    <tr>\n",
       "      <td>Villa Victoria</td>\n",
       "      <td>26.0</td>\n",
       "      <td>27650000.0</td>\n",
       "      <td>1.063462e+06</td>\n",
       "    </tr>\n",
       "  </tbody>\n",
       "</table>\n",
       "</div>"
      ],
      "text/plain": [
       "                metrostotales      precios  valormetrocuadrado\n",
       "ciudad                                                        \n",
       "Río Lagartos             89.0    7100000.0        7.977528e+04\n",
       "Cacalchén                70.0    5600000.0        8.000000e+04\n",
       "Otumba                  458.0   36810000.0        8.037118e+04\n",
       "Jilotzingo             1180.0  100184000.0        8.490169e+04\n",
       "Izamal                   33.0    3000000.0        9.090909e+04\n",
       "Jerécuaro                90.0    8430000.0        9.366667e+04\n",
       "Apaseo el Alto          120.0   11728000.0        9.773333e+04\n",
       "Batopilas               120.0   12000000.0        1.000000e+05\n",
       "Palenque                118.0   12582834.0        1.066342e+05\n",
       "Yaxcabá                  20.0    2500000.0        1.250000e+05\n",
       "Juanacatlán             250.0   38365000.0        1.534600e+05\n",
       "Allende                1022.0  158152000.0        1.547476e+05\n",
       "Colón                   160.0   33595000.0        2.099688e+05\n",
       "PolotitlAn              182.0   39600000.0        2.175824e+05\n",
       "Zapotlanejo              72.0   23300000.0        3.236111e+05\n",
       "Ucú                      26.0    8500000.0        3.269231e+05\n",
       "Tolimán                  35.0   12000000.0        3.428571e+05\n",
       "Atempan                  40.0   16112121.0        4.028030e+05\n",
       "Motul                    17.0   10950000.0        6.441176e+05\n",
       "Villa Victoria           26.0   27650000.0        1.063462e+06"
      ]
     },
     "execution_count": 111,
     "metadata": {},
     "output_type": "execute_result"
    }
   ],
   "source": [
    "top_20_ciudades_mas_caras = por_ciudad.tail(20)\n",
    "top_20_ciudades_mas_caras "
   ]
  },
  {
   "cell_type": "code",
   "execution_count": 112,
   "metadata": {},
   "outputs": [
    {
     "data": {
      "text/html": [
       "<div>\n",
       "<style scoped>\n",
       "    .dataframe tbody tr th:only-of-type {\n",
       "        vertical-align: middle;\n",
       "    }\n",
       "\n",
       "    .dataframe tbody tr th {\n",
       "        vertical-align: top;\n",
       "    }\n",
       "\n",
       "    .dataframe thead th {\n",
       "        text-align: right;\n",
       "    }\n",
       "</style>\n",
       "<table border=\"1\" class=\"dataframe\">\n",
       "  <thead>\n",
       "    <tr style=\"text-align: right;\">\n",
       "      <th></th>\n",
       "      <th>metrostotales</th>\n",
       "      <th>precios</th>\n",
       "      <th>valormetrocuadrado</th>\n",
       "    </tr>\n",
       "    <tr>\n",
       "      <th>ciudad</th>\n",
       "      <th></th>\n",
       "      <th></th>\n",
       "      <th></th>\n",
       "    </tr>\n",
       "  </thead>\n",
       "  <tbody>\n",
       "    <tr>\n",
       "      <td>Santa Isabel Xiloxoxtla</td>\n",
       "      <td>435.0</td>\n",
       "      <td>313200.0</td>\n",
       "      <td>720.000000</td>\n",
       "    </tr>\n",
       "    <tr>\n",
       "      <td>Ahuazotepec</td>\n",
       "      <td>400.0</td>\n",
       "      <td>320000.0</td>\n",
       "      <td>800.000000</td>\n",
       "    </tr>\n",
       "    <tr>\n",
       "      <td>Mazatepec</td>\n",
       "      <td>400.0</td>\n",
       "      <td>350000.0</td>\n",
       "      <td>875.000000</td>\n",
       "    </tr>\n",
       "    <tr>\n",
       "      <td>Villa Purificación</td>\n",
       "      <td>376.0</td>\n",
       "      <td>376000.0</td>\n",
       "      <td>1000.000000</td>\n",
       "    </tr>\n",
       "    <tr>\n",
       "      <td>Tecali de Herrera</td>\n",
       "      <td>336.0</td>\n",
       "      <td>350000.0</td>\n",
       "      <td>1041.666667</td>\n",
       "    </tr>\n",
       "    <tr>\n",
       "      <td>Apazapan</td>\n",
       "      <td>383.0</td>\n",
       "      <td>400000.0</td>\n",
       "      <td>1044.386423</td>\n",
       "    </tr>\n",
       "    <tr>\n",
       "      <td>Cansahcab</td>\n",
       "      <td>300.0</td>\n",
       "      <td>334000.0</td>\n",
       "      <td>1113.333333</td>\n",
       "    </tr>\n",
       "    <tr>\n",
       "      <td>Villa de Tezontepec</td>\n",
       "      <td>400.0</td>\n",
       "      <td>450000.0</td>\n",
       "      <td>1125.000000</td>\n",
       "    </tr>\n",
       "    <tr>\n",
       "      <td>Sabinas</td>\n",
       "      <td>300.0</td>\n",
       "      <td>354050.0</td>\n",
       "      <td>1180.166667</td>\n",
       "    </tr>\n",
       "    <tr>\n",
       "      <td>Chínipas</td>\n",
       "      <td>390.0</td>\n",
       "      <td>470000.0</td>\n",
       "      <td>1205.128205</td>\n",
       "    </tr>\n",
       "    <tr>\n",
       "      <td>Donato Guerra</td>\n",
       "      <td>250.0</td>\n",
       "      <td>320000.0</td>\n",
       "      <td>1280.000000</td>\n",
       "    </tr>\n",
       "    <tr>\n",
       "      <td>Santo Tomás</td>\n",
       "      <td>300.0</td>\n",
       "      <td>435000.0</td>\n",
       "      <td>1450.000000</td>\n",
       "    </tr>\n",
       "    <tr>\n",
       "      <td>Angostura</td>\n",
       "      <td>310.0</td>\n",
       "      <td>485000.0</td>\n",
       "      <td>1564.516129</td>\n",
       "    </tr>\n",
       "    <tr>\n",
       "      <td>Abalá</td>\n",
       "      <td>200.0</td>\n",
       "      <td>315000.0</td>\n",
       "      <td>1575.000000</td>\n",
       "    </tr>\n",
       "    <tr>\n",
       "      <td>San Antonio de la Cal</td>\n",
       "      <td>300.0</td>\n",
       "      <td>490000.0</td>\n",
       "      <td>1633.333333</td>\n",
       "    </tr>\n",
       "    <tr>\n",
       "      <td>Manlio Fabio Altamirano</td>\n",
       "      <td>430.0</td>\n",
       "      <td>730000.0</td>\n",
       "      <td>1697.674419</td>\n",
       "    </tr>\n",
       "    <tr>\n",
       "      <td>Pánuco de Coronado</td>\n",
       "      <td>600.0</td>\n",
       "      <td>1045000.0</td>\n",
       "      <td>1741.666667</td>\n",
       "    </tr>\n",
       "    <tr>\n",
       "      <td>Paracho</td>\n",
       "      <td>195.0</td>\n",
       "      <td>340000.0</td>\n",
       "      <td>1743.589744</td>\n",
       "    </tr>\n",
       "    <tr>\n",
       "      <td>Villaflores</td>\n",
       "      <td>225.0</td>\n",
       "      <td>400000.0</td>\n",
       "      <td>1777.777778</td>\n",
       "    </tr>\n",
       "    <tr>\n",
       "      <td>Gustavo Díaz Ordaz</td>\n",
       "      <td>200.0</td>\n",
       "      <td>360000.0</td>\n",
       "      <td>1800.000000</td>\n",
       "    </tr>\n",
       "  </tbody>\n",
       "</table>\n",
       "</div>"
      ],
      "text/plain": [
       "                         metrostotales    precios  valormetrocuadrado\n",
       "ciudad                                                               \n",
       "Santa Isabel Xiloxoxtla          435.0   313200.0          720.000000\n",
       "Ahuazotepec                      400.0   320000.0          800.000000\n",
       "Mazatepec                        400.0   350000.0          875.000000\n",
       "Villa Purificación               376.0   376000.0         1000.000000\n",
       "Tecali de Herrera                336.0   350000.0         1041.666667\n",
       "Apazapan                         383.0   400000.0         1044.386423\n",
       "Cansahcab                        300.0   334000.0         1113.333333\n",
       "Villa de Tezontepec              400.0   450000.0         1125.000000\n",
       "Sabinas                          300.0   354050.0         1180.166667\n",
       "Chínipas                         390.0   470000.0         1205.128205\n",
       "Donato Guerra                    250.0   320000.0         1280.000000\n",
       "Santo Tomás                      300.0   435000.0         1450.000000\n",
       "Angostura                        310.0   485000.0         1564.516129\n",
       "Abalá                            200.0   315000.0         1575.000000\n",
       "San Antonio de la Cal            300.0   490000.0         1633.333333\n",
       "Manlio Fabio Altamirano          430.0   730000.0         1697.674419\n",
       "Pánuco de Coronado               600.0  1045000.0         1741.666667\n",
       "Paracho                          195.0   340000.0         1743.589744\n",
       "Villaflores                      225.0   400000.0         1777.777778\n",
       "Gustavo Díaz Ordaz               200.0   360000.0         1800.000000"
      ]
     },
     "execution_count": 112,
     "metadata": {},
     "output_type": "execute_result"
    }
   ],
   "source": [
    "top_20_ciudades_mas_baratas = por_ciudad.head(20)\n",
    "top_20_ciudades_mas_baratas"
   ]
  }
 ],
 "metadata": {
  "kernelspec": {
   "display_name": "Python 3",
   "language": "python",
   "name": "python3"
  },
  "language_info": {
   "codemirror_mode": {
    "name": "ipython",
    "version": 3
   },
   "file_extension": ".py",
   "mimetype": "text/x-python",
   "name": "python",
   "nbconvert_exporter": "python",
   "pygments_lexer": "ipython3",
   "version": "3.7.4"
  }
 },
 "nbformat": 4,
 "nbformat_minor": 4
}

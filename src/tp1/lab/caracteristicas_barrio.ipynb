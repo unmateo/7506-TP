{
 "cells": [
  {
   "cell_type": "markdown",
   "metadata": {},
   "source": [
    "## Campos involucrados\n",
    "\n",
    "- escuelascercanas\n",
    "- centroscomercialescercanos\n",
    "- idzona\n",
    "\n",
    "## Ideas\n",
    "\n",
    "- Agregar info externa (transporte cercano? barrios \"de moda\"?)\n",
    "- Caracterización de zona\n",
    "  - Centro Geográfico\n",
    "  - ¿diámetro?\n",
    "  - Promedios\n",
    "    - metroscubiertos\n",
    "    - precio\n",
    "    - ...\n",
    "- Armar un dataframe con info de zonas?\n",
    "\n",
    "\n",
    "## Problema\n",
    "\n",
    "- Dado un grupo de coordenadas geográficas, no es tan sencillo calcular áreas y distancias (habría que proyectar). \n",
    "\n",
    "__Hay publicaciones cuyas coordenadas son demasiado lejanas a las del resto de la zona__\n",
    "¿Cómo las encuentro?\n",
    "- Distancia al centro de la zona (¿promedio de latitud-longitud u otra medida?)\n"
   ]
  },
  {
   "cell_type": "code",
   "execution_count": null,
   "metadata": {},
   "outputs": [],
   "source": [
    "import seaborn as sns\n",
    "import matplotlib.pyplot as plt\n",
    "import geopandas\n",
    "from shapely.geometry import Point, Polygon\n",
    "import numpy"
   ]
  },
  {
   "cell_type": "code",
   "execution_count": null,
   "metadata": {},
   "outputs": [],
   "source": [
    "# importo las funciones para levantar los dataframes\n",
    "%run \"../../utils/dataset_parsing.ipynb\"\n",
    "# importo las funciones para graficar\n",
    "%run \"../../utils/graphs.ipynb\""
   ]
  },
  {
   "cell_type": "code",
   "execution_count": null,
   "metadata": {},
   "outputs": [],
   "source": [
    "# cargo el dataset\n",
    "df = levantar_datos(\"../../\"+DATASET_RELATIVE_PATH)\n",
    "df.columns"
   ]
  },
  {
   "cell_type": "code",
   "execution_count": null,
   "metadata": {},
   "outputs": [],
   "source": [
    "def agg_polygon(point_series):\n",
    "    \"\"\"\n",
    "        Recibe un pd.Series de geometry.Point\n",
    "        Devuelve un Polygon de los puntos de la serie, o NaN si\n",
    "        no tiene suficientes puntos (3).\n",
    "    \"\"\"\n",
    "    values = point_series.loc[~point_series.isna()].values\n",
    "    if len(values) < 3: return numpy.NaN\n",
    "    return Polygon([[p.x, p.y] for p in values])"
   ]
  },
  {
   "cell_type": "markdown",
   "metadata": {},
   "source": [
    "## Armo un Dataframe donde las filas son las zonas"
   ]
  },
  {
   "cell_type": "code",
   "execution_count": null,
   "metadata": {},
   "outputs": [],
   "source": [
    "calculations = [\"mean\",\"std\",\"max\",\"min\"]\n",
    "aggregations = {\"id\": \"count\",\\\n",
    "                \"precio_metro_total\": calculations,\\\n",
    "                \"precio_metro_cubierto\": calculations,\\\n",
    "                \"antiguedad\": calculations,\\\n",
    "                \"habitaciones\": calculations,\\\n",
    "                \"metroscubiertos\": calculations,\\\n",
    "                \"metrostotales\": calculations,\\\n",
    "                \"lat\": calculations,\\\n",
    "                \"lng\": calculations,\\\n",
    "                \"precio\": calculations,\\\n",
    "                \"habitaciones\": calculations,\\\n",
    "                \"garages\": calculations,\\\n",
    "                \"banos\": calculations,\\\n",
    "                \"gps\": agg_polygon\\\n",
    "               }\n",
    "zonas = df.groupby([\"idzona\"]).agg(aggregations)\n",
    "zonas.columns = [x+\"_\"+y for x,y in zonas.columns]\n",
    "zonas.rename({\"gps_agg_polygon\": \"polygon\"}, axis=\"columns\", inplace=True)"
   ]
  },
  {
   "cell_type": "code",
   "execution_count": null,
   "metadata": {},
   "outputs": [],
   "source": [
    "zonas[\"lat_dif\"] = zonas[\"lat_max\"] - zonas[\"lat_min\"]\n",
    "zonas[\"lng_dif\"] = zonas[\"lng_max\"] - zonas[\"lng_min\"]"
   ]
  },
  {
   "cell_type": "code",
   "execution_count": null,
   "metadata": {},
   "outputs": [],
   "source": [
    "zonas.shape"
   ]
  },
  {
   "cell_type": "code",
   "execution_count": null,
   "metadata": {},
   "outputs": [],
   "source": [
    "zonas[[\"lat_dif\",\"lng_dif\"]].describe()"
   ]
  },
  {
   "cell_type": "code",
   "execution_count": null,
   "metadata": {},
   "outputs": [],
   "source": [
    "zonas_ok = zonas.loc[(zonas[\"lat_dif\"] < zonas[\"lat_dif\"].mean()) & (zonas[\"lng_dif\"] < zonas[\"lng_dif\"].mean())]\n",
    "zonas_ok.shape"
   ]
  },
  {
   "cell_type": "code",
   "execution_count": null,
   "metadata": {},
   "outputs": [],
   "source": [
    "pais = geopandas.read_file(\"./MEX_adm/MEX_adm0.shp\")\n",
    "estados = geopandas.read_file(\"./MEX_adm/MEX_adm1.shp\")"
   ]
  },
  {
   "cell_type": "code",
   "execution_count": null,
   "metadata": {},
   "outputs": [],
   "source": [
    "con_polygon = zonas_ok.loc[~zonas[\"polygon\"].isna()]\n",
    "geoDF = geopandas.GeoDataFrame(con_polygon, geometry=\"polygon\")\n",
    "base = pais.plot(figsize=(24,12))\n",
    "estados_plot = estados.plot(ax=base, color=\"white\")\n",
    "plot = geoDF.plot(ax=estados_plot, cmap=\"Greens_r\")"
   ]
  },
  {
   "cell_type": "code",
   "execution_count": null,
   "metadata": {},
   "outputs": [],
   "source": [
    "zonas_ok.loc[:,\"centroid\"] = con_polygon[\"polygon\"].map(lambda x: x.buffer(0).representative_point())"
   ]
  },
  {
   "cell_type": "code",
   "execution_count": null,
   "metadata": {},
   "outputs": [],
   "source": [
    "zonas_ok.sort_values(by=\"id_count\", ascending=False).head(5)"
   ]
  },
  {
   "cell_type": "code",
   "execution_count": null,
   "metadata": {},
   "outputs": [],
   "source": [
    "publicaciones_84028 = df.loc[df[\"idzona\"]==84028.0] \n",
    "publicaciones_84028.head(1)"
   ]
  },
  {
   "cell_type": "code",
   "execution_count": null,
   "metadata": {},
   "outputs": [],
   "source": [
    "geoDF = geopandas.GeoDataFrame(publicaciones_84028, geometry=\"gps\")\n",
    "queretaro = estados.loc[estados[\"NAME_1\"]==\"Querétaro\"].plot(figsize=(18,9),color=\"gray\")\n",
    "plot = geoDF.plot(ax=queretaro, cmap=\"Greens_r\")"
   ]
  },
  {
   "cell_type": "code",
   "execution_count": null,
   "metadata": {},
   "outputs": [],
   "source": [
    "def plot_mexico(df, geometry, columna, titulo):\n",
    "    geoDF = geopandas.GeoDataFrame(df, geometry=geometry)\n",
    "    base = pais.plot(figsize=(24,12))\n",
    "    estados_plot = estados.plot(ax=base, color=\"white\")\n",
    "    plot = geoDF.plot(ax=estados_plot, cmap=\"viridis_r\",legend=True, column=columna)\n",
    "    plot.set_title(titulo)\n",
    "    return plot\n",
    "    \n",
    "con_centroide = zonas_ok.loc[(~zonas_ok[\"centroid\"].isna())]\n",
    "en_mexico = con_centroide.loc[con_centroide[\"centroid\"].map(esta_en_mexico)]\n",
    "publicaciones_minimas = en_mexico[\"id_count\"].mean() + en_mexico[\"id_count\"].std()\n",
    "en_mexico = en_mexico.loc[en_mexico[\"id_count\"] > publicaciones_minimas]\n",
    "\n",
    "msg_minimo = \" ({} zonas con más de {} publicaciones)\".format(en_mexico.shape[0], int(publicaciones_minimas))\n",
    "\n",
    "id_count = plot_mexico(en_mexico, \"centroid\", \"id_count\", \"Cantidad de publicaciones por cada zona\"+msg_minimo)\n",
    "precio_metro_cubierto_mean = plot_mexico(en_mexico, \"centroid\", \"precio_metro_cubierto_mean\", \"Promedio de precio por metro cubierto en cada zona\"+msg_minimo)\n",
    "precio_metro_total_mean = plot_mexico(en_mexico, \"centroid\", \"precio_metro_total_mean\", \"Promedio de precio por metro total en cada zona\"+msg_minimo)"
   ]
  },
  {
   "cell_type": "code",
   "execution_count": null,
   "metadata": {},
   "outputs": [],
   "source": [
    "cantidad_publicaciones_por_zona = sns.violinplot(en_mexico[\"id_count\"], orient=\"v\")\n",
    "en_mexico[\"id_count\"].describe()"
   ]
  },
  {
   "cell_type": "markdown",
   "metadata": {},
   "source": [
    "### Correlaciones"
   ]
  },
  {
   "cell_type": "code",
   "execution_count": null,
   "metadata": {},
   "outputs": [],
   "source": [
    "en_mexico[[\"id_count\",\"precio_metro_total_mean\",\"precio_metro_cubierto_mean\",\"antiguedad_mean\",\"lat_mean\"]].corr()"
   ]
  },
  {
   "cell_type": "code",
   "execution_count": null,
   "metadata": {},
   "outputs": [],
   "source": [
    "en_mexico.columns"
   ]
  }
 ],
 "metadata": {
  "kernelspec": {
   "display_name": "Python 3",
   "language": "python",
   "name": "python3"
  },
  "language_info": {
   "codemirror_mode": {
    "name": "ipython",
    "version": 3
   },
   "file_extension": ".py",
   "mimetype": "text/x-python",
   "name": "python",
   "nbconvert_exporter": "python",
   "pygments_lexer": "ipython3",
   "version": "3.7.0"
  }
 },
 "nbformat": 4,
 "nbformat_minor": 4
}

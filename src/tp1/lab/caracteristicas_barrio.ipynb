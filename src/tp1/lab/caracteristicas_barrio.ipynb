{
 "cells": [
  {
   "cell_type": "markdown",
   "metadata": {},
   "source": [
    "## Campos involucrados\n",
    "\n",
    "- escuelascercanas\n",
    "- centroscomercialescercanos\n",
    "- idzona\n",
    "\n",
    "## Ideas\n",
    "\n",
    "- Agregar info externa (transporte cercano? barrios \"de moda\"?)\n",
    "- Caracterización de zona\n",
    "  - Centro Geográfico\n",
    "  - ¿diámetro?\n",
    "  - Promedios\n",
    "    - metroscubiertos\n",
    "    - precio\n",
    "    - ...\n",
    "- Armar un dataframe con info de zonas?"
   ]
  },
  {
   "cell_type": "code",
   "execution_count": 1,
   "metadata": {},
   "outputs": [],
   "source": [
    "import seaborn as sns\n",
    "import matplotlib.pyplot as plt\n",
    "import geopandas\n",
    "from shapely.geometry import Point"
   ]
  },
  {
   "cell_type": "code",
   "execution_count": 2,
   "metadata": {},
   "outputs": [
    {
     "data": {
      "text/plain": [
       "Index(['id', 'titulo', 'descripcion', 'tipodepropiedad', 'direccion', 'ciudad',\n",
       "       'provincia', 'antiguedad', 'habitaciones', 'garages', 'banos',\n",
       "       'metroscubiertos', 'metrostotales', 'idzona', 'lat', 'lng', 'fecha',\n",
       "       'gimnasio', 'usosmultiples', 'piscina', 'escuelascercanas',\n",
       "       'centroscomercialescercanos', 'precio', 'mes', 'ano', 'dia'],\n",
       "      dtype='object')"
      ]
     },
     "execution_count": 2,
     "metadata": {},
     "output_type": "execute_result"
    }
   ],
   "source": [
    "#importo las funciones para levantar los dataframes\n",
    "%run \"../../utils/dataset_parsing.ipynb\"\n",
    "#importo las funciones para graficar\n",
    "%run \"../../utils/graphs.ipynb\"\n",
    "df = levantar_datos(\"../../\"+DATASET_RELATIVE_PATH)\n",
    "df.columns"
   ]
  },
  {
   "cell_type": "code",
   "execution_count": 3,
   "metadata": {},
   "outputs": [],
   "source": [
    "df[\"precio_metro_cubierto\"] = df[\"precio\"] / df[\"metroscubiertos\"]\n",
    "df[\"precio_metro_total\"] = df[\"precio\"] / df[\"metrostotales\"]"
   ]
  },
  {
   "cell_type": "code",
   "execution_count": 4,
   "metadata": {},
   "outputs": [
    {
     "data": {
      "text/html": [
       "<div>\n",
       "<style scoped>\n",
       "    .dataframe tbody tr th:only-of-type {\n",
       "        vertical-align: middle;\n",
       "    }\n",
       "\n",
       "    .dataframe tbody tr th {\n",
       "        vertical-align: top;\n",
       "    }\n",
       "\n",
       "    .dataframe thead th {\n",
       "        text-align: right;\n",
       "    }\n",
       "</style>\n",
       "<table border=\"1\" class=\"dataframe\">\n",
       "  <thead>\n",
       "    <tr style=\"text-align: right;\">\n",
       "      <th></th>\n",
       "      <th>publicaciones</th>\n",
       "      <th>promedio_metrostotales</th>\n",
       "      <th>desvio_metrostotales</th>\n",
       "      <th>promedio_metroscubiertos</th>\n",
       "      <th>desvio_metroscubiertos</th>\n",
       "    </tr>\n",
       "    <tr>\n",
       "      <th>idzona</th>\n",
       "      <th></th>\n",
       "      <th></th>\n",
       "      <th></th>\n",
       "      <th></th>\n",
       "      <th></th>\n",
       "    </tr>\n",
       "  </thead>\n",
       "  <tbody>\n",
       "    <tr>\n",
       "      <td>22</td>\n",
       "      <td>15</td>\n",
       "      <td>22044</td>\n",
       "      <td>11082</td>\n",
       "      <td>24215</td>\n",
       "      <td>13060</td>\n",
       "    </tr>\n",
       "    <tr>\n",
       "      <td>23</td>\n",
       "      <td>26</td>\n",
       "      <td>8136</td>\n",
       "      <td>3078</td>\n",
       "      <td>6918</td>\n",
       "      <td>2533</td>\n",
       "    </tr>\n",
       "    <tr>\n",
       "      <td>26</td>\n",
       "      <td>10</td>\n",
       "      <td>5617</td>\n",
       "      <td>2043</td>\n",
       "      <td>6492</td>\n",
       "      <td>1341</td>\n",
       "    </tr>\n",
       "    <tr>\n",
       "      <td>27</td>\n",
       "      <td>1</td>\n",
       "      <td>6190</td>\n",
       "      <td>0</td>\n",
       "      <td>7222</td>\n",
       "      <td>0</td>\n",
       "    </tr>\n",
       "    <tr>\n",
       "      <td>28</td>\n",
       "      <td>2</td>\n",
       "      <td>6875</td>\n",
       "      <td>4419</td>\n",
       "      <td>5481</td>\n",
       "      <td>1122</td>\n",
       "    </tr>\n",
       "  </tbody>\n",
       "</table>\n",
       "</div>"
      ],
      "text/plain": [
       "        publicaciones  promedio_metrostotales  desvio_metrostotales  \\\n",
       "idzona                                                                \n",
       "22                 15                   22044                 11082   \n",
       "23                 26                    8136                  3078   \n",
       "26                 10                    5617                  2043   \n",
       "27                  1                    6190                     0   \n",
       "28                  2                    6875                  4419   \n",
       "\n",
       "        promedio_metroscubiertos  desvio_metroscubiertos  \n",
       "idzona                                                    \n",
       "22                         24215                   13060  \n",
       "23                          6918                    2533  \n",
       "26                          6492                    1341  \n",
       "27                          7222                       0  \n",
       "28                          5481                    1122  "
      ]
     },
     "execution_count": 4,
     "metadata": {},
     "output_type": "execute_result"
    }
   ],
   "source": [
    "promedios = df.groupby([\"idzona\"]).agg({\"id\": \"count\", \"precio_metro_total\": [\"mean\",\"std\"], \"precio_metro_cubierto\": [\"mean\",\"std\"]}).fillna(0).astype(int)\n",
    "promedios.columns = [\"publicaciones\", \"promedio_metrostotales\", \"desvio_metrostotales\", \"promedio_metroscubiertos\",\"desvio_metroscubiertos\"]\n",
    "promedios.index = promedios.index.astype(int)\n",
    "promedios.head()"
   ]
  },
  {
   "cell_type": "code",
   "execution_count": 5,
   "metadata": {},
   "outputs": [
    {
     "data": {
      "text/html": [
       "<div>\n",
       "<style scoped>\n",
       "    .dataframe tbody tr th:only-of-type {\n",
       "        vertical-align: middle;\n",
       "    }\n",
       "\n",
       "    .dataframe tbody tr th {\n",
       "        vertical-align: top;\n",
       "    }\n",
       "\n",
       "    .dataframe thead th {\n",
       "        text-align: right;\n",
       "    }\n",
       "</style>\n",
       "<table border=\"1\" class=\"dataframe\">\n",
       "  <thead>\n",
       "    <tr style=\"text-align: right;\">\n",
       "      <th></th>\n",
       "      <th>publicaciones</th>\n",
       "      <th>promedio_metrostotales</th>\n",
       "      <th>desvio_metrostotales</th>\n",
       "      <th>promedio_metroscubiertos</th>\n",
       "      <th>desvio_metroscubiertos</th>\n",
       "    </tr>\n",
       "    <tr>\n",
       "      <th>idzona</th>\n",
       "      <th></th>\n",
       "      <th></th>\n",
       "      <th></th>\n",
       "      <th></th>\n",
       "      <th></th>\n",
       "    </tr>\n",
       "  </thead>\n",
       "  <tbody>\n",
       "    <tr>\n",
       "      <td>74</td>\n",
       "      <td>3</td>\n",
       "      <td>9250</td>\n",
       "      <td>750</td>\n",
       "      <td>7072</td>\n",
       "      <td>1625</td>\n",
       "    </tr>\n",
       "  </tbody>\n",
       "</table>\n",
       "</div>"
      ],
      "text/plain": [
       "        publicaciones  promedio_metrostotales  desvio_metrostotales  \\\n",
       "idzona                                                                \n",
       "74                  3                    9250                   750   \n",
       "\n",
       "        promedio_metroscubiertos  desvio_metroscubiertos  \n",
       "idzona                                                    \n",
       "74                          7072                    1625  "
      ]
     },
     "execution_count": 5,
     "metadata": {},
     "output_type": "execute_result"
    }
   ],
   "source": [
    "promedios.loc[promedios.index == 74]"
   ]
  },
  {
   "cell_type": "code",
   "execution_count": 6,
   "metadata": {},
   "outputs": [],
   "source": [
    "# me quedo con las zonas que tengan más publicaciones y ordeno por precio \n",
    "top_100_publicaciones = promedios.sort_values(by=\"publicaciones\", ascending=False).head(100).sort_values(by=\"promedio_metroscubiertos\", ascending=False)\n",
    "# 10 barrios más caros\n",
    "top_10 = top_100_publicaciones.head(10)\n",
    "# 10 barrios más baratos\n",
    "last_10 = top_100_publicaciones.tail(10)"
   ]
  },
  {
   "cell_type": "markdown",
   "metadata": {},
   "source": [
    "## Armo un Dataframe donde las filas son las zonas"
   ]
  },
  {
   "cell_type": "code",
   "execution_count": 7,
   "metadata": {},
   "outputs": [],
   "source": [
    "calculations = [\"mean\",\"std\",\"max\",\"min\"]\n",
    "aggregations = {\"id\": \"count\",\\\n",
    "                \"precio_metro_total\": calculations,\\\n",
    "                \"precio_metro_cubierto\": calculations,\\\n",
    "                \"antiguedad\": calculations,\\\n",
    "                \"habitaciones\": calculations,\\\n",
    "                \"metroscubiertos\": calculations,\\\n",
    "                \"metrostotales\": calculations,\\\n",
    "                \"lat\": calculations,\\\n",
    "                \"lng\": calculations,\\\n",
    "                \"precio\": calculations,\\\n",
    "                \"habitaciones\": calculations,\\\n",
    "                \"garages\": calculations,\\\n",
    "                \"banos\": calculations,\\\n",
    "               }\n",
    "zonas = df.groupby([\"idzona\"]).agg(aggregations)\n",
    "zonas.columns = [x+\"_\"+y for x,y in zonas.columns]"
   ]
  },
  {
   "cell_type": "code",
   "execution_count": 8,
   "metadata": {},
   "outputs": [
    {
     "data": {
      "text/html": [
       "<div>\n",
       "<style scoped>\n",
       "    .dataframe tbody tr th:only-of-type {\n",
       "        vertical-align: middle;\n",
       "    }\n",
       "\n",
       "    .dataframe tbody tr th {\n",
       "        vertical-align: top;\n",
       "    }\n",
       "\n",
       "    .dataframe thead th {\n",
       "        text-align: right;\n",
       "    }\n",
       "</style>\n",
       "<table border=\"1\" class=\"dataframe\">\n",
       "  <thead>\n",
       "    <tr style=\"text-align: right;\">\n",
       "      <th></th>\n",
       "      <th>id_count</th>\n",
       "      <th>precio_metro_total_mean</th>\n",
       "      <th>precio_metro_total_std</th>\n",
       "      <th>precio_metro_total_max</th>\n",
       "      <th>precio_metro_total_min</th>\n",
       "      <th>precio_metro_cubierto_mean</th>\n",
       "      <th>precio_metro_cubierto_std</th>\n",
       "      <th>precio_metro_cubierto_max</th>\n",
       "      <th>precio_metro_cubierto_min</th>\n",
       "      <th>antiguedad_mean</th>\n",
       "      <th>...</th>\n",
       "      <th>precio_max</th>\n",
       "      <th>precio_min</th>\n",
       "      <th>garages_mean</th>\n",
       "      <th>garages_std</th>\n",
       "      <th>garages_max</th>\n",
       "      <th>garages_min</th>\n",
       "      <th>banos_mean</th>\n",
       "      <th>banos_std</th>\n",
       "      <th>banos_max</th>\n",
       "      <th>banos_min</th>\n",
       "    </tr>\n",
       "    <tr>\n",
       "      <th>idzona</th>\n",
       "      <th></th>\n",
       "      <th></th>\n",
       "      <th></th>\n",
       "      <th></th>\n",
       "      <th></th>\n",
       "      <th></th>\n",
       "      <th></th>\n",
       "      <th></th>\n",
       "      <th></th>\n",
       "      <th></th>\n",
       "      <th></th>\n",
       "      <th></th>\n",
       "      <th></th>\n",
       "      <th></th>\n",
       "      <th></th>\n",
       "      <th></th>\n",
       "      <th></th>\n",
       "      <th></th>\n",
       "      <th></th>\n",
       "      <th></th>\n",
       "      <th></th>\n",
       "    </tr>\n",
       "  </thead>\n",
       "  <tbody>\n",
       "    <tr>\n",
       "      <td>22.0</td>\n",
       "      <td>15</td>\n",
       "      <td>22044.491681</td>\n",
       "      <td>11082.393826</td>\n",
       "      <td>40079.365079</td>\n",
       "      <td>5865.000000</td>\n",
       "      <td>24215.438553</td>\n",
       "      <td>13060.759829</td>\n",
       "      <td>46666.666667</td>\n",
       "      <td>5190.311419</td>\n",
       "      <td>2.533203</td>\n",
       "      <td>...</td>\n",
       "      <td>12500000.0</td>\n",
       "      <td>316710.0</td>\n",
       "      <td>1.071289</td>\n",
       "      <td>0.729980</td>\n",
       "      <td>2.0</td>\n",
       "      <td>0.0</td>\n",
       "      <td>2.000000</td>\n",
       "      <td>0.816406</td>\n",
       "      <td>3.0</td>\n",
       "      <td>1.0</td>\n",
       "    </tr>\n",
       "    <tr>\n",
       "      <td>23.0</td>\n",
       "      <td>26</td>\n",
       "      <td>8136.115904</td>\n",
       "      <td>3078.807635</td>\n",
       "      <td>15000.000000</td>\n",
       "      <td>4010.416667</td>\n",
       "      <td>6918.916093</td>\n",
       "      <td>2533.223702</td>\n",
       "      <td>13793.103448</td>\n",
       "      <td>3843.750000</td>\n",
       "      <td>10.953125</td>\n",
       "      <td>...</td>\n",
       "      <td>4000000.0</td>\n",
       "      <td>385000.0</td>\n",
       "      <td>1.117188</td>\n",
       "      <td>0.927734</td>\n",
       "      <td>3.0</td>\n",
       "      <td>0.0</td>\n",
       "      <td>2.226562</td>\n",
       "      <td>0.922363</td>\n",
       "      <td>4.0</td>\n",
       "      <td>1.0</td>\n",
       "    </tr>\n",
       "    <tr>\n",
       "      <td>26.0</td>\n",
       "      <td>10</td>\n",
       "      <td>5617.013889</td>\n",
       "      <td>2043.191336</td>\n",
       "      <td>10312.500000</td>\n",
       "      <td>2300.000000</td>\n",
       "      <td>6492.125563</td>\n",
       "      <td>1341.220141</td>\n",
       "      <td>8625.000000</td>\n",
       "      <td>4204.545455</td>\n",
       "      <td>20.109375</td>\n",
       "      <td>...</td>\n",
       "      <td>1650000.0</td>\n",
       "      <td>616400.0</td>\n",
       "      <td>1.111328</td>\n",
       "      <td>0.601074</td>\n",
       "      <td>2.0</td>\n",
       "      <td>0.0</td>\n",
       "      <td>2.222656</td>\n",
       "      <td>0.666504</td>\n",
       "      <td>3.0</td>\n",
       "      <td>1.0</td>\n",
       "    </tr>\n",
       "    <tr>\n",
       "      <td>27.0</td>\n",
       "      <td>1</td>\n",
       "      <td>6190.476190</td>\n",
       "      <td>NaN</td>\n",
       "      <td>6190.476190</td>\n",
       "      <td>6190.476190</td>\n",
       "      <td>7222.222222</td>\n",
       "      <td>NaN</td>\n",
       "      <td>7222.222222</td>\n",
       "      <td>7222.222222</td>\n",
       "      <td>10.000000</td>\n",
       "      <td>...</td>\n",
       "      <td>650000.0</td>\n",
       "      <td>650000.0</td>\n",
       "      <td>1.000000</td>\n",
       "      <td>NaN</td>\n",
       "      <td>1.0</td>\n",
       "      <td>1.0</td>\n",
       "      <td>1.000000</td>\n",
       "      <td>NaN</td>\n",
       "      <td>1.0</td>\n",
       "      <td>1.0</td>\n",
       "    </tr>\n",
       "    <tr>\n",
       "      <td>28.0</td>\n",
       "      <td>2</td>\n",
       "      <td>6875.000000</td>\n",
       "      <td>4419.417382</td>\n",
       "      <td>10000.000000</td>\n",
       "      <td>3750.000000</td>\n",
       "      <td>5481.004902</td>\n",
       "      <td>1122.185394</td>\n",
       "      <td>6274.509804</td>\n",
       "      <td>4687.500000</td>\n",
       "      <td>17.500000</td>\n",
       "      <td>...</td>\n",
       "      <td>1600000.0</td>\n",
       "      <td>750000.0</td>\n",
       "      <td>1.500000</td>\n",
       "      <td>0.707031</td>\n",
       "      <td>2.0</td>\n",
       "      <td>1.0</td>\n",
       "      <td>2.000000</td>\n",
       "      <td>0.000000</td>\n",
       "      <td>2.0</td>\n",
       "      <td>2.0</td>\n",
       "    </tr>\n",
       "  </tbody>\n",
       "</table>\n",
       "<p>5 rows × 45 columns</p>\n",
       "</div>"
      ],
      "text/plain": [
       "        id_count  precio_metro_total_mean  precio_metro_total_std  \\\n",
       "idzona                                                              \n",
       "22.0          15             22044.491681            11082.393826   \n",
       "23.0          26              8136.115904             3078.807635   \n",
       "26.0          10              5617.013889             2043.191336   \n",
       "27.0           1              6190.476190                     NaN   \n",
       "28.0           2              6875.000000             4419.417382   \n",
       "\n",
       "        precio_metro_total_max  precio_metro_total_min  \\\n",
       "idzona                                                   \n",
       "22.0              40079.365079             5865.000000   \n",
       "23.0              15000.000000             4010.416667   \n",
       "26.0              10312.500000             2300.000000   \n",
       "27.0               6190.476190             6190.476190   \n",
       "28.0              10000.000000             3750.000000   \n",
       "\n",
       "        precio_metro_cubierto_mean  precio_metro_cubierto_std  \\\n",
       "idzona                                                          \n",
       "22.0                  24215.438553               13060.759829   \n",
       "23.0                   6918.916093                2533.223702   \n",
       "26.0                   6492.125563                1341.220141   \n",
       "27.0                   7222.222222                        NaN   \n",
       "28.0                   5481.004902                1122.185394   \n",
       "\n",
       "        precio_metro_cubierto_max  precio_metro_cubierto_min  antiguedad_mean  \\\n",
       "idzona                                                                          \n",
       "22.0                 46666.666667                5190.311419         2.533203   \n",
       "23.0                 13793.103448                3843.750000        10.953125   \n",
       "26.0                  8625.000000                4204.545455        20.109375   \n",
       "27.0                  7222.222222                7222.222222        10.000000   \n",
       "28.0                  6274.509804                4687.500000        17.500000   \n",
       "\n",
       "        ...  precio_max  precio_min  garages_mean  garages_std  garages_max  \\\n",
       "idzona  ...                                                                   \n",
       "22.0    ...  12500000.0    316710.0      1.071289     0.729980          2.0   \n",
       "23.0    ...   4000000.0    385000.0      1.117188     0.927734          3.0   \n",
       "26.0    ...   1650000.0    616400.0      1.111328     0.601074          2.0   \n",
       "27.0    ...    650000.0    650000.0      1.000000          NaN          1.0   \n",
       "28.0    ...   1600000.0    750000.0      1.500000     0.707031          2.0   \n",
       "\n",
       "        garages_min  banos_mean  banos_std  banos_max  banos_min  \n",
       "idzona                                                            \n",
       "22.0            0.0    2.000000   0.816406        3.0        1.0  \n",
       "23.0            0.0    2.226562   0.922363        4.0        1.0  \n",
       "26.0            0.0    2.222656   0.666504        3.0        1.0  \n",
       "27.0            1.0    1.000000        NaN        1.0        1.0  \n",
       "28.0            1.0    2.000000   0.000000        2.0        2.0  \n",
       "\n",
       "[5 rows x 45 columns]"
      ]
     },
     "execution_count": 8,
     "metadata": {},
     "output_type": "execute_result"
    }
   ],
   "source": [
    "zonas.head()"
   ]
  },
  {
   "cell_type": "code",
   "execution_count": 9,
   "metadata": {},
   "outputs": [],
   "source": [
    "zonas[\"lat_dif\"] = zonas[\"lat_max\"] - zonas[\"lat_min\"]\n",
    "zonas[\"lng_dif\"] = zonas[\"lng_max\"] - zonas[\"lng_min\"]"
   ]
  },
  {
   "cell_type": "code",
   "execution_count": 10,
   "metadata": {},
   "outputs": [],
   "source": [
    "zonas[\"has_gps\"] = (~zonas[\"lat_mean\"].isna()) & (zonas[\"lat_mean\"] > 10) & (zonas[\"lng_mean\"] < -80)"
   ]
  },
  {
   "cell_type": "code",
   "execution_count": 11,
   "metadata": {},
   "outputs": [
    {
     "data": {
      "text/plain": [
       "True     14830\n",
       "False     4889\n",
       "Name: has_gps, dtype: int64"
      ]
     },
     "execution_count": 11,
     "metadata": {},
     "output_type": "execute_result"
    }
   ],
   "source": [
    "zonas.has_gps.value_counts()"
   ]
  },
  {
   "cell_type": "code",
   "execution_count": 12,
   "metadata": {},
   "outputs": [
    {
     "data": {
      "text/plain": [
       "idzona\n",
       "125606.0    50\n",
       "49336.0     46\n",
       "106955.0    37\n",
       "55074.0     25\n",
       "69319.0     24\n",
       "Name: id_count, dtype: int64"
      ]
     },
     "execution_count": 12,
     "metadata": {},
     "output_type": "execute_result"
    }
   ],
   "source": [
    "# dimensiones (en cantidad de publicaciones) de las zonas que no tienen info gps\n",
    "zonas.loc[~zonas[\"has_gps\"]][\"id_count\"].sort_values(ascending=False).head()"
   ]
  },
  {
   "cell_type": "code",
   "execution_count": 13,
   "metadata": {},
   "outputs": [
    {
     "data": {
      "image/png": "[encoded data removed]",
      "text/plain": [
       "<Figure size 432x288 with 2 Axes>"
      ]
     },
     "metadata": {
      "needs_background": "light"
     },
     "output_type": "display_data"
    }
   ],
   "source": [
    "zonas_con_gps = zonas.loc[(zonas.has_gps) & (zonas.id_count > 10)]\n",
    "zonas_con_gps = zonas_con_gps.loc[z]\n",
    "\n",
    "def doble_violin(serie_izq, serie_der, titulo_izq, titulo_der):\n",
    "    fig, ax = plt.subplots(1,2)\n",
    "    plot_lng = sns.violinplot(serie_izq, orient=\"v\", ax=ax[0])\n",
    "    plot_lng.set_title(titulo_izq)\n",
    "    plot_lat = sns.violinplot(serie_der, orient=\"v\", color=\"red\", ax=ax[1])\n",
    "    plot_lat.set_title(titulo_der)\n",
    "    return fig\n",
    "\n",
    "plot = doble_violin(zonas_con_gps.lng_dif, zonas_con_gps.lat_dif, \"Diferencia de Longitud\", \"Diferencia de Latitud\")"
   ]
  },
  {
   "cell_type": "code",
   "execution_count": 14,
   "metadata": {},
   "outputs": [
    {
     "data": {
      "image/png": "[encoded data removed]",
      "text/plain": [
       "<Figure size 432x288 with 2 Axes>"
      ]
     },
     "metadata": {
      "needs_background": "light"
     },
     "output_type": "display_data"
    }
   ],
   "source": [
    "# en base a esto, me quedo con las zonas que tienen:\n",
    "max_dif_lng, max_dif_lat = 0.2, 0.2\n",
    "zonas_ok = zonas_con_gps.loc[(zonas_con_gps.id_count > 5) & (zonas_con_gps.lat_dif < max_dif_lat) & (zonas_con_gps.lng_dif < max_dif_lng)]\n",
    "plot = doble_violin(zonas_ok.lng_dif, zonas_ok.lat_dif, \"Diferencia de Longitud\", \"Diferencia de Latitud\")"
   ]
  },
  {
   "cell_type": "code",
   "execution_count": 15,
   "metadata": {},
   "outputs": [
    {
     "data": {
      "text/html": [
       "<div>\n",
       "<style scoped>\n",
       "    .dataframe tbody tr th:only-of-type {\n",
       "        vertical-align: middle;\n",
       "    }\n",
       "\n",
       "    .dataframe tbody tr th {\n",
       "        vertical-align: top;\n",
       "    }\n",
       "\n",
       "    .dataframe thead th {\n",
       "        text-align: right;\n",
       "    }\n",
       "</style>\n",
       "<table border=\"1\" class=\"dataframe\">\n",
       "  <thead>\n",
       "    <tr style=\"text-align: right;\">\n",
       "      <th></th>\n",
       "      <th>id_count</th>\n",
       "      <th>precio_metro_total_mean</th>\n",
       "      <th>precio_metro_total_std</th>\n",
       "      <th>precio_metro_total_max</th>\n",
       "      <th>precio_metro_total_min</th>\n",
       "      <th>precio_metro_cubierto_mean</th>\n",
       "      <th>precio_metro_cubierto_std</th>\n",
       "      <th>precio_metro_cubierto_max</th>\n",
       "      <th>precio_metro_cubierto_min</th>\n",
       "      <th>antiguedad_mean</th>\n",
       "      <th>...</th>\n",
       "      <th>garages_std</th>\n",
       "      <th>garages_max</th>\n",
       "      <th>garages_min</th>\n",
       "      <th>banos_mean</th>\n",
       "      <th>banos_std</th>\n",
       "      <th>banos_max</th>\n",
       "      <th>banos_min</th>\n",
       "      <th>lat_dif</th>\n",
       "      <th>lng_dif</th>\n",
       "      <th>has_gps</th>\n",
       "    </tr>\n",
       "    <tr>\n",
       "      <th>idzona</th>\n",
       "      <th></th>\n",
       "      <th></th>\n",
       "      <th></th>\n",
       "      <th></th>\n",
       "      <th></th>\n",
       "      <th></th>\n",
       "      <th></th>\n",
       "      <th></th>\n",
       "      <th></th>\n",
       "      <th></th>\n",
       "      <th></th>\n",
       "      <th></th>\n",
       "      <th></th>\n",
       "      <th></th>\n",
       "      <th></th>\n",
       "      <th></th>\n",
       "      <th></th>\n",
       "      <th></th>\n",
       "      <th></th>\n",
       "      <th></th>\n",
       "      <th></th>\n",
       "    </tr>\n",
       "  </thead>\n",
       "  <tbody>\n",
       "  </tbody>\n",
       "</table>\n",
       "<p>0 rows × 48 columns</p>\n",
       "</div>"
      ],
      "text/plain": [
       "Empty DataFrame\n",
       "Columns: [id_count, precio_metro_total_mean, precio_metro_total_std, precio_metro_total_max, precio_metro_total_min, precio_metro_cubierto_mean, precio_metro_cubierto_std, precio_metro_cubierto_max, precio_metro_cubierto_min, antiguedad_mean, antiguedad_std, antiguedad_max, antiguedad_min, habitaciones_mean, habitaciones_std, habitaciones_max, habitaciones_min, metroscubiertos_mean, metroscubiertos_std, metroscubiertos_max, metroscubiertos_min, metrostotales_mean, metrostotales_std, metrostotales_max, metrostotales_min, lat_mean, lat_std, lat_max, lat_min, lng_mean, lng_std, lng_max, lng_min, precio_mean, precio_std, precio_max, precio_min, garages_mean, garages_std, garages_max, garages_min, banos_mean, banos_std, banos_max, banos_min, lat_dif, lng_dif, has_gps]\n",
       "Index: []\n",
       "\n",
       "[0 rows x 48 columns]"
      ]
     },
     "execution_count": 15,
     "metadata": {},
     "output_type": "execute_result"
    }
   ],
   "source": [
    "zonas_ok.loc[zonas_ok.lat_mean < 10]\n",
    "zonas_ok.loc[zonas_ok.lat_mean < 10]"
   ]
  },
  {
   "cell_type": "code",
   "execution_count": 16,
   "metadata": {},
   "outputs": [
    {
     "data": {
      "text/html": [
       "<div>\n",
       "<style scoped>\n",
       "    .dataframe tbody tr th:only-of-type {\n",
       "        vertical-align: middle;\n",
       "    }\n",
       "\n",
       "    .dataframe tbody tr th {\n",
       "        vertical-align: top;\n",
       "    }\n",
       "\n",
       "    .dataframe thead th {\n",
       "        text-align: right;\n",
       "    }\n",
       "</style>\n",
       "<table border=\"1\" class=\"dataframe\">\n",
       "  <thead>\n",
       "    <tr style=\"text-align: right;\">\n",
       "      <th></th>\n",
       "      <th>lat</th>\n",
       "      <th>lng</th>\n",
       "    </tr>\n",
       "  </thead>\n",
       "  <tbody>\n",
       "    <tr>\n",
       "      <td>39010</td>\n",
       "      <td>NaN</td>\n",
       "      <td>NaN</td>\n",
       "    </tr>\n",
       "    <tr>\n",
       "      <td>67263</td>\n",
       "      <td>NaN</td>\n",
       "      <td>NaN</td>\n",
       "    </tr>\n",
       "    <tr>\n",
       "      <td>90186</td>\n",
       "      <td>NaN</td>\n",
       "      <td>NaN</td>\n",
       "    </tr>\n",
       "    <tr>\n",
       "      <td>127500</td>\n",
       "      <td>0.0</td>\n",
       "      <td>0.0</td>\n",
       "    </tr>\n",
       "    <tr>\n",
       "      <td>147771</td>\n",
       "      <td>NaN</td>\n",
       "      <td>NaN</td>\n",
       "    </tr>\n",
       "    <tr>\n",
       "      <td>158437</td>\n",
       "      <td>NaN</td>\n",
       "      <td>NaN</td>\n",
       "    </tr>\n",
       "    <tr>\n",
       "      <td>192306</td>\n",
       "      <td>0.0</td>\n",
       "      <td>0.0</td>\n",
       "    </tr>\n",
       "    <tr>\n",
       "      <td>216685</td>\n",
       "      <td>NaN</td>\n",
       "      <td>NaN</td>\n",
       "    </tr>\n",
       "    <tr>\n",
       "      <td>229753</td>\n",
       "      <td>NaN</td>\n",
       "      <td>NaN</td>\n",
       "    </tr>\n",
       "    <tr>\n",
       "      <td>235961</td>\n",
       "      <td>NaN</td>\n",
       "      <td>NaN</td>\n",
       "    </tr>\n",
       "    <tr>\n",
       "      <td>236808</td>\n",
       "      <td>NaN</td>\n",
       "      <td>NaN</td>\n",
       "    </tr>\n",
       "  </tbody>\n",
       "</table>\n",
       "</div>"
      ],
      "text/plain": [
       "        lat  lng\n",
       "39010   NaN  NaN\n",
       "67263   NaN  NaN\n",
       "90186   NaN  NaN\n",
       "127500  0.0  0.0\n",
       "147771  NaN  NaN\n",
       "158437  NaN  NaN\n",
       "192306  0.0  0.0\n",
       "216685  NaN  NaN\n",
       "229753  NaN  NaN\n",
       "235961  NaN  NaN\n",
       "236808  NaN  NaN"
      ]
     },
     "execution_count": 16,
     "metadata": {},
     "output_type": "execute_result"
    }
   ],
   "source": [
    "df.loc[df.idzona==70108.0][[\"lat\",\"lng\"]]"
   ]
  },
  {
   "cell_type": "code",
   "execution_count": 22,
   "metadata": {},
   "outputs": [],
   "source": [
    "zonas_ok.loc[:,\"coord\"] = zonas_ok.apply(lambda x: Point(x[\"lng_mean\"],x[\"lat_mean\"]), axis=1)"
   ]
  },
  {
   "cell_type": "code",
   "execution_count": 24,
   "metadata": {},
   "outputs": [],
   "source": [
    "zonas_ok[\"en_mexico\"] = zonas_ok[\"coord\"].map(esta_en_mexico)"
   ]
  },
  {
   "cell_type": "code",
   "execution_count": 25,
   "metadata": {},
   "outputs": [],
   "source": [
    "geoDF = geopandas.GeoDataFrame(zonas_ok, geometry=\"coord\")"
   ]
  },
  {
   "cell_type": "code",
   "execution_count": 26,
   "metadata": {},
   "outputs": [],
   "source": [
    "pais = geopandas.read_file(\"./MEX_adm/MEX_adm0.shp\")\n",
    "estados = geopandas.read_file(\"./MEX_adm/MEX_adm1.shp\")"
   ]
  },
  {
   "cell_type": "code",
   "execution_count": 27,
   "metadata": {},
   "outputs": [
    {
     "data": {
      "text/plain": [
       "<matplotlib.axes._subplots.AxesSubplot at 0x29b9b040be0>"
      ]
     },
     "execution_count": 27,
     "metadata": {},
     "output_type": "execute_result"
    },
    {
     "data": {
      "image/png": "[encoded data removed]",
      "text/plain": [
       "<Figure size 1296x648 with 1 Axes>"
      ]
     },
     "metadata": {
      "needs_background": "light"
     },
     "output_type": "display_data"
    }
   ],
   "source": [
    "base = pais.plot(figsize=(18,9))\n",
    "base.set_title(\"Zonas\")\n",
    "estados_plot = estados.plot(ax=base, color=\"white\")\n",
    "geoDF.plot(ax=estados_plot)"
   ]
  },
  {
   "cell_type": "code",
   "execution_count": 28,
   "metadata": {},
   "outputs": [
    {
     "data": {
      "text/plain": [
       "count    2669.000000\n",
       "mean     -100.432192\n",
       "std         4.221894\n",
       "min      -117.112776\n",
       "25%      -101.345953\n",
       "50%       -99.258624\n",
       "75%       -99.114093\n",
       "max       -86.821099\n",
       "Name: lng_mean, dtype: float64"
      ]
     },
     "execution_count": 28,
     "metadata": {},
     "output_type": "execute_result"
    }
   ],
   "source": [
    "geoDF.lng_mean.describe()"
   ]
  }
 ],
 "metadata": {
  "kernelspec": {
   "display_name": "Python 3",
   "language": "python",
   "name": "python3"
  },
  "language_info": {
   "codemirror_mode": {
    "name": "ipython",
    "version": 3
   },
   "file_extension": ".py",
   "mimetype": "text/x-python",
   "name": "python",
   "nbconvert_exporter": "python",
   "pygments_lexer": "ipython3",
   "version": "3.7.0"
  }
 },
 "nbformat": 4,
 "nbformat_minor": 4
}

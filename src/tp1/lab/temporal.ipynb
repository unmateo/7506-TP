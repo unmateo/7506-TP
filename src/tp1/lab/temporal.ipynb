{
 "cells": [
  {
   "cell_type": "markdown",
   "metadata": {},
   "source": [
    "## Ideas\n",
    "\n",
    "- Cantidad de publicaciones de cada tipo\n",
    "  - En total\n",
    "  - Por año\n",
    "- "
   ]
  },
  {
   "cell_type": "code",
   "execution_count": 1,
   "metadata": {},
   "outputs": [
    {
     "data": {
      "text/plain": [
       "Index(['id', 'titulo', 'descripcion', 'tipodepropiedad', 'direccion', 'ciudad',\n",
       "       'provincia', 'antiguedad', 'habitaciones', 'garages', 'banos',\n",
       "       'metroscubiertos', 'metrostotales', 'idzona', 'lat', 'lng', 'fecha',\n",
       "       'gimnasio', 'usosmultiples', 'piscina', 'escuelascercanas',\n",
       "       'centroscomercialescercanos', 'precio', 'mes', 'ano', 'dia'],\n",
       "      dtype='object')"
      ]
     },
     "execution_count": 1,
     "metadata": {},
     "output_type": "execute_result"
    }
   ],
   "source": [
    "#importo las funciones para levantar los dataframes\n",
    "%run \"../../utils/dataset_parsing.ipynb\"\n",
    "#importo las funciones para graficar\n",
    "%run \"../../utils/graphs.ipynb\"\n",
    "df = levantar_datos(\"../../\"+DATASET_RELATIVE_PATH)\n",
    "df.columns"
   ]
  },
  {
   "cell_type": "code",
   "execution_count": 67,
   "metadata": {},
   "outputs": [
    {
     "data": {
      "text/plain": [
       "tipodepropiedad\n",
       "Casa                             59.06\n",
       "Apartamento                      23.90\n",
       "Casa en condominio                8.04\n",
       "Terreno                           4.14\n",
       "Local Comercial                   1.27\n",
       "Oficina comercial                 0.73\n",
       "Bodega comercial                  0.59\n",
       "Edificio                          0.58\n",
       "Terreno comercial                 0.55\n",
       "Casa uso de suelo                 0.30\n",
       "Quinta Vacacional                 0.16\n",
       "Duplex                            0.14\n",
       "Villa                             0.14\n",
       "Inmuebles productivos urbanos     0.08\n",
       "Rancho                            0.07\n",
       "Local en centro comercial         0.07\n",
       "Departamento Compartido           0.06\n",
       "Otros                             0.06\n",
       "Nave industrial                   0.03\n",
       "Terreno industrial                0.01\n",
       "Huerta                            0.01\n",
       "Lote                              0.00\n",
       "Hospedaje                         0.00\n",
       "Garage                            0.00\n",
       "dtype: float64"
      ]
     },
     "execution_count": 67,
     "metadata": {},
     "output_type": "execute_result"
    }
   ],
   "source": [
    "por_tipo = df.groupby([\"tipodepropiedad\"]).agg({\"tipodepropiedad\":\"count\"}).unstack(fill_value=0).sort_values(ascending=False)\n",
    "por_tipo.index = por_tipo.index.droplevel()\n",
    "total_publicaciones = por_tipo.sum()\n",
    "por_tipo_porcentual = por_tipo.apply(lambda x: round(100 * x/total_publicaciones, 2))\n",
    "por_tipo_porcentual"
   ]
  },
  {
   "cell_type": "code",
   "execution_count": 58,
   "metadata": {},
   "outputs": [
    {
     "data": {
      "text/plain": [
       "96.41"
      ]
     },
     "execution_count": 58,
     "metadata": {},
     "output_type": "execute_result"
    }
   ],
   "source": [
    "por_tipo_porcentual.head(5).sum()"
   ]
  },
  {
   "cell_type": "markdown",
   "metadata": {},
   "source": [
    "En base a los resultados de la tabla anterior, nos quedamos con los 5 tipos de propiedad más frecuentes en las publicaciones (96.41% del total) para poder sintetizar mejor los gráficos."
   ]
  },
  {
   "cell_type": "code",
   "execution_count": 76,
   "metadata": {},
   "outputs": [],
   "source": [
    "top_5_tipos  = por_tipo_porcentual.head(5).index.values"
   ]
  },
  {
   "cell_type": "code",
   "execution_count": 85,
   "metadata": {},
   "outputs": [],
   "source": [
    "df_top_5 = df.loc[df[\"tipodepropiedad\"].isin(top_5_tipos)]"
   ]
  },
  {
   "cell_type": "code",
   "execution_count": 87,
   "metadata": {},
   "outputs": [],
   "source": [
    "por_tipo_ano = df_top_5.groupby([\"ano\",\"tipodepropiedad\"]).agg({\"tipodepropiedad\":\"count\"}).unstack(fill_value=0)\n",
    "por_tipo_ano.columns = por_tipo_ano.columns.droplevel()"
   ]
  },
  {
   "cell_type": "code",
   "execution_count": 89,
   "metadata": {},
   "outputs": [],
   "source": [
    "totales = por_tipo_ano.sum(axis=1)"
   ]
  },
  {
   "cell_type": "code",
   "execution_count": 90,
   "metadata": {},
   "outputs": [],
   "source": [
    "# por_tipo_porcentual = por_tipo.apply(lambda x: x[totales], axis=1)\n",
    "por_tipo_ano_porcentual = por_tipo_ano.apply(lambda x: round(100 * x/totales[x.index], 2), axis=0)"
   ]
  },
  {
   "cell_type": "code",
   "execution_count": 92,
   "metadata": {},
   "outputs": [
    {
     "data": {
      "text/html": [
       "<div>\n",
       "<style scoped>\n",
       "    .dataframe tbody tr th:only-of-type {\n",
       "        vertical-align: middle;\n",
       "    }\n",
       "\n",
       "    .dataframe tbody tr th {\n",
       "        vertical-align: top;\n",
       "    }\n",
       "\n",
       "    .dataframe thead th {\n",
       "        text-align: right;\n",
       "    }\n",
       "</style>\n",
       "<table border=\"1\" class=\"dataframe\">\n",
       "  <thead>\n",
       "    <tr style=\"text-align: right;\">\n",
       "      <th>tipodepropiedad</th>\n",
       "      <th>Apartamento</th>\n",
       "      <th>Casa</th>\n",
       "      <th>Casa en condominio</th>\n",
       "      <th>Local Comercial</th>\n",
       "      <th>Terreno</th>\n",
       "    </tr>\n",
       "    <tr>\n",
       "      <th>ano</th>\n",
       "      <th></th>\n",
       "      <th></th>\n",
       "      <th></th>\n",
       "      <th></th>\n",
       "      <th></th>\n",
       "    </tr>\n",
       "  </thead>\n",
       "  <tbody>\n",
       "    <tr>\n",
       "      <td>2012</td>\n",
       "      <td>22.35</td>\n",
       "      <td>60.49</td>\n",
       "      <td>12.49</td>\n",
       "      <td>0.48</td>\n",
       "      <td>4.19</td>\n",
       "    </tr>\n",
       "    <tr>\n",
       "      <td>2013</td>\n",
       "      <td>22.78</td>\n",
       "      <td>65.70</td>\n",
       "      <td>6.65</td>\n",
       "      <td>1.11</td>\n",
       "      <td>3.76</td>\n",
       "    </tr>\n",
       "    <tr>\n",
       "      <td>2014</td>\n",
       "      <td>24.80</td>\n",
       "      <td>62.14</td>\n",
       "      <td>7.78</td>\n",
       "      <td>1.34</td>\n",
       "      <td>3.94</td>\n",
       "    </tr>\n",
       "    <tr>\n",
       "      <td>2015</td>\n",
       "      <td>25.80</td>\n",
       "      <td>60.17</td>\n",
       "      <td>8.27</td>\n",
       "      <td>1.45</td>\n",
       "      <td>4.31</td>\n",
       "    </tr>\n",
       "    <tr>\n",
       "      <td>2016</td>\n",
       "      <td>25.48</td>\n",
       "      <td>60.21</td>\n",
       "      <td>8.13</td>\n",
       "      <td>1.52</td>\n",
       "      <td>4.65</td>\n",
       "    </tr>\n",
       "  </tbody>\n",
       "</table>\n",
       "</div>"
      ],
      "text/plain": [
       "tipodepropiedad  Apartamento   Casa  Casa en condominio  Local Comercial  \\\n",
       "ano                                                                        \n",
       "2012                   22.35  60.49               12.49             0.48   \n",
       "2013                   22.78  65.70                6.65             1.11   \n",
       "2014                   24.80  62.14                7.78             1.34   \n",
       "2015                   25.80  60.17                8.27             1.45   \n",
       "2016                   25.48  60.21                8.13             1.52   \n",
       "\n",
       "tipodepropiedad  Terreno  \n",
       "ano                       \n",
       "2012                4.19  \n",
       "2013                3.76  \n",
       "2014                3.94  \n",
       "2015                4.31  \n",
       "2016                4.65  "
      ]
     },
     "execution_count": 92,
     "metadata": {},
     "output_type": "execute_result"
    }
   ],
   "source": [
    "por_tipo_ano_porcentual"
   ]
  },
  {
   "cell_type": "code",
   "execution_count": 105,
   "metadata": {},
   "outputs": [
    {
     "data": {
      "text/plain": [
       "<matplotlib.axes._subplots.AxesSubplot at 0x18af2607c18>"
      ]
     },
     "execution_count": 105,
     "metadata": {},
     "output_type": "execute_result"
    },
    {
     "data": {
      "image/png": "[encoded data removed]",
      "text/plain": [
       "<Figure size 432x288 with 1 Axes>"
      ]
     },
     "metadata": {
      "needs_background": "light"
     },
     "output_type": "display_data"
    }
   ],
   "source": [
    "por_tipo_ano_porcentual.plot(kind='line', xticks=por_tipo_ano_porcentual.index.values)"
   ]
  },
  {
   "cell_type": "code",
   "execution_count": 197,
   "metadata": {},
   "outputs": [
    {
     "data": {
      "image/png": "[encoded data removed]",
      "text/plain": [
       "<Figure size 864x432 with 1 Axes>"
      ]
     },
     "metadata": {
      "needs_background": "light"
     },
     "output_type": "display_data"
    }
   ],
   "source": [
    "import matplotlib.pyplot as plt\n",
    "def get_lineplot(data, xlabel=\"\", ylabel=\"\", **kwargs):\n",
    "    plot = data.plot(figsize=(12,6), fontsize=12, **kwargs)\n",
    "    plt.legend(bbox_to_anchor=(1.04,1), loc=\"upper left\")\n",
    "    plt.xlabel(xlabel, fontsize=14)\n",
    "    plt.ylabel(ylabel, fontsize=14)\n",
    "    return plot\n",
    "plot = get_lineplot(por_tipo_ano_porcentual, xticks=por_tipo_ano_porcentual.index.values, title = \"Porcentaje de publicaciones por tipo\", xlabel=\"Año\", ylabel=\"Porcentaje\")\n"
   ]
  },
  {
   "cell_type": "code",
   "execution_count": null,
   "metadata": {},
   "outputs": [],
   "source": []
  }
 ],
 "metadata": {
  "kernelspec": {
   "display_name": "Python 3",
   "language": "python",
   "name": "python3"
  },
  "language_info": {
   "codemirror_mode": {
    "name": "ipython",
    "version": 3
   },
   "file_extension": ".py",
   "mimetype": "text/x-python",
   "name": "python",
   "nbconvert_exporter": "python",
   "pygments_lexer": "ipython3",
   "version": "3.7.0"
  }
 },
 "nbformat": 4,
 "nbformat_minor": 4
}

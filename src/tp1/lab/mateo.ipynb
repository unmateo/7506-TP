{
 "cells": [
  {
   "cell_type": "code",
   "execution_count": 12,
   "metadata": {},
   "outputs": [],
   "source": [
    "#importo las funciones para levantar los dataframes\n",
    "%run \"../../utils/dataset_parsing.ipynb\"\n",
    "#importo las funciones para graficar\n",
    "%run \"../../utils/graphs.ipynb\""
   ]
  },
  {
   "cell_type": "code",
   "execution_count": 4,
   "metadata": {},
   "outputs": [],
   "source": [
    "df = levantar_datos(\"../../\"+DATASET_RELATIVE_PATH)"
   ]
  },
  {
   "cell_type": "code",
   "execution_count": 19,
   "metadata": {},
   "outputs": [
    {
     "name": "stdout",
     "output_type": "stream",
     "text": [
      "<class 'pandas.core.frame.DataFrame'>\n",
      "RangeIndex: 240000 entries, 0 to 239999\n",
      "Data columns (total 26 columns):\n",
      "id                            240000 non-null int64\n",
      "titulo                        234613 non-null object\n",
      "descripcion                   238381 non-null object\n",
      "tipodepropiedad               239954 non-null category\n",
      "direccion                     186928 non-null object\n",
      "ciudad                        239628 non-null category\n",
      "provincia                     239845 non-null category\n",
      "antiguedad                    196445 non-null float16\n",
      "habitaciones                  217529 non-null float16\n",
      "garages                       202235 non-null float16\n",
      "banos                         213779 non-null float16\n",
      "metroscubiertos               222600 non-null float32\n",
      "metrostotales                 188533 non-null float32\n",
      "idzona                        211379 non-null float64\n",
      "lat                           116512 non-null float64\n",
      "lng                           116512 non-null float64\n",
      "fecha                         240000 non-null datetime64[ns]\n",
      "gimnasio                      240000 non-null bool\n",
      "usosmultiples                 240000 non-null bool\n",
      "piscina                       240000 non-null bool\n",
      "escuelascercanas              240000 non-null bool\n",
      "centroscomercialescercanos    240000 non-null bool\n",
      "precio                        240000 non-null float64\n",
      "mes                           240000 non-null int64\n",
      "ano                           240000 non-null int64\n",
      "dia                           240000 non-null int64\n",
      "dtypes: bool(5), category(3), datetime64[ns](1), float16(4), float32(2), float64(4), int64(4), object(3)\n",
      "memory usage: 27.7+ MB\n"
     ]
    }
   ],
   "source": [
    "df.info()"
   ]
  },
  {
   "cell_type": "code",
   "execution_count": 15,
   "metadata": {},
   "outputs": [],
   "source": [
    "grouped = df.groupby([\"ano\",\"mes\"]).aggregate({\"precio\": \"count\"}).unstack()\n",
    "grouped.columns = grouped.columns.droplevel()"
   ]
  },
  {
   "cell_type": "code",
   "execution_count": 16,
   "metadata": {},
   "outputs": [
    {
     "data": {
      "text/html": [
       "<div>\n",
       "<style scoped>\n",
       "    .dataframe tbody tr th:only-of-type {\n",
       "        vertical-align: middle;\n",
       "    }\n",
       "\n",
       "    .dataframe tbody tr th {\n",
       "        vertical-align: top;\n",
       "    }\n",
       "\n",
       "    .dataframe thead th {\n",
       "        text-align: right;\n",
       "    }\n",
       "</style>\n",
       "<table border=\"1\" class=\"dataframe\">\n",
       "  <thead>\n",
       "    <tr style=\"text-align: right;\">\n",
       "      <th>mes</th>\n",
       "      <th>1</th>\n",
       "      <th>2</th>\n",
       "      <th>3</th>\n",
       "      <th>4</th>\n",
       "      <th>5</th>\n",
       "      <th>6</th>\n",
       "      <th>7</th>\n",
       "      <th>8</th>\n",
       "      <th>9</th>\n",
       "      <th>10</th>\n",
       "      <th>11</th>\n",
       "      <th>12</th>\n",
       "    </tr>\n",
       "    <tr>\n",
       "      <th>ano</th>\n",
       "      <th></th>\n",
       "      <th></th>\n",
       "      <th></th>\n",
       "      <th></th>\n",
       "      <th></th>\n",
       "      <th></th>\n",
       "      <th></th>\n",
       "      <th></th>\n",
       "      <th></th>\n",
       "      <th></th>\n",
       "      <th></th>\n",
       "      <th></th>\n",
       "    </tr>\n",
       "  </thead>\n",
       "  <tbody>\n",
       "    <tr>\n",
       "      <td>2012</td>\n",
       "      <td>1528</td>\n",
       "      <td>1327</td>\n",
       "      <td>1103</td>\n",
       "      <td>1434</td>\n",
       "      <td>1857</td>\n",
       "      <td>1524</td>\n",
       "      <td>1973</td>\n",
       "      <td>3971</td>\n",
       "      <td>2598</td>\n",
       "      <td>3161</td>\n",
       "      <td>1608</td>\n",
       "      <td>1450</td>\n",
       "    </tr>\n",
       "    <tr>\n",
       "      <td>2013</td>\n",
       "      <td>1993</td>\n",
       "      <td>1401</td>\n",
       "      <td>1734</td>\n",
       "      <td>1829</td>\n",
       "      <td>2000</td>\n",
       "      <td>2016</td>\n",
       "      <td>2524</td>\n",
       "      <td>2374</td>\n",
       "      <td>3321</td>\n",
       "      <td>4056</td>\n",
       "      <td>4012</td>\n",
       "      <td>3126</td>\n",
       "    </tr>\n",
       "    <tr>\n",
       "      <td>2014</td>\n",
       "      <td>2403</td>\n",
       "      <td>2534</td>\n",
       "      <td>2916</td>\n",
       "      <td>2780</td>\n",
       "      <td>3071</td>\n",
       "      <td>3082</td>\n",
       "      <td>3125</td>\n",
       "      <td>3583</td>\n",
       "      <td>3911</td>\n",
       "      <td>3811</td>\n",
       "      <td>4613</td>\n",
       "      <td>4743</td>\n",
       "    </tr>\n",
       "    <tr>\n",
       "      <td>2015</td>\n",
       "      <td>4310</td>\n",
       "      <td>3869</td>\n",
       "      <td>3957</td>\n",
       "      <td>3783</td>\n",
       "      <td>3696</td>\n",
       "      <td>3804</td>\n",
       "      <td>3875</td>\n",
       "      <td>4526</td>\n",
       "      <td>4863</td>\n",
       "      <td>5552</td>\n",
       "      <td>4906</td>\n",
       "      <td>4329</td>\n",
       "    </tr>\n",
       "    <tr>\n",
       "      <td>2016</td>\n",
       "      <td>5775</td>\n",
       "      <td>4592</td>\n",
       "      <td>5022</td>\n",
       "      <td>6640</td>\n",
       "      <td>5438</td>\n",
       "      <td>6795</td>\n",
       "      <td>6013</td>\n",
       "      <td>6443</td>\n",
       "      <td>5929</td>\n",
       "      <td>6726</td>\n",
       "      <td>6086</td>\n",
       "      <td>28579</td>\n",
       "    </tr>\n",
       "  </tbody>\n",
       "</table>\n",
       "</div>"
      ],
      "text/plain": [
       "mes     1     2     3     4     5     6     7     8     9     10    11     12\n",
       "ano                                                                          \n",
       "2012  1528  1327  1103  1434  1857  1524  1973  3971  2598  3161  1608   1450\n",
       "2013  1993  1401  1734  1829  2000  2016  2524  2374  3321  4056  4012   3126\n",
       "2014  2403  2534  2916  2780  3071  3082  3125  3583  3911  3811  4613   4743\n",
       "2015  4310  3869  3957  3783  3696  3804  3875  4526  4863  5552  4906   4329\n",
       "2016  5775  4592  5022  6640  5438  6795  6013  6443  5929  6726  6086  28579"
      ]
     },
     "execution_count": 16,
     "metadata": {},
     "output_type": "execute_result"
    }
   ],
   "source": [
    "grouped"
   ]
  },
  {
   "cell_type": "code",
   "execution_count": 18,
   "metadata": {},
   "outputs": [
    {
     "data": {
      "text/plain": [
       "<matplotlib.axes._subplots.AxesSubplot at 0x23342fcd978>"
      ]
     },
     "execution_count": 18,
     "metadata": {},
     "output_type": "execute_result"
    },
    {
     "data": {
      "image/png": "[encoded data removed]",
      "text/plain": [
       "<Figure size 1440x1080 with 2 Axes>"
      ]
     },
     "metadata": {
      "needs_background": "light"
     },
     "output_type": "display_data"
    }
   ],
   "source": [
    "get_heatmap(grouped, title=\"Cantidad de publicaciones por año/mes\")"
   ]
  },
  {
   "cell_type": "code",
   "execution_count": 23,
   "metadata": {},
   "outputs": [
    {
     "data": {
      "text/plain": [
       "<matplotlib.axes._subplots.AxesSubplot at 0x23379daeda0>"
      ]
     },
     "execution_count": 23,
     "metadata": {},
     "output_type": "execute_result"
    },
    {
     "data": {
      "image/png": "[encoded data removed]",
      "text/plain": [
       "<Figure size 864x432 with 1 Axes>"
      ]
     },
     "metadata": {
      "needs_background": "light"
     },
     "output_type": "display_data"
    }
   ],
   "source": [
    "get_barplot(df.tipodepropiedad.value_counts().head(5))"
   ]
  }
 ],
 "metadata": {
  "kernelspec": {
   "display_name": "Python 3",
   "language": "python",
   "name": "python3"
  },
  "language_info": {
   "codemirror_mode": {
    "name": "ipython",
    "version": 3
   },
   "file_extension": ".py",
   "mimetype": "text/x-python",
   "name": "python",
   "nbconvert_exporter": "python",
   "pygments_lexer": "ipython3",
   "version": "3.7.0"
  }
 },
 "nbformat": 4,
 "nbformat_minor": 4
}

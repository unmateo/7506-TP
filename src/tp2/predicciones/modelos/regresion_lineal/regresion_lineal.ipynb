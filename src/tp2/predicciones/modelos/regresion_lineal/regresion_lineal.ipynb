{
 "cells": [
  {
   "cell_type": "code",
   "execution_count": 1,
   "metadata": {},
   "outputs": [],
   "source": [
    "import os\n",
    "import sys\n",
    "this = os.getcwd()\n",
    "path = this[:this.rfind(\"/\")]\n",
    "if not path in sys.path: sys.path.append(path)\n",
    "from modelo import Modelo"
   ]
  },
  {
   "cell_type": "code",
   "execution_count": 2,
   "metadata": {},
   "outputs": [],
   "source": [
    "from sklearn.linear_model import LinearRegression"
   ]
  },
  {
   "cell_type": "code",
   "execution_count": 3,
   "metadata": {},
   "outputs": [],
   "source": [
    "class RegresionLineal(Modelo):\n",
    "    \"\"\"\n",
    "\n",
    "    \"\"\"\n",
    "    \n",
    "    \n",
    "    @Modelo.cronometrar()\n",
    "    def entrenar(self):\n",
    "        super().entrenar()\n",
    "        # no puedo usar estas columnas porque no las  voy a tener para predecir\n",
    "        self.excluir = {'precio_metro_total', 'precio_metro_cubierto'}\n",
    "        datos = self.filtrar_numericas(self.train_data, self.excluir)\n",
    "        self.train_data = datos\n",
    "        train_label = datos[\"precio\"]\n",
    "        train_data = datos.loc[:, datos.columns != 'precio']\n",
    "        self.regression = LinearRegression().fit(train_data, train_label)\n",
    "        \n",
    "        self.test_data = self.filtrar_numericas(self.test_data, self.excluir)\n",
    "        self.excluir = self.excluir.union({'precio'})\n",
    "        self.submit_data = self.filtrar_numericas(self.submit_data, self.excluir)\n",
    "        \n",
    "\n",
    "        return True\n",
    "    \n",
    "    def filtrar_numericas(self, df, excluir={}):\n",
    "        \"\"\" \n",
    "            Recibe un set de datos y se queda sólo con las columnas numéricas.\n",
    "            Excluye de la respuesta las keys que vengan en excluir.\n",
    "            Llena los NaN con el promedio de esa columna.\n",
    "        \"\"\"\n",
    "        columnas_numericas = {'antiguedad', 'habitaciones', 'garages', 'banos',\n",
    "            'metroscubiertos', 'metrostotales', 'gimnasio', 'usosmultiples',\n",
    "            'piscina', 'escuelascercanas', 'centroscomercialescercanos',\n",
    "            'precio_metro_cubierto', 'precio_metro_total', 'ano', 'mes', 'dia', 'precio'\n",
    "        }\n",
    "        columnas_numericas.difference_update(excluir)\n",
    "        datos = df.loc[:, columnas_numericas]\n",
    "        return datos.fillna(datos.mean())\n",
    "    \n",
    "    @Modelo.cronometrar()\n",
    "    def predecir(self, datos):\n",
    "        \"\"\"\n",
    "\n",
    "        \"\"\"\n",
    "        columnas = set(datos.columns)\n",
    "        columnas.difference_update(self.excluir)\n",
    "        a_predecir = datos.loc[:, columnas]\n",
    "        datos['target'] = self.regression.predict(a_predecir)\n",
    "        return datos\n",
    "            "
   ]
  },
  {
   "cell_type": "code",
   "execution_count": 4,
   "metadata": {},
   "outputs": [
    {
     "name": "stdout",
     "output_type": "stream",
     "text": [
      "instanciar demoro 23.14 segundos\n"
     ]
    }
   ],
   "source": [
    "modelo = RegresionLineal()"
   ]
  },
  {
   "cell_type": "code",
   "execution_count": 8,
   "metadata": {},
   "outputs": [
    {
     "name": "stdout",
     "output_type": "stream",
     "text": [
      "entrenar demoro 0.0 segundos\n",
      "entrenar demoro 0.66 segundos\n"
     ]
    },
    {
     "data": {
      "text/plain": [
       "True"
      ]
     },
     "execution_count": 8,
     "metadata": {},
     "output_type": "execute_result"
    }
   ],
   "source": [
    "modelo.entrenar()"
   ]
  },
  {
   "cell_type": "code",
   "execution_count": 9,
   "metadata": {},
   "outputs": [
    {
     "name": "stdout",
     "output_type": "stream",
     "text": [
      "predecir demoro 0.07 segundos\n",
      "puntuar demoro 0.0 segundos\n",
      "validar demoro 0.07 segundos\n"
     ]
    },
    {
     "data": {
      "text/plain": [
       "1096428.2554070135"
      ]
     },
     "execution_count": 9,
     "metadata": {},
     "output_type": "execute_result"
    }
   ],
   "source": [
    "modelo.validar()"
   ]
  },
  {
   "cell_type": "code",
   "execution_count": 10,
   "metadata": {},
   "outputs": [
    {
     "name": "stdout",
     "output_type": "stream",
     "text": [
      "predecir demoro 0.06 segundos\n"
     ]
    }
   ],
   "source": [
    "predicciones = modelo.predecir(modelo.submit_data)"
   ]
  },
  {
   "cell_type": "code",
   "execution_count": 12,
   "metadata": {},
   "outputs": [
    {
     "name": "stdout",
     "output_type": "stream",
     "text": [
      "guardar demoro 0.16 segundos\n"
     ]
    },
    {
     "name": "stderr",
     "output_type": "stream",
     "text": [
      "100%|██████████| 1.43M/1.43M [00:05<00:00, 265kB/s]\n"
     ]
    },
    {
     "name": "stdout",
     "output_type": "stream",
     "text": [
      "submit demoro 7.17 segundos\n",
      "presentar demoro 7.33 segundos\n"
     ]
    }
   ],
   "source": [
    "comentario = 'Primer intento con regresor lineal'\n",
    "#modelo.presentar(predicciones, comentario)"
   ]
  }
 ],
 "metadata": {
  "kernelspec": {
   "display_name": "Python 3",
   "language": "python",
   "name": "python3"
  },
  "language_info": {
   "codemirror_mode": {
    "name": "ipython",
    "version": 3
   },
   "file_extension": ".py",
   "mimetype": "text/x-python",
   "name": "python",
   "nbconvert_exporter": "python",
   "pygments_lexer": "ipython3",
   "version": "3.6.8"
  }
 },
 "nbformat": 4,
 "nbformat_minor": 4
}

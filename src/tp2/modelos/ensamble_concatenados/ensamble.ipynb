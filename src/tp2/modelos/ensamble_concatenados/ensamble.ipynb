{
 "cells": [
  {
   "cell_type": "code",
   "execution_count": 1,
   "metadata": {},
   "outputs": [],
   "source": [
    "import os\n",
    "import sys\n",
    "this = os.getcwd()\n",
    "path = this[:this.rfind(\"/\")]\n",
    "if not path in sys.path: sys.path.append(path)\n",
    "xgboost_path = path + \"/xgboost_regressor\"\n",
    "promedios_path = path + \"/promedio_zona\"\n",
    "\n",
    "import pandas as pd\n",
    "import matplotlib\n",
    "from datos import FEATURES_DISPONIBLES\n",
    "from modelo import Modelo\n",
    "\n",
    "pd.set_option('display.max_columns', 100)\n",
    "pd.set_option('display.float_format', lambda x: '%.3f' % x)"
   ]
  },
  {
   "cell_type": "code",
   "execution_count": 2,
   "metadata": {},
   "outputs": [],
   "source": [
    "from xgboost_regressor.xgboost_predictor import XGBoostRegressor\n",
    "from promedio_zona.promedio_zona import PromedioZona\n",
    "from regresion_lineal.regresion_lineal import RegresionLineal\n",
    "from mlp_regressor.mlp_regressor import MLP_Regressor"
   ]
  },
  {
   "cell_type": "code",
   "execution_count": 3,
   "metadata": {},
   "outputs": [],
   "source": [
    "class EnsambleConcatenados(XGBoostRegressor):\n",
    "    \"\"\"\n",
    "        Usa el resultado de las predicciones del modelo PromedioZona\n",
    "        para entrenar y predecir con un XGBoostRegressor.\n",
    "    \"\"\"\n",
    "    \n",
    "    \n",
    "    @Modelo.cronometrar()\n",
    "    def __init__(self):\n",
    "        self.modelo_promedios = PromedioZona()\n",
    "        self.modelo_lineal = RegresionLineal()\n",
    "        self.modelo_mlp = MLP_Regressor()\n",
    "        super().__init__()        \n",
    "        \n",
    "    @Modelo.cronometrar()\n",
    "    def cargar_datos(self):\n",
    "        self.modelo_promedios.cargar_datos()\n",
    "        self.modelo_lineal.cargar_datos()\n",
    "        self.modelo_mlp.cargar_datos()\n",
    "        super().cargar_datos()\n",
    "    \n",
    "    @Modelo.cronometrar()\n",
    "    def entrenar(self):\n",
    "        self.agregar_predicciones_modelo(self.modelo_lineal)\n",
    "        self.agregar_predicciones_modelo(self.modelo_promedios)\n",
    "        self.agregar_predicciones_modelo(self.modelo_mlp)\n",
    "        super().entrenar()\n",
    "    \n",
    "    def agregar_predicciones_modelo(self, modelo):\n",
    "        columna = 'prediccion_' + modelo.modelo\n",
    "        modelo.entrenar()\n",
    "        score = modelo.validar()\n",
    "        print(\"Score individual {}: {}\".format(modelo.modelo, score))\n",
    "        predicciones_train =  modelo.predecir(modelo.train_data)\n",
    "        predicciones_test = modelo.predecir(modelo.test_data)\n",
    "        predicciones_submit = modelo.predecir(modelo.submit_data)\n",
    "        self.train_data[columna] = predicciones_train['target']\n",
    "        self.test_data[columna] = predicciones_test['target']\n",
    "        self.submit_data[columna] = predicciones_submit['target']\n"
   ]
  },
  {
   "cell_type": "code",
   "execution_count": 4,
   "metadata": {},
   "outputs": [
    {
     "name": "stdout",
     "output_type": "stream",
     "text": [
      "instanciar demoro 0.0 segundos\n",
      "instanciar demoro 0.0 segundos\n",
      "instanciar demoro 0.0 segundos\n",
      "instanciar demoro 0.0 segundos\n",
      "__init__ demoro 0.0 segundos\n"
     ]
    }
   ],
   "source": [
    "ensamble = EnsambleConcatenados()"
   ]
  },
  {
   "cell_type": "code",
   "execution_count": 5,
   "metadata": {},
   "outputs": [
    {
     "name": "stdout",
     "output_type": "stream",
     "text": [
      "cargar demoro 1.37 segundos\n",
      "cargar demoro 62.58 segundos\n",
      "cargar demoro 62.76 segundos\n",
      "cargar demoro 62.55 segundos\n",
      "cargar_datos demoro 194.82 segundos\n"
     ]
    }
   ],
   "source": [
    "ensamble.cargar_datos()"
   ]
  },
  {
   "cell_type": "code",
   "execution_count": 6,
   "metadata": {},
   "outputs": [
    {
     "name": "stdout",
     "output_type": "stream",
     "text": [
      "entrenar demoro 0.0 segundos\n",
      "entrenar demoro 0.91 segundos\n",
      "predecir demoro 0.05 segundos\n",
      "puntuar demoro 0.0 segundos\n",
      "validar demoro 0.05 segundos\n",
      "Score individual RegresionLineal: 1046626.6056437106\n",
      "predecir demoro 0.21 segundos\n",
      "predecir demoro 0.1 segundos\n",
      "predecir demoro 0.11 segundos\n",
      "entrenar demoro 0.0 segundos\n",
      "entrenar demoro 0.2 segundos\n",
      "predecir demoro 6.71 segundos\n",
      "puntuar demoro 0.0 segundos\n",
      "validar demoro 6.72 segundos\n",
      "Score individual PromedioZona: 848990.0039788197\n",
      "predecir demoro 20.37 segundos\n",
      "predecir demoro 6.79 segundos\n",
      "predecir demoro 6.73 segundos\n"
     ]
    },
    {
     "name": "stderr",
     "output_type": "stream",
     "text": [
      "/home/mharfuch/.local/share/virtualenvs/7506-TP-cfKyodU4/lib/python3.6/site-packages/sklearn/neural_network/multilayer_perceptron.py:566: ConvergenceWarning: Stochastic Optimizer: Maximum iterations (600) reached and the optimization hasn't converged yet.\n",
      "  % self.max_iter, ConvergenceWarning)\n"
     ]
    },
    {
     "name": "stdout",
     "output_type": "stream",
     "text": [
      "entrenar demoro 0.0 segundos\n",
      "entrenar demoro 1012.55 segundos\n",
      "predecir demoro 0.35 segundos\n",
      "puntuar demoro 0.0 segundos\n",
      "validar demoro 0.35 segundos\n",
      "Score individual MLP_Regressor: 853856.601789356\n",
      "predecir demoro 0.79 segundos\n",
      "predecir demoro 0.34 segundos\n",
      "predecir demoro 0.34 segundos\n",
      "entrenar demoro 0.0 segundos\n",
      "entrenar demoro 818.23 segundos\n",
      "entrenar demoro 1874.81 segundos\n"
     ]
    }
   ],
   "source": [
    "ensamble.entrenar()"
   ]
  },
  {
   "cell_type": "code",
   "execution_count": 7,
   "metadata": {},
   "outputs": [
    {
     "name": "stdout",
     "output_type": "stream",
     "text": [
      "predecir demoro 3.43 segundos\n",
      "puntuar demoro 0.0 segundos\n",
      "validar demoro 3.43 segundos\n"
     ]
    },
    {
     "data": {
      "text/plain": [
       "535595.7"
      ]
     },
     "execution_count": 7,
     "metadata": {},
     "output_type": "execute_result"
    }
   ],
   "source": [
    "ensamble.validar()"
   ]
  },
  {
   "cell_type": "code",
   "execution_count": 8,
   "metadata": {},
   "outputs": [
    {
     "name": "stdout",
     "output_type": "stream",
     "text": [
      "predecir demoro 3.48 segundos\n"
     ]
    }
   ],
   "source": [
    "predicciones = ensamble.predecir(ensamble.submit_data)"
   ]
  },
  {
   "cell_type": "code",
   "execution_count": 9,
   "metadata": {},
   "outputs": [
    {
     "name": "stdout",
     "output_type": "stream",
     "text": [
      "guardar demoro 0.12 segundos\n"
     ]
    },
    {
     "name": "stderr",
     "output_type": "stream",
     "text": [
      "100%|██████████| 967k/967k [00:07<00:00, 124kB/s]  \n"
     ]
    },
    {
     "name": "stdout",
     "output_type": "stream",
     "text": [
      "submit demoro 11.2 segundos\n",
      "presentar demoro 11.32 segundos\n"
     ]
    }
   ],
   "source": [
    "comentario = \"con mlp - local 535595.7\"\n",
    "ensamble.presentar(predicciones, comentario)"
   ]
  },
  {
   "cell_type": "code",
   "execution_count": null,
   "metadata": {},
   "outputs": [],
   "source": []
  },
  {
   "cell_type": "code",
   "execution_count": null,
   "metadata": {},
   "outputs": [],
   "source": [
    "predicciones = ensamble.predecir(ensamble.test_data)"
   ]
  },
  {
   "cell_type": "code",
   "execution_count": null,
   "metadata": {},
   "outputs": [],
   "source": [
    "columnas_predictoras = ['target', 'prediccion_PromedioZona', 'prediccion_RegresionLineal']\n",
    "for columna in columnas_predictoras:\n",
    "    predicciones['diferencia_'+columna] = predicciones['precio'] - predicciones[columna]"
   ]
  },
  {
   "cell_type": "code",
   "execution_count": null,
   "metadata": {},
   "outputs": [],
   "source": [
    "mejores_100 = predicciones.sort_values(by='diferencia_target').head(200)"
   ]
  },
  {
   "cell_type": "code",
   "execution_count": null,
   "metadata": {},
   "outputs": [],
   "source": [
    "peores_100 = predicciones.sort_values(by='diferencia_target').tail(200)"
   ]
  },
  {
   "cell_type": "code",
   "execution_count": null,
   "metadata": {},
   "outputs": [],
   "source": [
    "peores_100.describe()"
   ]
  },
  {
   "cell_type": "code",
   "execution_count": null,
   "metadata": {},
   "outputs": [],
   "source": [
    "mejores_100.describe()"
   ]
  }
 ],
 "metadata": {
  "kernelspec": {
   "display_name": "Python 3",
   "language": "python",
   "name": "python3"
  },
  "language_info": {
   "codemirror_mode": {
    "name": "ipython",
    "version": 3
   },
   "file_extension": ".py",
   "mimetype": "text/x-python",
   "name": "python",
   "nbconvert_exporter": "python",
   "pygments_lexer": "ipython3",
   "version": "3.6.8"
  }
 },
 "nbformat": 4,
 "nbformat_minor": 4
}

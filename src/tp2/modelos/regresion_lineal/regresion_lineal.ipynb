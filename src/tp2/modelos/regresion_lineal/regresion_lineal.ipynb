{
 "cells": [
  {
   "cell_type": "code",
   "execution_count": 1,
   "metadata": {},
   "outputs": [],
   "source": [
    "import os\n",
    "import sys\n",
    "this = os.getcwd()\n",
    "path = this[:this.rfind(\"/\")]\n",
    "if not path in sys.path: sys.path.append(path)\n",
    "from modelo import Modelo\n",
    "from datos import FEATURES_DISPONIBLES"
   ]
  },
  {
   "cell_type": "code",
   "execution_count": 2,
   "metadata": {},
   "outputs": [],
   "source": [
    "from sklearn.linear_model import LinearRegression\n",
    "import pandas as pd\n",
    "import numpy as np\n",
    "pd.set_option('display.max_columns', 100)\n",
    "pd.set_option('display.float_format', lambda x: '%.3f' % x)"
   ]
  },
  {
   "cell_type": "code",
   "execution_count": 14,
   "metadata": {},
   "outputs": [],
   "source": [
    "class RegresionLineal(Modelo):\n",
    "    \"\"\"\n",
    "\n",
    "    \"\"\"\n",
    "    \n",
    "    def cargar_datos(self):\n",
    "        \"\"\"\n",
    "        \n",
    "        \"\"\"\n",
    "        excluir = {\n",
    "            \"idzona\",\n",
    "            \"precio_metro_cubierto\",\n",
    "            \"precio_metro_total\",\n",
    "            \"gps\", \"lat\", \"lng\",\n",
    "            \"ciudad\"\n",
    "        }\n",
    "        super().cargar_datos(FEATURES_DISPONIBLES - excluir)\n",
    "    \n",
    "    @Modelo.cronometrar()\n",
    "    def entrenar(self):\n",
    "        super().entrenar()\n",
    "        self.train_data = self.preparar_datos(self.train_data)\n",
    "        self.test_data = self.preparar_datos(self.test_data)\n",
    "        self.submit_data = self.preparar_datos(self.submit_data)\n",
    "        self.agregar_columnas_faltantes()\n",
    "        train_data = self.train_data.loc[:, self.train_data.columns != self.feature]\n",
    "        train_label = np.log(self.train_data[self.feature])\n",
    "        self.regression = LinearRegression(normalize=False).fit(train_data, train_label)\n",
    "        return True\n",
    "    \n",
    "    def preparar_datos(self, df):\n",
    "        \"\"\"\n",
    "        \n",
    "        \"\"\"\n",
    "        df = df.drop(columns=[\"fecha\", \"titulo\", \"descripcion\"])\n",
    "        categoricas = [\"tipodepropiedad\", \"provincia\"]\n",
    "        return self.one_hot_encode(df, categoricas)\n",
    "    \n",
    "\n",
    "    @Modelo.cronometrar()\n",
    "    def predecir(self, df):\n",
    "        \"\"\"\n",
    "\n",
    "        \"\"\"\n",
    "        datos = df.copy()\n",
    "        a_predecir = datos.loc[:, datos.columns != 'precio']\n",
    "        datos['target'] = np.exp(self.regression.predict(a_predecir))\n",
    "        return datos\n",
    "            "
   ]
  },
  {
   "cell_type": "code",
   "execution_count": 15,
   "metadata": {},
   "outputs": [],
   "source": [
    "def test():\n",
    "    modelo = RegresionLineal()\n",
    "    modelo.cargar_datos()\n",
    "    modelo.entrenar()\n",
    "    return modelo"
   ]
  }
 ],
 "metadata": {
  "kernelspec": {
   "display_name": "Python 3",
   "language": "python",
   "name": "python3"
  },
  "language_info": {
   "codemirror_mode": {
    "name": "ipython",
    "version": 3
   },
   "file_extension": ".py",
   "mimetype": "text/x-python",
   "name": "python",
   "nbconvert_exporter": "python",
   "pygments_lexer": "ipython3",
   "version": "3.6.8"
  }
 },
 "nbformat": 4,
 "nbformat_minor": 4
}

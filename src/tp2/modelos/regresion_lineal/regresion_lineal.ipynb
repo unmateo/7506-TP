{
 "cells": [
  {
   "cell_type": "code",
   "execution_count": 1,
   "metadata": {},
   "outputs": [],
   "source": [
    "import os\n",
    "import sys\n",
    "this = os.getcwd()\n",
    "path = this[:this.rfind(\"/\")]\n",
    "if not path in sys.path: sys.path.append(path)\n",
    "from modelo import Modelo"
   ]
  },
  {
   "cell_type": "code",
   "execution_count": 2,
   "metadata": {},
   "outputs": [],
   "source": [
    "from sklearn.linear_model import LinearRegression\n",
    "import pandas as pd\n",
    "pd.set_option('display.max_columns', 100)\n",
    "pd.set_option('display.float_format', lambda x: '%.3f' % x)"
   ]
  },
  {
   "cell_type": "code",
   "execution_count": 26,
   "metadata": {},
   "outputs": [],
   "source": [
    "class RegresionLineal(Modelo):\n",
    "    \"\"\"\n",
    "\n",
    "    \"\"\"\n",
    "    \n",
    "    def cargar_datos(self):\n",
    "        \"\"\"\n",
    "        \n",
    "        \"\"\"\n",
    "        features = {\n",
    "            \"piscina\", \"usosmultiples\", \"gimnasio\", \"garages\",\n",
    "            \"escuelascercanas\", \"centroscomercialescercanos\",\n",
    "            \"banos\", \"habitaciones\", \"metroscubiertos\", \"metrostotales\",\n",
    "            \"antiguedad\", \"ano\", \"precio\"\n",
    "        }\n",
    "        super().cargar_datos(features)\n",
    "    \n",
    "    @Modelo.cronometrar()\n",
    "    def entrenar(self):\n",
    "        super().entrenar()\n",
    "        self.train_data = self.preparar_datos(self.train_data)\n",
    "        train_data = self.train_data.loc[:, self.train_data.columns != 'precio']\n",
    "        train_label = self.train_data[\"precio\"]\n",
    "        self.regression = LinearRegression(normalize=True).fit(train_data, train_label)\n",
    "        self.test_data = self.preparar_datos(self.test_data)\n",
    "        self.submit_data = self.preparar_datos(self.submit_data)\n",
    "        return True\n",
    "    \n",
    "    def preparar_datos(self, df):\n",
    "        \"\"\"\n",
    "        \n",
    "        \"\"\"\n",
    "        #encodeadas = self.encodear_categoricas(df)\n",
    "        df.drop(columns=[\"fecha\"], inplace=True)\n",
    "        rellenas = self.rellenar_vacios(df)\n",
    "        return rellenas\n",
    "    \n",
    "    def encodear_categoricas(self, df):\n",
    "        \"\"\"\n",
    "            Recibe un set de datos y le aplica one hot encoding a sus\n",
    "            variables categoricas.\n",
    "        \"\"\"\n",
    "        \n",
    "        categoricas = [\"tipodepropiedad\"]\n",
    "        return self.one_hot_encode(df, categoricas)\n",
    "    \n",
    "    def rellenar_vacios(self, df):\n",
    "        \"\"\"\n",
    "            Rellena los valores vacíos del df con el promedio de esa columna.\n",
    "            Devuelve el DataFrame modificado.\n",
    "        \"\"\"\n",
    "        return df.fillna(df.mean())\n",
    "\n",
    "    @Modelo.cronometrar()\n",
    "    def predecir(self, datos):\n",
    "        \"\"\"\n",
    "\n",
    "        \"\"\"\n",
    "#        columnas = set(datos.columns)\n",
    "        a_predecir = datos.loc[:, self.train_data.columns != 'precio']\n",
    "        datos['target'] = self.regression.predict(a_predecir)\n",
    "        return datos\n",
    "            "
   ]
  },
  {
   "cell_type": "code",
   "execution_count": 27,
   "metadata": {},
   "outputs": [
    {
     "name": "stdout",
     "output_type": "stream",
     "text": [
      "instanciar demoro 0.0 segundos\n"
     ]
    }
   ],
   "source": [
    "modelo = RegresionLineal()"
   ]
  },
  {
   "cell_type": "code",
   "execution_count": 28,
   "metadata": {},
   "outputs": [
    {
     "name": "stdout",
     "output_type": "stream",
     "text": [
      "cargar demoro 1.23 segundos\n"
     ]
    }
   ],
   "source": [
    "modelo.cargar_datos()"
   ]
  },
  {
   "cell_type": "code",
   "execution_count": 29,
   "metadata": {},
   "outputs": [
    {
     "name": "stdout",
     "output_type": "stream",
     "text": [
      "entrenar demoro 0.0 segundos\n",
      "entrenar demoro 0.5 segundos\n"
     ]
    },
    {
     "data": {
      "text/plain": [
       "True"
      ]
     },
     "execution_count": 29,
     "metadata": {},
     "output_type": "execute_result"
    }
   ],
   "source": [
    "modelo.entrenar()"
   ]
  },
  {
   "cell_type": "code",
   "execution_count": 30,
   "metadata": {},
   "outputs": [
    {
     "name": "stdout",
     "output_type": "stream",
     "text": [
      "predecir demoro 0.07 segundos\n",
      "puntuar demoro 0.0 segundos\n",
      "validar demoro 0.07 segundos\n"
     ]
    },
    {
     "data": {
      "text/plain": [
       "1099954.5085142558"
      ]
     },
     "execution_count": 30,
     "metadata": {},
     "output_type": "execute_result"
    }
   ],
   "source": [
    "modelo.validar()"
   ]
  },
  {
   "cell_type": "code",
   "execution_count": null,
   "metadata": {},
   "outputs": [],
   "source": [
    "predicciones = modelo.predecir(modelo.submit_data)"
   ]
  },
  {
   "cell_type": "code",
   "execution_count": null,
   "metadata": {},
   "outputs": [],
   "source": [
    "comentario = 'Primer intento con regresor lineal'\n",
    "#modelo.presentar(predicciones, comentario)"
   ]
  },
  {
   "cell_type": "code",
   "execution_count": 13,
   "metadata": {},
   "outputs": [],
   "source": [
    "import pandas as pd\n",
    "df = pd.DataFrame()\n",
    "df.drop()"
   ]
  }
 ],
 "metadata": {
  "kernelspec": {
   "display_name": "Python 3",
   "language": "python",
   "name": "python3"
  },
  "language_info": {
   "codemirror_mode": {
    "name": "ipython",
    "version": 3
   },
   "file_extension": ".py",
   "mimetype": "text/x-python",
   "name": "python",
   "nbconvert_exporter": "python",
   "pygments_lexer": "ipython3",
   "version": "3.6.8"
  }
 },
 "nbformat": 4,
 "nbformat_minor": 4
}

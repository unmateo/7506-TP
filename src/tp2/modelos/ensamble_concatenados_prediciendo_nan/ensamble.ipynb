{
 "cells": [
  {
   "cell_type": "code",
   "execution_count": 1,
   "metadata": {},
   "outputs": [],
   "source": [
    "import os\n",
    "import sys\n",
    "this = os.getcwd()\n",
    "path = this[:this.rfind(\"/\")]\n",
    "if not path in sys.path: sys.path.append(path)\n",
    "\n",
    "\n",
    "import pandas as pd\n",
    "import matplotlib\n",
    "from datos import FEATURES_DISPONIBLES\n",
    "from modelo import Modelo\n",
    "\n",
    "pd.set_option('display.max_columns', 100)\n",
    "pd.set_option('display.float_format', lambda x: '%.3f' % x)"
   ]
  },
  {
   "cell_type": "code",
   "execution_count": 2,
   "metadata": {},
   "outputs": [],
   "source": [
    "from xgboost_classifier.xgboost_predictor import XGBoost\n",
    "from xgboost_regressor.xgboost_predictor import XGBoostRegressor\n",
    "from promedio_zona.promedio_zona import PromedioZona\n",
    "from regresion_lineal.regresion_lineal import RegresionLineal"
   ]
  },
  {
   "cell_type": "code",
   "execution_count": 3,
   "metadata": {},
   "outputs": [],
   "source": [
    "class EnsambleConcatenadosPrediciendoNaNs(XGBoostRegressor):\n",
    "    \"\"\"\n",
    "        Usa el resultado de las predicciones del modelo PromedioZona\n",
    "        para entrenar y predecir con un XGBoostRegressor.\n",
    "    \"\"\"\n",
    "    \n",
    "    \n",
    "    @Modelo.cronometrar()\n",
    "    def __init__(self):\n",
    "        self.modelo_promedios = PromedioZona()\n",
    "        self.modelo_lineal = RegresionLineal()\n",
    "        super().__init__()        \n",
    "        \n",
    "    @Modelo.cronometrar()\n",
    "    def cargar_datos(self):\n",
    "        self.modelo_promedios.cargar_datos()\n",
    "        self.modelo_lineal.cargar_datos()\n",
    "        super().cargar_datos()\n",
    "    \n",
    "    @Modelo.cronometrar()\n",
    "    def entrenar(self):\n",
    "        self.completar_nans()\n",
    "        self.agregar_predicciones_modelo(self.modelo_lineal)\n",
    "        self.agregar_predicciones_modelo(self.modelo_promedios)\n",
    "        super().entrenar()\n",
    "    \n",
    "    def agregar_predicciones_modelo(self, modelo):\n",
    "        columna = 'prediccion_' + modelo.modelo\n",
    "        modelo.entrenar()\n",
    "        predicciones_train =  modelo.predecir(modelo.train_data)\n",
    "        predicciones_test = modelo.predecir(modelo.test_data)\n",
    "        predicciones_submit = modelo.predecir(modelo.submit_data)\n",
    "        self.train_data[columna] = predicciones_train['target']\n",
    "        self.test_data[columna] = predicciones_test['target']\n",
    "        self.submit_data[columna] = predicciones_submit['target']\n",
    "        \n",
    "    def completar_nans(self):\n",
    "        \"\"\"\n",
    "            Completa NaNs en todos los df.\n",
    "        \"\"\"\n",
    "        features_a_completar = ['banos', 'garages', 'habitaciones']\n",
    "        dfs_a_completar = (self.train_data, self.test_data, self.submit_data)\n",
    "        for feature in features_a_completar:\n",
    "            modelo = XGBoost(feature)\n",
    "            modelo.cargar_datos()\n",
    "            modelo.entrenar()\n",
    "            predicciones = modelo.predecir(modelo.submit_data)['target']\n",
    "            for df in dfs_a_completar:\n",
    "                df[feature].fillna(predicciones, inplace=True)"
   ]
  },
  {
   "cell_type": "code",
   "execution_count": 4,
   "metadata": {},
   "outputs": [
    {
     "name": "stdout",
     "output_type": "stream",
     "text": [
      "instanciar demoro 0.0 segundos\n",
      "instanciar demoro 0.0 segundos\n",
      "instanciar demoro 0.0 segundos\n",
      "__init__ demoro 0.0 segundos\n"
     ]
    }
   ],
   "source": [
    "ensamble = EnsambleConcatenadosPrediciendoNaNs()"
   ]
  },
  {
   "cell_type": "code",
   "execution_count": 5,
   "metadata": {},
   "outputs": [
    {
     "name": "stdout",
     "output_type": "stream",
     "text": [
      "cargar demoro 1.37 segundos\n",
      "cargar demoro 60.92 segundos\n",
      "cargar demoro 60.97 segundos\n",
      "cargar_datos demoro 127.43 segundos\n"
     ]
    }
   ],
   "source": [
    "ensamble.cargar_datos()"
   ]
  },
  {
   "cell_type": "code",
   "execution_count": 6,
   "metadata": {},
   "outputs": [
    {
     "name": "stdout",
     "output_type": "stream",
     "text": [
      "instanciar demoro 0.0 segundos\n",
      "cargar demoro 61.16 segundos\n",
      "entrenar demoro 0.0 segundos\n",
      "entrenar demoro 2.3 segundos\n",
      "predecir demoro 0.08 segundos\n",
      "instanciar demoro 0.0 segundos\n",
      "cargar demoro 61.2 segundos\n",
      "entrenar demoro 0.0 segundos\n",
      "entrenar demoro 2.16 segundos\n",
      "predecir demoro 0.11 segundos\n",
      "instanciar demoro 0.0 segundos\n",
      "cargar demoro 60.96 segundos\n",
      "entrenar demoro 0.0 segundos\n",
      "entrenar demoro 4.58 segundos\n",
      "predecir demoro 0.09 segundos\n",
      "entrenar demoro 0.0 segundos\n",
      "entrenar demoro 0.78 segundos\n",
      "predecir demoro 0.13 segundos\n",
      "predecir demoro 0.11 segundos\n",
      "predecir demoro 0.1 segundos\n",
      "entrenar demoro 0.0 segundos\n",
      "entrenar demoro 0.22 segundos\n",
      "predecir demoro 19.82 segundos\n",
      "predecir demoro 6.75 segundos\n",
      "predecir demoro 6.78 segundos\n",
      "[00:56:52] WARNING: /workspace/src/objective/regression_obj.cu:152: reg:linear is now deprecated in favor of reg:squarederror.\n",
      "entrenar demoro 0.0 segundos\n",
      "entrenar demoro 287.91 segundos\n",
      "entrenar demoro 516.27 segundos\n"
     ]
    }
   ],
   "source": [
    "ensamble.entrenar()"
   ]
  },
  {
   "cell_type": "code",
   "execution_count": null,
   "metadata": {},
   "outputs": [],
   "source": []
  },
  {
   "cell_type": "code",
   "execution_count": 7,
   "metadata": {},
   "outputs": [
    {
     "name": "stdout",
     "output_type": "stream",
     "text": [
      "predecir demoro 3.08 segundos\n",
      "puntuar demoro 0.0 segundos\n",
      "validar demoro 3.08 segundos\n"
     ]
    },
    {
     "data": {
      "text/plain": [
       "622833.06"
      ]
     },
     "execution_count": 7,
     "metadata": {},
     "output_type": "execute_result"
    }
   ],
   "source": [
    "ensamble.validar()"
   ]
  },
  {
   "cell_type": "code",
   "execution_count": 8,
   "metadata": {},
   "outputs": [
    {
     "name": "stdout",
     "output_type": "stream",
     "text": [
      "predecir demoro 3.1 segundos\n"
     ]
    }
   ],
   "source": [
    "predicciones = ensamble.predecir(ensamble.submit_data)"
   ]
  },
  {
   "cell_type": "code",
   "execution_count": 10,
   "metadata": {},
   "outputs": [
    {
     "name": "stdout",
     "output_type": "stream",
     "text": [
      "guardar demoro 0.12 segundos\n"
     ]
    },
    {
     "name": "stderr",
     "output_type": "stream",
     "text": [
      "100%|██████████| 967k/967k [00:07<00:00, 134kB/s]  \n"
     ]
    },
    {
     "name": "stdout",
     "output_type": "stream",
     "text": [
      "submit demoro 10.5 segundos\n",
      "presentar demoro 10.63 segundos\n"
     ]
    }
   ],
   "source": [
    "comentario = \"ensamble prediciendo nans - local 622833.06\"\n",
    "ensamble.presentar(predicciones, comentario)"
   ]
  }
 ],
 "metadata": {
  "kernelspec": {
   "display_name": "Python 3",
   "language": "python",
   "name": "python3"
  },
  "language_info": {
   "codemirror_mode": {
    "name": "ipython",
    "version": 3
   },
   "file_extension": ".py",
   "mimetype": "text/x-python",
   "name": "python",
   "nbconvert_exporter": "python",
   "pygments_lexer": "ipython3",
   "version": "3.6.8"
  }
 },
 "nbformat": 4,
 "nbformat_minor": 4
}

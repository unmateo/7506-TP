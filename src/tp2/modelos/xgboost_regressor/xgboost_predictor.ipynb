{
 "cells": [
  {
   "cell_type": "code",
   "execution_count": 1,
   "metadata": {},
   "outputs": [],
   "source": [
    "import os\n",
    "import sys\n",
    "this = os.getcwd()\n",
    "path = this[:this.rfind(\"/\")]\n",
    "if not path in sys.path: sys.path.append(path)\n",
    "\n",
    "import pandas as pd\n",
    "import matplotlib\n",
    "from datos import FEATURES_DISPONIBLES\n",
    "from modelo import Modelo\n",
    "\n",
    "pd.set_option('display.max_columns', 100)\n",
    "pd.set_option('display.float_format', lambda x: '%.3f' % x)"
   ]
  },
  {
   "cell_type": "code",
   "execution_count": 10,
   "metadata": {},
   "outputs": [],
   "source": [
    "import xgboost as xgb\n",
    "from sklearn.metrics import accuracy_score\n",
    "from operator import concat\n",
    "from functools import reduce"
   ]
  },
  {
   "cell_type": "code",
   "execution_count": 149,
   "metadata": {},
   "outputs": [],
   "source": [
    "class XGBoostRegressor(Modelo):\n",
    "    \"\"\"\n",
    "        Este modelo lo vamos a usar para predecir algunos\n",
    "        valores faltantes en los tres sets de datos.\n",
    "    \"\"\"\n",
    "\n",
    "     \n",
    "    def cargar_datos(self):\n",
    "        \"\"\"\n",
    "        \"\"\"\n",
    "        excluir = {\n",
    "            \"idzona\", \"fecha\",\n",
    "            \"precio_metro_cubierto\", \"precio_metro_total\"\n",
    "        }\n",
    "        features = FEATURES_DISPONIBLES - excluir\n",
    "        super().cargar_datos(features)\n",
    "        self.train_data = self.preparar_datos(self.train_data)\n",
    "        self.test_data = self.preparar_datos(self.test_data)      \n",
    "        self.submit_data = self.preparar_datos(self.submit_data)\n",
    "        self.agregar_columnas_faltantes()\n",
    "        return True\n",
    "    \n",
    "    def preparar_datos(self, df):\n",
    "        \"\"\"\n",
    "        \"\"\"\n",
    "        df = df.drop(columns=\"fecha\")   \n",
    "        categoricas = {\"tipodepropiedad\", \"provincia\", \"ciudad\"}\n",
    "        return self.one_hot_encode(df, categoricas)\n",
    "    \n",
    "    def agregar_columnas_faltantes(self):\n",
    "        \"\"\"\n",
    "            Al hacer one hot encoding individualemente sobre los dfs,\n",
    "            puede pasar que queden con columnas dispares. Por eso,\n",
    "            en esta función las agrego a cada uno.\n",
    "        \"\"\"\n",
    "        dfs = (self.train_data, self.test_data, self.submit_data)\n",
    "        columnas_todas = set(reduce(concat, [list(df.columns.values) for df in dfs], []))\n",
    "        def agregar_faltantes(df):\n",
    "            faltantes = list(columnas_todas - {'precio'} - set(df.columns.values))\n",
    "            for faltante in faltantes:\n",
    "                df[faltante] = False\n",
    "            print(faltantes)\n",
    "            return df.reindex(columnas_todas, axis='columns')\n",
    "        self.train_data = agregar_faltantes(self.train_data)\n",
    "        self.test_data = agregar_faltantes(self.test_data)\n",
    "        self.submit_data = agregar_faltantes(self.submit_data)\n",
    "        return True\n",
    "\n",
    "    def _split_data_label(self, df, label):\n",
    "        data = df.loc[:, df.columns != label]\n",
    "        label = df[label].values if label in df.columns else None\n",
    "        return data, label\n",
    "    \n",
    "    @Modelo.cronometrar()\n",
    "    def entrenar(self, params=None):\n",
    "        \"\"\"\n",
    "        \"\"\"\n",
    "        train_data, train_label = self._split_data_label(modelo.train_data, self.feature)\n",
    "        self.model = xgb.XGBRegressor()\n",
    "        self.model.fit(train_data, train_label)\n",
    "        super().entrenar()\n",
    "        return True\n",
    "    \n",
    "    @Modelo.cronometrar()\n",
    "    def predecir(self, data):\n",
    "        \"\"\"\n",
    "        \"\"\"\n",
    "        predict_data, predict_label = self._split_data_label(data, self.feature)\n",
    "        predictions = self.model.predict(predict_data)\n",
    "        data[\"target\"] = predictions\n",
    "        return data\n"
   ]
  },
  {
   "cell_type": "code",
   "execution_count": 150,
   "metadata": {},
   "outputs": [
    {
     "name": "stdout",
     "output_type": "stream",
     "text": [
      "instanciar demoro 0.0 segundos\n",
      "cargar demoro 1.66 segundos\n",
      "['ciudad_Calotmul', 'ciudad_Aquila', 'ciudad_Nochistlán de Mejía', 'ciudad_Hueyotlipan', 'ciudad_China', 'ciudad_Muna', 'ciudad_Tetiz', 'ciudad_Balleza', 'ciudad_Tixmehuac', 'ciudad_Tetlatlahuca', 'ciudad_Alto Lucero de Gutiérrez Barrios', 'ciudad_Tlanalapa', 'ciudad_Jala', 'ciudad_Cuquío', 'ciudad_Ures', 'ciudad_Indaparapeo', 'ciudad_Cantamayec', 'ciudad_Chahuites', 'ciudad_Temascalcingo', 'ciudad_Guerrero', 'ciudad_Iturbide', 'ciudad_Tizapán el Alto', 'ciudad_Tenamaxtlán', 'ciudad_Las Choapas', 'ciudad_Atoyatempan', 'ciudad_Epitacio Huerta', 'ciudad_Santiago Tuxtla', 'ciudad_Molango de Escamilla', 'ciudad_Ciudad del Maíz', 'ciudad_San Felipe del Progreso', 'ciudad_Namiquipa', 'ciudad_Ascensión', 'ciudad_Comonfort', 'ciudad_Acuamanala de Miguel Hidalgo', 'ciudad_El Grullo', 'ciudad_San José de Gracia', 'ciudad_Jungapeo', 'ciudad_Miahuatlán de Porfirio Díaz', 'ciudad_Mainero', 'ciudad_Rayón', 'ciudad_San Sebastián del Oeste', 'ciudad_Sultepec', 'ciudad_Tamazula de Gordiano', 'ciudad_San Felipe Teotlalcingo', 'ciudad_San Pedro de la Cueva', 'ciudad_Catazajá']\n",
      "['ciudad_Calotmul', 'ciudad_Aquila', 'ciudad_Nochistlán de Mejía', 'ciudad_Hueyotlipan', 'ciudad_China', 'ciudad_Muna', 'ciudad_Tetiz', 'ciudad_Balleza', 'ciudad_Tixmehuac', 'ciudad_Tetlatlahuca', 'ciudad_Alto Lucero de Gutiérrez Barrios', 'ciudad_Tlanalapa', 'ciudad_Jala', 'ciudad_Cuquío', 'ciudad_Ures', 'ciudad_Indaparapeo', 'ciudad_Cantamayec', 'ciudad_Chahuites', 'ciudad_Temascalcingo', 'ciudad_Guerrero', 'ciudad_Iturbide', 'ciudad_Tizapán el Alto', 'ciudad_Tenamaxtlán', 'ciudad_Las Choapas', 'ciudad_Atoyatempan', 'ciudad_Epitacio Huerta', 'ciudad_Santiago Tuxtla', 'ciudad_Molango de Escamilla', 'ciudad_Ciudad del Maíz', 'ciudad_San Felipe del Progreso', 'ciudad_Namiquipa', 'ciudad_Ascensión', 'ciudad_Comonfort', 'ciudad_Acuamanala de Miguel Hidalgo', 'ciudad_El Grullo', 'ciudad_San José de Gracia', 'ciudad_Jungapeo', 'ciudad_Miahuatlán de Porfirio Díaz', 'ciudad_Mainero', 'ciudad_Rayón', 'ciudad_San Sebastián del Oeste', 'ciudad_Sultepec', 'ciudad_Tamazula de Gordiano', 'ciudad_San Felipe Teotlalcingo', 'ciudad_San Pedro de la Cueva', 'ciudad_Catazajá']\n",
      "['ciudad_Tinum', 'ciudad_Cuitzeo', 'ciudad_Sabinas', 'ciudad_Suchiapa', 'ciudad_San Pablo del Monte', 'ciudad_Izamal', 'ciudad_Tlacolula de Matamoros', 'ciudad_Rafael Lara Grajales', 'ciudad_Sinaloa', 'ciudad_Nanchital de Lázaro Cárdenas del Río', 'ciudad_Reyes Etla', 'ciudad_Moctezuma', 'ciudad_Casas Grandes', 'ciudad_Ocotlán de Morelos', 'ciudad_Taxco de Alarcón', 'ciudad_Tetepango', 'ciudad_Tonanitla', 'ciudad_Ahuacatlán', 'ciudad_Pánuco de Coronado', 'ciudad_Alamo Temapache', 'ciudad_Almoloya de Alquisiras', 'ciudad_Atempan', 'ciudad_Tamiahua', 'ciudad_Sudzal', 'ciudad_Lerdo de Tejada', 'ciudad_Cihuatlán', 'ciudad_Zaragoza', 'ciudad_Actopan', 'ciudad_Yaxcabá', 'ciudad_El Espinal', 'ciudad_Higueras', 'ciudad_Tlaquiltenango', 'ciudad_Tuxtla Chico', 'ciudad_Jalcomulco', 'ciudad_Encarnación de Díaz', 'ciudad_Yuriria', 'ciudad_Angostura', 'ciudad_San Miguel Xoxtla', 'ciudad_Huandacareo', 'ciudad_Zimapán', 'ciudad_Nanacamilpa de Mariano Arista', 'ciudad_Jiménez', 'ciudad_Tepechitlán', 'ciudad_San Salvador el Verde', 'ciudad_Uayma', 'ciudad_Xalatlaco', 'ciudad_Atoyac de Alvarez', 'ciudad_Cuautitlán de García Barragán', 'ciudad_Los Ramones', 'ciudad_San Raymundo Jalpan', 'ciudad_Miahuatlán', 'ciudad_Copala', 'ciudad_Ocuilan', 'ciudad_Chalchicomula de Sesma', 'ciudad_General Cepeda', 'ciudad_Acuña', 'ciudad_Paso de Ovejas', 'ciudad_Tlalixcoyan', 'ciudad_Totoltepec de Guerrero', 'ciudad_Comapa', 'ciudad_San Andrés Tuxtla', 'ciudad_Macuspana', 'ciudad_Contepec', 'ciudad_San Gregorio Atzompa', 'ciudad_Cedral', 'ciudad_Pinotepa de Don Luis', 'ciudad_Naranjos Amatlán', 'ciudad_Tepeyanco', 'ciudad_Teocelo', 'ciudad_Jonacatepec', 'ciudad_Huajicori', 'ciudad_Yaxkukul', 'ciudad_Chignahuapan', 'ciudad_Sayula', 'ciudad_ácatlán', 'ciudad_Tecolotlán', 'ciudad_Jamapa', 'ciudad_Concordia', 'ciudad_Almoloya', 'ciudad_Santa Ana', 'ciudad_Zacualpan', 'ciudad_Panindícuaro', 'ciudad_Villa Guerrero', 'ciudad_Tepetitla de Lardizábal', 'ciudad_Cocotitlán', 'ciudad_Ecatzingo', 'ciudad_Mariano Escobedo', 'ciudad_Empalme', 'ciudad_Nautla', 'ciudad_Paracho', 'ciudad_Villa de Arriaga', 'ciudad_Quintana Roo', 'ciudad_Dzitás', 'ciudad_Santiago Suchilquitongo', 'ciudad_San Gabriel', 'ciudad_Tihuatlán', 'ciudad_Villaflores', 'ciudad_Camarón de Tejeda', 'ciudad_Tepeaca', 'ciudad_Jáltipan', 'ciudad_Opichén', 'ciudad_Ixtaczoquitlán', 'ciudad_Santa Isabel Xiloxoxtla', 'ciudad_Huautla de Jiménez', 'ciudad_Gómez Farías', 'ciudad_Natívitas', 'ciudad_Tarimoro', 'ciudad_Sabinas Hidalgo', 'ciudad_Quitupan', 'ciudad_Chilchotla', 'ciudad_Unión de San Antonio', 'ciudad_Ayapango', 'ciudad_Coahuayana', 'ciudad_Zinapécuaro', 'ciudad_Puente de Ixtla', 'ciudad_Teuchitlán', 'ciudad_Cuetzalan del Progreso', 'ciudad_Atengo', 'ciudad_Chetumal', 'ciudad_San Felipe', 'ciudad_Gral. Treviño', 'ciudad_Nadadores', 'ciudad_Saucillo', 'ciudad_Sanctórum de Lázaro Cárdenas', 'ciudad_Huehuetlán', 'ciudad_Ecuandureo', 'ciudad_Tecozautla', 'ciudad_Asunción Ixtaltepec', 'ciudad_Atemajac de Brizuela', 'ciudad_Reforma', 'ciudad_Colotlán', 'ciudad_San Rafael', 'ciudad_Texcaltitlán', 'ciudad_Santiago Papasquiaro', 'ciudad_Ciénega de Zimatlán', 'ciudad_San Juan Guelavía', 'ciudad_Cintalapa', 'ciudad_Purísima del Rincón', 'ciudad_San Mateo Río Hondo', 'ciudad_Mina', 'ciudad_Cosío', 'ciudad_Magdalena', 'ciudad_Jalpan de Serra', 'ciudad_áyotlán', 'ciudad_Aconchi', 'ciudad_Santiago Miahuatlán', 'ciudad_Ahualulco de Mercado', 'ciudad_Ixtapan del Oro', 'ciudad_Pedro Escobedo', 'ciudad_Santa Cruz Acatepec', 'ciudad_Otumba', 'ciudad_Tlalpujahua', 'ciudad_Santa María Apazco', 'ciudad_Umán', 'ciudad_El Mante', 'ciudad_Guadalupe Victoria', 'ciudad_Soto la Marina', 'ciudad_Rosario', 'ciudad_Marqués de Comillas', 'ciudad_Jalapa', 'ciudad_San Martín de las Pirámides', 'tipodepropiedad_Garage', 'ciudad_Omealca', 'ciudad_áutlán de Navarro', 'ciudad_Poanas', 'ciudad_Tahmek', 'ciudad_Amanalco', 'ciudad_El Fuerte', 'ciudad_Villa Purificación', 'ciudad_Casas', 'ciudad_Perote', 'ciudad_Tepetitlán', 'ciudad_Calcahualco', 'ciudad_Tecolutla', 'ciudad_Celestún', 'ciudad_Tetecala', 'ciudad_Bocoyna', 'ciudad_Axapusco', 'ciudad_Aramberri', 'ciudad_Chignautla', 'ciudad_Nopaltepec', 'ciudad_ácámbaro', 'ciudad_Ajacuba', 'ciudad_Asunción Cacalotepec', 'ciudad_Temax', 'ciudad_Chavinda', 'ciudad_San Pedro', 'ciudad_Mazatepec', 'ciudad_Tlacotalpan', 'ciudad_Villaldama', 'ciudad_Villagrán', 'ciudad_Ocampo', 'ciudad_La Trinitaria', 'ciudad_Mayapán', 'ciudad_Santa Isabel', 'ciudad_Tixtla de Guerrero', 'ciudad_Jaral del Progreso', 'ciudad_Juanacatlán', 'ciudad_Tempoal', 'ciudad_Río Grande', 'ciudad_Colón', 'ciudad_Villa de Cos', 'ciudad_Juárez Hidalgo', 'ciudad_Sombrerete', 'ciudad_Zimatlán de Alvarez', 'ciudad_Ixtlahuacán', 'ciudad_Misantla', 'ciudad_Mapastepec', 'ciudad_Tetela del Volcán', 'ciudad_Tecuala', 'ciudad_ZirAndaro', 'ciudad_San Francisco del Rincón', 'ciudad_Cazones de Herrera', 'ciudad_Marín', 'ciudad_Apatzingán', 'ciudad_San Felipe Orizatlán', 'ciudad_Tenango del Aire', 'ciudad_Batopilas', 'ciudad_Quiroga', 'ciudad_Nuevo Ideal', 'ciudad_Calvillo', 'ciudad_Tepalcatepec', 'ciudad_Tlaxco', 'ciudad_Tzintzuntzan', 'ciudad_Iguala de la Independencia', 'ciudad_Ojinaga', 'ciudad_Timilpan', 'ciudad_Cuaxomulco', 'ciudad_Acatzingo', 'ciudad_Tizimín', 'ciudad_Villa Corzo', 'ciudad_Villa de Allende', 'ciudad_Ocosingo', 'ciudad_Donato Guerra', 'ciudad_Xaltocan', 'ciudad_Teapa', 'ciudad_Acayucan', 'ciudad_Tejupilco', 'ciudad_Dr. Belisario Domínguez', 'ciudad_Heroica Ciudad de Juchitán de Zaragoza', 'ciudad_Los Herreras', 'ciudad_Tianguismanalco', 'ciudad_Castaños', 'ciudad_Elota', 'ciudad_Tochtepec', 'ciudad_Tototlán', 'ciudad_Santa Ana Nopalucan', 'ciudad_Huatusco', 'ciudad_Bella Vista', 'ciudad_Isidro Fabela', 'ciudad_Valle Hermoso', 'tipodepropiedad_Hospedaje', 'ciudad_Alamos', 'ciudad_Asientos', 'ciudad_Tlalixtac de Cabrera', 'ciudad_Acateno', 'ciudad_Santa María del Oro', 'ciudad_Canatlán', 'ciudad_Río Lagartos', 'ciudad_PuruAndiro', 'ciudad_San Pablo Huitzo', 'ciudad_Rafael Lucio', 'ciudad_La Huacana', 'ciudad_Ixhuatlancillo', 'ciudad_Chilapa de Alvarez', 'ciudad_Santa Cruz de Juventino Rosas', 'ciudad_Cananea', 'ciudad_Ahuazotepec', 'ciudad_Dzidzantún', 'ciudad_Charo', 'ciudad_Pinal de Amoles', 'ciudad_Chiconcuac', 'ciudad_San Fernando', 'ciudad_Atoyac', 'ciudad_Gutiérrez Zamora', 'ciudad_Ruíz', 'ciudad_San Pablo Villa de Mitla', 'ciudad_Suma', 'ciudad_Loreto', 'ciudad_Jerécuaro', 'ciudad_Catemaco', 'ciudad_Ixtlán del Río', 'ciudad_Palizada', 'ciudad_Teabo', 'ciudad_Juchitán de Zaragoza', 'ciudad_San Lucas', 'ciudad_Pisaflores', 'ciudad_Chínipas', 'ciudad_Atotonilco el Alto', 'ciudad_Abalá', 'ciudad_Dr. González', 'ciudad_Matehuala', 'ciudad_Escuinapa', 'ciudad_Pijijiapan', 'ciudad_San José del Rincón', 'ciudad_San Francisco de Borja', 'ciudad_Moroleón', 'ciudad_Cacalchén', 'ciudad_Dzoncauich', 'ciudad_Gral. Bravo', 'ciudad_San Pedro Mixtepec -Dto. 26 -', 'ciudad_ácaxochitlán', 'ciudad_Los Reyes', 'ciudad_Almoloya del Río', 'ciudad_Sinanché', 'ciudad_Jocotitlán', 'ciudad_Tamazunchale', 'ciudad_Altotonga', 'ciudad_Villa de Tezontepec', 'ciudad_Teteles de Avila Castillo', 'ciudad_Urique', 'ciudad_Lamadrid', 'ciudad_Calkiní', 'ciudad_Huetamo', 'ciudad_Jiquilpan', 'ciudad_Cuerámaro', 'ciudad_Tezontepec de Aldama', 'ciudad_Ciudad Fernández', 'ciudad_San Jerónimo Tecuanipan', 'ciudad_Huimanguillo', 'ciudad_Balancán', 'ciudad_Acuitzio', 'ciudad_El Barrio de la Soledad', 'ciudad_San Sebastián Tutla', 'ciudad_Zináparo', 'ciudad_Ursulo Galván', 'ciudad_Mineral del Monte', 'ciudad_Río Blanco', 'ciudad_Hoctún', 'ciudad_Nazareno Etla', 'ciudad_General Plutarco Elías Calles', 'ciudad_Buctzotz', 'ciudad_La Piedad', 'ciudad_Yahualica de González Gallo', 'ciudad_Homún', 'ciudad_Apazapan', 'ciudad_Santo Tomás', 'ciudad_Salvatierra', 'ciudad_Timucuy', 'ciudad_Aquismón', 'ciudad_CopAndaro', 'ciudad_Papantla', 'ciudad_Zacatepec', 'ciudad_Peribán', 'ciudad_Villanueva', 'ciudad_Purépero', 'ciudad_Gustavo Díaz Ordaz']\n"
     ]
    },
    {
     "data": {
      "text/plain": [
       "True"
      ]
     },
     "execution_count": 150,
     "metadata": {},
     "output_type": "execute_result"
    }
   ],
   "source": [
    "modelo = XGBoostRegressor()\n",
    "modelo.cargar_datos()"
   ]
  },
  {
   "cell_type": "code",
   "execution_count": 151,
   "metadata": {},
   "outputs": [
    {
     "name": "stdout",
     "output_type": "stream",
     "text": [
      "[14:24:08] WARNING: /workspace/src/objective/regression_obj.cu:152: reg:linear is now deprecated in favor of reg:squarederror.\n",
      "entrenar demoro 0.0 segundos\n",
      "entrenar demoro 278.14 segundos\n"
     ]
    },
    {
     "data": {
      "text/plain": [
       "True"
      ]
     },
     "execution_count": 151,
     "metadata": {},
     "output_type": "execute_result"
    }
   ],
   "source": [
    "modelo.entrenar()"
   ]
  },
  {
   "cell_type": "code",
   "execution_count": 152,
   "metadata": {},
   "outputs": [
    {
     "name": "stdout",
     "output_type": "stream",
     "text": [
      "predecir demoro 3.01 segundos\n",
      "puntuar demoro 0.0 segundos\n",
      "validar demoro 3.02 segundos\n"
     ]
    },
    {
     "data": {
      "text/plain": [
       "738739.3"
      ]
     },
     "execution_count": 152,
     "metadata": {},
     "output_type": "execute_result"
    }
   ],
   "source": [
    "modelo.validar()"
   ]
  },
  {
   "cell_type": "code",
   "execution_count": 153,
   "metadata": {},
   "outputs": [
    {
     "name": "stdout",
     "output_type": "stream",
     "text": [
      "predecir demoro 3.0 segundos\n"
     ]
    }
   ],
   "source": [
    "predicciones = modelo.predecir(modelo.submit_data)"
   ]
  },
  {
   "cell_type": "code",
   "execution_count": 154,
   "metadata": {},
   "outputs": [
    {
     "name": "stdout",
     "output_type": "stream",
     "text": [
      "guardar demoro 0.12 segundos\n"
     ]
    },
    {
     "name": "stderr",
     "output_type": "stream",
     "text": [
      "100%|██████████| 969k/969k [00:05<00:00, 191kB/s]  \n"
     ]
    },
    {
     "name": "stdout",
     "output_type": "stream",
     "text": [
      "submit demoro 7.87 segundos\n",
      "presentar demoro 8.0 segundos\n"
     ]
    }
   ],
   "source": [
    "comentario = \"xgboost regressor con one hot encoding para tipodepropiedad,provincia y ciudad - puntaje local 738739.3\"\n",
    "modelo.presentar(predicciones, comentario)"
   ]
  }
 ],
 "metadata": {
  "kernelspec": {
   "display_name": "Python 3",
   "language": "python",
   "name": "python3"
  },
  "language_info": {
   "codemirror_mode": {
    "name": "ipython",
    "version": 3
   },
   "file_extension": ".py",
   "mimetype": "text/x-python",
   "name": "python",
   "nbconvert_exporter": "python",
   "pygments_lexer": "ipython3",
   "version": "3.6.8"
  }
 },
 "nbformat": 4,
 "nbformat_minor": 4
}

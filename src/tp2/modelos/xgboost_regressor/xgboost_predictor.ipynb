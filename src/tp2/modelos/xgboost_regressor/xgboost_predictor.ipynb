{
 "cells": [
  {
   "cell_type": "code",
   "execution_count": 1,
   "metadata": {},
   "outputs": [],
   "source": [
    "import os\n",
    "import sys\n",
    "this = os.getcwd()\n",
    "path = this[:this.rfind(\"/\")]\n",
    "if not path in sys.path: sys.path.append(path)\n",
    "\n",
    "import pandas as pd\n",
    "import matplotlib\n",
    "from datos import FEATURES_DISPONIBLES\n",
    "from modelo import Modelo\n",
    "\n",
    "pd.set_option('display.max_columns', 100)\n",
    "pd.set_option('display.float_format', lambda x: '%.3f' % x)"
   ]
  },
  {
   "cell_type": "code",
   "execution_count": 10,
   "metadata": {},
   "outputs": [],
   "source": [
    "import xgboost as xgb\n",
    "from sklearn.metrics import accuracy_score\n",
    "from operator import concat\n",
    "from functools import reduce"
   ]
  },
  {
   "cell_type": "code",
   "execution_count": 143,
   "metadata": {},
   "outputs": [],
   "source": [
    "class XGBoostRegressor(Modelo):\n",
    "    \"\"\"\n",
    "        Este modelo lo vamos a usar para predecir algunos\n",
    "        valores faltantes en los tres sets de datos.\n",
    "    \"\"\"\n",
    "\n",
    "     \n",
    "    def cargar_datos(self):\n",
    "        \"\"\"\n",
    "        \"\"\"\n",
    "        excluir = {\n",
    "            \"ciudad\", \"idzona\", \"fecha\",\n",
    "            \"precio_metro_cubierto\", \"precio_metro_total\"\n",
    "        }\n",
    "        features = FEATURES_DISPONIBLES - excluir\n",
    "        super().cargar_datos(features)\n",
    "        self.train_data = self.preparar_datos(self.train_data)\n",
    "        self.test_data = self.preparar_datos(self.test_data)      \n",
    "        self.submit_data = self.preparar_datos(self.submit_data)\n",
    "        self.agregar_columnas_faltantes()\n",
    "        return True\n",
    "    \n",
    "    def preparar_datos(self, df):\n",
    "        \"\"\"\n",
    "        \"\"\"\n",
    "        df = df.drop(columns=\"fecha\")   \n",
    "        categoricas = {\"tipodepropiedad\", \"provincia\"}\n",
    "        return self.one_hot_encode(df, categoricas)\n",
    "    \n",
    "    def agregar_columnas_faltantes(self):\n",
    "        \"\"\"\n",
    "            Al hacer one hot encoding individualemente sobre los dfs,\n",
    "            puede pasar que queden con columnas dispares. Por eso,\n",
    "            en esta función las agrego a cada uno.\n",
    "        \"\"\"\n",
    "        dfs = (self.train_data, self.test_data, self.submit_data)\n",
    "        columnas_todas = set(reduce(concat, [list(df.columns.values) for df in dfs], []))\n",
    "        def agregar_faltantes(df):\n",
    "            faltantes = list(columnas_todas - {'precio'} - set(df.columns.values))\n",
    "            for faltante in faltantes:\n",
    "                df[faltante] = False\n",
    "            print(faltantes)\n",
    "            return df.reindex(columnas_todas, axis='columns')\n",
    "        self.train_data = agregar_faltantes(self.train_data)\n",
    "        self.test_data = agregar_faltantes(self.test_data)\n",
    "        self.submit_data = agregar_faltantes(self.submit_data)\n",
    "        return True\n",
    "\n",
    "    def _split_data_label(self, df, label):\n",
    "        data = df.loc[:, df.columns != label]\n",
    "        label = df[label].values if label in df.columns else None\n",
    "        return data, label\n",
    "    \n",
    "    @Modelo.cronometrar()\n",
    "    def entrenar(self, params=None):\n",
    "        \"\"\"\n",
    "        \"\"\"\n",
    "        train_data, train_label = self._split_data_label(modelo.train_data, self.feature)\n",
    "        self.model = xgb.XGBRegressor()\n",
    "        self.model.fit(train_data, train_label)\n",
    "        super().entrenar()\n",
    "        return True\n",
    "    \n",
    "    @Modelo.cronometrar()\n",
    "    def predecir(self, data):\n",
    "        \"\"\"\n",
    "        \"\"\"\n",
    "        predict_data, predict_label = self._split_data_label(data, self.feature)\n",
    "        predictions = self.model.predict(predict_data)\n",
    "        data[\"target\"] = predictions\n",
    "        return data\n"
   ]
  },
  {
   "cell_type": "code",
   "execution_count": 144,
   "metadata": {},
   "outputs": [
    {
     "name": "stdout",
     "output_type": "stream",
     "text": [
      "instanciar demoro 0.0 segundos\n",
      "cargar demoro 1.5 segundos\n",
      "[]\n",
      "[]\n",
      "['tipodepropiedad_Garage', 'tipodepropiedad_Hospedaje']\n"
     ]
    },
    {
     "data": {
      "text/plain": [
       "True"
      ]
     },
     "execution_count": 144,
     "metadata": {},
     "output_type": "execute_result"
    }
   ],
   "source": [
    "modelo = XGBoostRegressor()\n",
    "modelo.cargar_datos()"
   ]
  },
  {
   "cell_type": "code",
   "execution_count": 145,
   "metadata": {},
   "outputs": [
    {
     "name": "stdout",
     "output_type": "stream",
     "text": [
      "[14:18:53] WARNING: /workspace/src/objective/regression_obj.cu:152: reg:linear is now deprecated in favor of reg:squarederror.\n",
      "entrenar demoro 0.0 segundos\n",
      "entrenar demoro 24.71 segundos\n"
     ]
    },
    {
     "data": {
      "text/plain": [
       "True"
      ]
     },
     "execution_count": 145,
     "metadata": {},
     "output_type": "execute_result"
    }
   ],
   "source": [
    "modelo.entrenar()"
   ]
  },
  {
   "cell_type": "code",
   "execution_count": 146,
   "metadata": {},
   "outputs": [
    {
     "name": "stdout",
     "output_type": "stream",
     "text": [
      "predecir demoro 0.34 segundos\n",
      "puntuar demoro 0.0 segundos\n",
      "validar demoro 0.34 segundos\n"
     ]
    },
    {
     "data": {
      "text/plain": [
       "769896.8"
      ]
     },
     "execution_count": 146,
     "metadata": {},
     "output_type": "execute_result"
    }
   ],
   "source": [
    "modelo.validar()"
   ]
  },
  {
   "cell_type": "code",
   "execution_count": 147,
   "metadata": {},
   "outputs": [
    {
     "name": "stdout",
     "output_type": "stream",
     "text": [
      "predecir demoro 0.33 segundos\n"
     ]
    }
   ],
   "source": [
    "predicciones = modelo.predecir(modelo.submit_data)"
   ]
  },
  {
   "cell_type": "code",
   "execution_count": 148,
   "metadata": {},
   "outputs": [
    {
     "name": "stdout",
     "output_type": "stream",
     "text": [
      "guardar demoro 0.12 segundos\n"
     ]
    },
    {
     "name": "stderr",
     "output_type": "stream",
     "text": [
      "100%|██████████| 969k/969k [00:05<00:00, 183kB/s]  \n"
     ]
    },
    {
     "name": "stdout",
     "output_type": "stream",
     "text": [
      "submit demoro 8.52 segundos\n",
      "presentar demoro 8.64 segundos\n"
     ]
    }
   ],
   "source": [
    "comentario = \"xgboost regressor con one hot encoding para tipodepropiedad y provincia - puntaje local 769896.8\"\n",
    "modelo.presentar(predicciones, comentario)"
   ]
  }
 ],
 "metadata": {
  "kernelspec": {
   "display_name": "Python 3",
   "language": "python",
   "name": "python3"
  },
  "language_info": {
   "codemirror_mode": {
    "name": "ipython",
    "version": 3
   },
   "file_extension": ".py",
   "mimetype": "text/x-python",
   "name": "python",
   "nbconvert_exporter": "python",
   "pygments_lexer": "ipython3",
   "version": "3.6.8"
  }
 },
 "nbformat": 4,
 "nbformat_minor": 4
}

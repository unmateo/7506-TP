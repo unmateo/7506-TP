{
 "cells": [
  {
   "cell_type": "code",
   "execution_count": 1,
   "metadata": {},
   "outputs": [],
   "source": [
    "import os\n",
    "import sys\n",
    "this = os.getcwd()\n",
    "path = this[:this.rfind(\"/\")]\n",
    "if not path in sys.path: sys.path.append(path)\n",
    "\n",
    "import pandas as pd\n",
    "import matplotlib\n",
    "from datos import FEATURES_DISPONIBLES\n",
    "from modelo import Modelo\n",
    "\n",
    "pd.set_option('display.max_columns', 100)\n",
    "pd.set_option('display.float_format', lambda x: '%.3f' % x)"
   ]
  },
  {
   "cell_type": "code",
   "execution_count": 50,
   "metadata": {},
   "outputs": [],
   "source": [
    "import xgboost as xgb\n",
    "from sklearn.metrics import accuracy_score"
   ]
  },
  {
   "cell_type": "code",
   "execution_count": 53,
   "metadata": {},
   "outputs": [],
   "source": [
    "class XGBoost(Modelo):\n",
    "    \"\"\"\n",
    "        Este modelo lo vamos a usar para predecir algunos\n",
    "        valores faltantes en los tres sets de datos.\n",
    "    \"\"\"\n",
    "\n",
    "     \n",
    "    def cargar_datos(self):\n",
    "        \"\"\"\n",
    "        \"\"\"\n",
    "        excluir = {\n",
    "            \"tipodepropiedad\", \"ciudad\", \"provincia\", \"idzona\", \"fecha\",\n",
    "            \"precio_metro_total\", \"precio\", \"precio_metro_cubierto\"\n",
    "        }\n",
    "        features = FEATURES_DISPONIBLES - excluir\n",
    "        super().cargar_datos(features)\n",
    "        self.train_data = self.train_data.drop(columns=[\"fecha\"])\n",
    "        self.test_data = self.test_data.drop(columns=[\"fecha\"])        \n",
    "        self.submit_data = self.submit_data.drop(columns=[\"fecha\"])\n",
    "        return True\n",
    "\n",
    "    def _split_data_label(self, df, label):\n",
    "        data = df.loc[:, df.columns != label]\n",
    "        label = df[label].values\n",
    "        return data, label\n",
    "    \n",
    "    @Modelo.cronometrar()\n",
    "    def entrenar(self, params=None):\n",
    "        \"\"\"\n",
    "        \"\"\"\n",
    "        if not params:\n",
    "            params = {\n",
    "                'max_depth': 2,\n",
    "                'eta': 1,\n",
    "                'objective': 'binary:logistic',\n",
    "                'nthread': 4,\n",
    "                'eval_metric': 'auc'\n",
    "            }\n",
    "        train_data, train_label = self._split_data_label(modelo.train_data, self.feature)\n",
    "        dtrain = xgb.DMatrix(train_data, label=train_label)\n",
    "        self.predictor = xgb.train(params, dtrain)\n",
    "        super().entrenar()\n",
    "        return True\n",
    "    \n",
    "    @Modelo.cronometrar()\n",
    "    def predecir(self, data, to_bool=True):\n",
    "        \"\"\"\n",
    "            to_bool: bool\n",
    "                Transformar la columna target (0,1] a bool.\n",
    "                Lo hace poniendo un límite en 0.5\n",
    "        \"\"\"\n",
    "        predict_data, predict_label = self._split_data_label(data, self.feature)\n",
    "        dpredict = xgb.DMatrix(predict_data)\n",
    "        predictions = self.predictor.predict(dpredict)\n",
    "        if to_bool:\n",
    "            predictions = [ x>0.5 for x in predictions ]\n",
    "        data[\"target\"] = predictions\n",
    "        return data\n",
    "\n",
    "    \n",
    "    def puntuar(self, real, prediccion):\n",
    "        \"\"\"\n",
    "            \n",
    "        \"\"\"\n",
    "        try:\n",
    "            puntaje = super().puntuar(real, prediccion)\n",
    "        except Exception:\n",
    "            puntaje = accuracy_score(real, prediccion)\n",
    "        return puntaje"
   ]
  },
  {
   "cell_type": "code",
   "execution_count": 73,
   "metadata": {},
   "outputs": [
    {
     "name": "stdout",
     "output_type": "stream",
     "text": [
      "instanciar demoro 0.0 segundos\n",
      "cargar demoro 1.24 segundos\n",
      "entrenar demoro 0.0 segundos\n",
      "entrenar demoro 0.39 segundos\n",
      "predecir demoro 0.13 segundos\n",
      "validar demoro 0.13 segundos\n"
     ]
    },
    {
     "data": {
      "text/plain": [
       "0.9475666666666667"
      ]
     },
     "execution_count": 73,
     "metadata": {},
     "output_type": "execute_result"
    }
   ],
   "source": [
    "modelo = XGBoost(feature='gimnasio')\n",
    "modelo.cargar_datos()\n",
    "modelo.entrenar()\n",
    "modelo.validar()\n",
    "#predicciones = modelo.predecir(modelo.submit_data)"
   ]
  },
  {
   "cell_type": "code",
   "execution_count": 71,
   "metadata": {},
   "outputs": [
    {
     "name": "stdout",
     "output_type": "stream",
     "text": [
      "<class 'pandas.core.frame.DataFrame'>\n",
      "Int64Index: 60000 entries, 4941 to 72612\n",
      "Data columns (total 14 columns):\n",
      "antiguedad                    49286 non-null float16\n",
      "habitaciones                  54372 non-null float16\n",
      "garages                       50677 non-null float16\n",
      "banos                         53446 non-null float16\n",
      "metroscubiertos               55701 non-null float32\n",
      "metrostotales                 47345 non-null float32\n",
      "gimnasio                      60000 non-null bool\n",
      "usosmultiples                 60000 non-null bool\n",
      "piscina                       60000 non-null bool\n",
      "escuelascercanas              60000 non-null bool\n",
      "centroscomercialescercanos    60000 non-null bool\n",
      "ano                           60000 non-null int64\n",
      "mes                           60000 non-null int64\n",
      "dia                           60000 non-null int64\n",
      "dtypes: bool(5), float16(4), float32(2), int64(3)\n",
      "memory usage: 3.0 MB\n"
     ]
    }
   ],
   "source": [
    "modelo.submit_data.info()"
   ]
  }
 ],
 "metadata": {
  "kernelspec": {
   "display_name": "Python 3",
   "language": "python",
   "name": "python3"
  },
  "language_info": {
   "codemirror_mode": {
    "name": "ipython",
    "version": 3
   },
   "file_extension": ".py",
   "mimetype": "text/x-python",
   "name": "python",
   "nbconvert_exporter": "python",
   "pygments_lexer": "ipython3",
   "version": "3.6.8"
  }
 },
 "nbformat": 4,
 "nbformat_minor": 4
}

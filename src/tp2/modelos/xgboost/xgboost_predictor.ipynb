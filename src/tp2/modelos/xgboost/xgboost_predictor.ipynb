{
 "cells": [
  {
   "cell_type": "code",
   "execution_count": 11,
   "metadata": {},
   "outputs": [],
   "source": [
    "import os\n",
    "import sys\n",
    "this = os.getcwd()\n",
    "path = this[:this.rfind(\"/\")]\n",
    "if not path in sys.path: sys.path.append(path)\n",
    "\n",
    "from datos import FEATURES_DISPONIBLES\n",
    "from modelo import Modelo\n",
    "import pandas as pd\n",
    "pd.set_option('display.max_columns', 100)\n",
    "pd.set_option('display.float_format', lambda x: '%.3f' % x)"
   ]
  },
  {
   "cell_type": "code",
   "execution_count": 10,
   "metadata": {},
   "outputs": [],
   "source": []
  },
  {
   "cell_type": "code",
   "execution_count": 5,
   "metadata": {},
   "outputs": [],
   "source": [
    "import xgboost as xgb"
   ]
  },
  {
   "cell_type": "code",
   "execution_count": 17,
   "metadata": {},
   "outputs": [],
   "source": [
    "class XGBoost(Modelo):\n",
    "    \"\"\"\n",
    "    \"\"\"\n",
    "    \n",
    "    def cargar_datos(self):\n",
    "        \"\"\"\n",
    "        \"\"\"\n",
    "        excluir = {\n",
    "            \"tipodepropiedad\", \"ciudad\", \"provincia\", \"idzona\", \"fecha\"\n",
    "        }\n",
    "        features = FEATURES_DISPONIBLES - excluir\n",
    "        super().cargar_datos(features)\n",
    "        self.train_data = self.train_data.drop(columns=[\"fecha\"])\n",
    "        self.test_data = self.test_data.drop(columns=[\"fecha\"])\n",
    "        self.submit_data = self.submit_data.drop(columns=[\"fecha\"])\n",
    "        \n",
    "    def entrenar(self):\n",
    "        \"\"\"\n",
    "        \"\"\"\n",
    "        pass\n",
    "        "
   ]
  },
  {
   "cell_type": "code",
   "execution_count": 18,
   "metadata": {},
   "outputs": [
    {
     "name": "stdout",
     "output_type": "stream",
     "text": [
      "instanciar demoro 0.0 segundos\n",
      "cargar demoro 1.31 segundos\n"
     ]
    }
   ],
   "source": [
    "modelo = XGBoost()\n",
    "modelo.cargar_datos()"
   ]
  },
  {
   "cell_type": "code",
   "execution_count": 16,
   "metadata": {},
   "outputs": [
    {
     "data": {
      "text/html": [
       "<div>\n",
       "<style scoped>\n",
       "    .dataframe tbody tr th:only-of-type {\n",
       "        vertical-align: middle;\n",
       "    }\n",
       "\n",
       "    .dataframe tbody tr th {\n",
       "        vertical-align: top;\n",
       "    }\n",
       "\n",
       "    .dataframe thead th {\n",
       "        text-align: right;\n",
       "    }\n",
       "</style>\n",
       "<table border=\"1\" class=\"dataframe\">\n",
       "  <thead>\n",
       "    <tr style=\"text-align: right;\">\n",
       "      <th></th>\n",
       "      <th>antiguedad</th>\n",
       "      <th>habitaciones</th>\n",
       "      <th>garages</th>\n",
       "      <th>banos</th>\n",
       "      <th>metroscubiertos</th>\n",
       "      <th>metrostotales</th>\n",
       "      <th>fecha</th>\n",
       "      <th>gimnasio</th>\n",
       "      <th>usosmultiples</th>\n",
       "      <th>piscina</th>\n",
       "      <th>escuelascercanas</th>\n",
       "      <th>centroscomercialescercanos</th>\n",
       "      <th>precio</th>\n",
       "      <th>ano</th>\n",
       "      <th>mes</th>\n",
       "      <th>dia</th>\n",
       "      <th>precio_metro_cubierto</th>\n",
       "      <th>precio_metro_total</th>\n",
       "    </tr>\n",
       "    <tr>\n",
       "      <th>id</th>\n",
       "      <th></th>\n",
       "      <th></th>\n",
       "      <th></th>\n",
       "      <th></th>\n",
       "      <th></th>\n",
       "      <th></th>\n",
       "      <th></th>\n",
       "      <th></th>\n",
       "      <th></th>\n",
       "      <th></th>\n",
       "      <th></th>\n",
       "      <th></th>\n",
       "      <th></th>\n",
       "      <th></th>\n",
       "      <th></th>\n",
       "      <th></th>\n",
       "      <th></th>\n",
       "      <th></th>\n",
       "    </tr>\n",
       "  </thead>\n",
       "  <tbody>\n",
       "    <tr>\n",
       "      <th>86018</th>\n",
       "      <td>8.000</td>\n",
       "      <td>2.000</td>\n",
       "      <td>1.000</td>\n",
       "      <td>1.000</td>\n",
       "      <td>105.000</td>\n",
       "      <td>160.000</td>\n",
       "      <td>2012-03-01</td>\n",
       "      <td>False</td>\n",
       "      <td>False</td>\n",
       "      <td>False</td>\n",
       "      <td>True</td>\n",
       "      <td>False</td>\n",
       "      <td>565000.000</td>\n",
       "      <td>2012</td>\n",
       "      <td>3</td>\n",
       "      <td>1</td>\n",
       "      <td>5380.952</td>\n",
       "      <td>3531.250</td>\n",
       "    </tr>\n",
       "    <tr>\n",
       "      <th>273545</th>\n",
       "      <td>8.000</td>\n",
       "      <td>3.000</td>\n",
       "      <td>0.000</td>\n",
       "      <td>1.000</td>\n",
       "      <td>52.000</td>\n",
       "      <td>nan</td>\n",
       "      <td>2015-08-19</td>\n",
       "      <td>False</td>\n",
       "      <td>False</td>\n",
       "      <td>False</td>\n",
       "      <td>False</td>\n",
       "      <td>False</td>\n",
       "      <td>930000.000</td>\n",
       "      <td>2015</td>\n",
       "      <td>8</td>\n",
       "      <td>19</td>\n",
       "      <td>17884.615</td>\n",
       "      <td>nan</td>\n",
       "    </tr>\n",
       "    <tr>\n",
       "      <th>295862</th>\n",
       "      <td>0.000</td>\n",
       "      <td>2.000</td>\n",
       "      <td>2.000</td>\n",
       "      <td>2.000</td>\n",
       "      <td>60.000</td>\n",
       "      <td>66.000</td>\n",
       "      <td>2012-12-31</td>\n",
       "      <td>False</td>\n",
       "      <td>False</td>\n",
       "      <td>False</td>\n",
       "      <td>True</td>\n",
       "      <td>True</td>\n",
       "      <td>660000.000</td>\n",
       "      <td>2012</td>\n",
       "      <td>12</td>\n",
       "      <td>31</td>\n",
       "      <td>11000.000</td>\n",
       "      <td>10000.000</td>\n",
       "    </tr>\n",
       "    <tr>\n",
       "      <th>194850</th>\n",
       "      <td>10.000</td>\n",
       "      <td>3.000</td>\n",
       "      <td>nan</td>\n",
       "      <td>2.000</td>\n",
       "      <td>140.000</td>\n",
       "      <td>167.000</td>\n",
       "      <td>2015-12-23</td>\n",
       "      <td>False</td>\n",
       "      <td>False</td>\n",
       "      <td>False</td>\n",
       "      <td>False</td>\n",
       "      <td>False</td>\n",
       "      <td>1250000.000</td>\n",
       "      <td>2015</td>\n",
       "      <td>12</td>\n",
       "      <td>23</td>\n",
       "      <td>8928.571</td>\n",
       "      <td>7485.030</td>\n",
       "    </tr>\n",
       "    <tr>\n",
       "      <th>197782</th>\n",
       "      <td>20.000</td>\n",
       "      <td>4.000</td>\n",
       "      <td>3.000</td>\n",
       "      <td>3.000</td>\n",
       "      <td>420.000</td>\n",
       "      <td>420.000</td>\n",
       "      <td>2016-01-22</td>\n",
       "      <td>False</td>\n",
       "      <td>True</td>\n",
       "      <td>False</td>\n",
       "      <td>True</td>\n",
       "      <td>True</td>\n",
       "      <td>5500000.000</td>\n",
       "      <td>2016</td>\n",
       "      <td>1</td>\n",
       "      <td>22</td>\n",
       "      <td>13095.238</td>\n",
       "      <td>13095.238</td>\n",
       "    </tr>\n",
       "  </tbody>\n",
       "</table>\n",
       "</div>"
      ],
      "text/plain": [
       "        antiguedad  habitaciones  garages  banos  metroscubiertos  \\\n",
       "id                                                                  \n",
       "86018        8.000         2.000    1.000  1.000          105.000   \n",
       "273545       8.000         3.000    0.000  1.000           52.000   \n",
       "295862       0.000         2.000    2.000  2.000           60.000   \n",
       "194850      10.000         3.000      nan  2.000          140.000   \n",
       "197782      20.000         4.000    3.000  3.000          420.000   \n",
       "\n",
       "        metrostotales      fecha  gimnasio  usosmultiples  piscina  \\\n",
       "id                                                                   \n",
       "86018         160.000 2012-03-01     False          False    False   \n",
       "273545            nan 2015-08-19     False          False    False   \n",
       "295862         66.000 2012-12-31     False          False    False   \n",
       "194850        167.000 2015-12-23     False          False    False   \n",
       "197782        420.000 2016-01-22     False           True    False   \n",
       "\n",
       "        escuelascercanas  centroscomercialescercanos      precio   ano  mes  \\\n",
       "id                                                                            \n",
       "86018               True                       False  565000.000  2012    3   \n",
       "273545             False                       False  930000.000  2015    8   \n",
       "295862              True                        True  660000.000  2012   12   \n",
       "194850             False                       False 1250000.000  2015   12   \n",
       "197782              True                        True 5500000.000  2016    1   \n",
       "\n",
       "        dia  precio_metro_cubierto  precio_metro_total  \n",
       "id                                                      \n",
       "86018     1               5380.952            3531.250  \n",
       "273545   19              17884.615                 nan  \n",
       "295862   31              11000.000           10000.000  \n",
       "194850   23               8928.571            7485.030  \n",
       "197782   22              13095.238           13095.238  "
      ]
     },
     "execution_count": 16,
     "metadata": {},
     "output_type": "execute_result"
    }
   ],
   "source": [
    "modelo.train_data.head()"
   ]
  },
  {
   "cell_type": "code",
   "execution_count": 27,
   "metadata": {},
   "outputs": [],
   "source": [
    "label = 'gimnasio'\n",
    "dtrain = xgb.DMatrix(modelo.train_data, label=modelo.train_data[label].values)\n",
    "dtest = xgb.DMatrix(modelo.test_data, label=modelo.test_data[label].values)"
   ]
  },
  {
   "cell_type": "code",
   "execution_count": 28,
   "metadata": {},
   "outputs": [],
   "source": [
    "params = {'max_depth': 2, 'eta': 1, 'objective': 'binary:logistic', 'nthread': 4, 'eval_metric': 'auc'}\n",
    "booster = xgb.train(params, dtrain)"
   ]
  },
  {
   "cell_type": "code",
   "execution_count": 46,
   "metadata": {},
   "outputs": [],
   "source": [
    "modelo.test_data['pred'] = booster.predict(dtest)"
   ]
  },
  {
   "cell_type": "code",
   "execution_count": 47,
   "metadata": {},
   "outputs": [],
   "source": [
    "pred = modelo.test_data[[label, 'pred']]"
   ]
  },
  {
   "cell_type": "code",
   "execution_count": 48,
   "metadata": {},
   "outputs": [
    {
     "data": {
      "text/plain": [
       "<matplotlib.axes._subplots.AxesSubplot at 0x7f07695dda20>"
      ]
     },
     "execution_count": 48,
     "metadata": {},
     "output_type": "execute_result"
    },
    {
     "data": {
      "image/png": "[encoded data removed]",
      "text/plain": [
       "<Figure size 432x288 with 1 Axes>"
      ]
     },
     "metadata": {
      "needs_background": "light"
     },
     "output_type": "display_data"
    }
   ],
   "source": [
    "pred[\"pred\"].hist()"
   ]
  },
  {
   "cell_type": "code",
   "execution_count": 49,
   "metadata": {},
   "outputs": [
    {
     "name": "stderr",
     "output_type": "stream",
     "text": [
      "/home/mharfuch/.local/share/virtualenvs/7506-TP-cfKyodU4/lib/python3.6/site-packages/ipykernel_launcher.py:1: SettingWithCopyWarning: \n",
      "A value is trying to be set on a copy of a slice from a DataFrame.\n",
      "Try using .loc[row_indexer,col_indexer] = value instead\n",
      "\n",
      "See the caveats in the documentation: http://pandas.pydata.org/pandas-docs/stable/user_guide/indexing.html#returning-a-view-versus-a-copy\n",
      "  \"\"\"Entry point for launching an IPython kernel.\n"
     ]
    }
   ],
   "source": [
    "pred[\"label\"] = pred[\"pred\"].map(lambda x: x > 0.5)"
   ]
  },
  {
   "cell_type": "code",
   "execution_count": 57,
   "metadata": {},
   "outputs": [
    {
     "name": "stderr",
     "output_type": "stream",
     "text": [
      "/home/mharfuch/.local/share/virtualenvs/7506-TP-cfKyodU4/lib/python3.6/site-packages/ipykernel_launcher.py:1: SettingWithCopyWarning: \n",
      "A value is trying to be set on a copy of a slice from a DataFrame.\n",
      "Try using .loc[row_indexer,col_indexer] = value instead\n",
      "\n",
      "See the caveats in the documentation: http://pandas.pydata.org/pandas-docs/stable/user_guide/indexing.html#returning-a-view-versus-a-copy\n",
      "  \"\"\"Entry point for launching an IPython kernel.\n"
     ]
    }
   ],
   "source": [
    "pred[\"dif\"] = ~(pred[label] == pred[\"label\"])"
   ]
  },
  {
   "cell_type": "code",
   "execution_count": 58,
   "metadata": {},
   "outputs": [
    {
     "data": {
      "text/plain": [
       "False    60000\n",
       "Name: dif, dtype: int64"
      ]
     },
     "execution_count": 58,
     "metadata": {},
     "output_type": "execute_result"
    }
   ],
   "source": [
    "pred[\"dif\"].value_counts()"
   ]
  }
 ],
 "metadata": {
  "kernelspec": {
   "display_name": "Python 3",
   "language": "python",
   "name": "python3"
  },
  "language_info": {
   "codemirror_mode": {
    "name": "ipython",
    "version": 3
   },
   "file_extension": ".py",
   "mimetype": "text/x-python",
   "name": "python",
   "nbconvert_exporter": "python",
   "pygments_lexer": "ipython3",
   "version": "3.6.8"
  }
 },
 "nbformat": 4,
 "nbformat_minor": 4
}

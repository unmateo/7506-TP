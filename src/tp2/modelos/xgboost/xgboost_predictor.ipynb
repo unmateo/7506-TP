{
 "cells": [
  {
   "cell_type": "code",
   "execution_count": 3,
   "metadata": {},
   "outputs": [],
   "source": [
    "import os\n",
    "import sys\n",
    "this = os.getcwd()\n",
    "path = this[:this.rfind(\"/\")]\n",
    "if not path in sys.path: sys.path.append(path)\n",
    "\n",
    "import pandas as pd\n",
    "import matplotlib\n",
    "from datos import FEATURES_DISPONIBLES\n",
    "from modelo import Modelo\n",
    "\n",
    "pd.set_option('display.max_columns', 100)\n",
    "pd.set_option('display.float_format', lambda x: '%.3f' % x)"
   ]
  },
  {
   "cell_type": "code",
   "execution_count": 4,
   "metadata": {},
   "outputs": [],
   "source": [
    "import xgboost as xgb"
   ]
  },
  {
   "cell_type": "code",
   "execution_count": 5,
   "metadata": {},
   "outputs": [],
   "source": [
    "class XGBoost(Modelo):\n",
    "    \"\"\"\n",
    "    \"\"\"\n",
    "    \n",
    "    def cargar_datos(self):\n",
    "        \"\"\"\n",
    "        \"\"\"\n",
    "        excluir = {\n",
    "            \"tipodepropiedad\", \"ciudad\", \"provincia\", \"idzona\", \"fecha\"\n",
    "        }\n",
    "        features = FEATURES_DISPONIBLES - excluir\n",
    "        super().cargar_datos(features)\n",
    "        self.train_data = self.train_data.drop(columns=[\"fecha\"])\n",
    "        self.test_data = self.test_data.drop(columns=[\"fecha\"])\n",
    "        self.submit_data = self.submit_data.drop(columns=[\"fecha\"])\n",
    "        \n",
    "    def entrenar(self):\n",
    "        \"\"\"\n",
    "        \"\"\"\n",
    "        pass\n",
    "        "
   ]
  },
  {
   "cell_type": "code",
   "execution_count": 24,
   "metadata": {},
   "outputs": [
    {
     "name": "stdout",
     "output_type": "stream",
     "text": [
      "instanciar demoro 0.0 segundos\n",
      "cargar demoro 1.3 segundos\n"
     ]
    }
   ],
   "source": [
    "modelo = XGBoost()\n",
    "modelo.cargar_datos()"
   ]
  },
  {
   "cell_type": "code",
   "execution_count": 13,
   "metadata": {},
   "outputs": [],
   "source": [
    "def split_data_label(df, label):\n",
    "    data = df.loc[:, df.columns != label]\n",
    "    label = df[label].values\n",
    "    return data, label"
   ]
  },
  {
   "cell_type": "code",
   "execution_count": 25,
   "metadata": {},
   "outputs": [],
   "source": [
    "label = 'gimnasio'\n",
    "train_data, train_label = split_data_label(modelo.train_data, label)\n",
    "test_data, test_label = split_data_label(modelo.test_data, label)\n",
    "\n",
    "dtrain = xgb.DMatrix(train_data, label=train_label)\n",
    "dtest = xgb.DMatrix(test_data, label=test_label)"
   ]
  },
  {
   "cell_type": "code",
   "execution_count": 26,
   "metadata": {},
   "outputs": [],
   "source": [
    "params = {'max_depth': 2, 'eta': 1, 'objective': 'binary:logistic', 'nthread': 4, 'eval_metric': 'auc'}\n",
    "booster = xgb.train(params, dtrain)"
   ]
  },
  {
   "cell_type": "code",
   "execution_count": 27,
   "metadata": {},
   "outputs": [],
   "source": [
    "predictions = booster.predict(dtest)"
   ]
  },
  {
   "cell_type": "code",
   "execution_count": 41,
   "metadata": {},
   "outputs": [],
   "source": [
    "result = pd.DataFrame([modelo.test_data[label].values, predictions]).T\n",
    "result.columns = [\"real\", \"pred\"]\n",
    "result[\"label\"] = result[\"pred\"].map(lambda x: x > 0.5)\n",
    "result[\"ok\"] = (result[\"real\"] == result[\"label\"])"
   ]
  },
  {
   "cell_type": "code",
   "execution_count": 42,
   "metadata": {},
   "outputs": [
    {
     "data": {
      "text/plain": [
       "True     57212\n",
       "False     2788\n",
       "Name: ok, dtype: int64"
      ]
     },
     "execution_count": 42,
     "metadata": {},
     "output_type": "execute_result"
    }
   ],
   "source": [
    "result[\"ok\"].value_counts()"
   ]
  },
  {
   "cell_type": "code",
   "execution_count": 44,
   "metadata": {},
   "outputs": [
    {
     "data": {
      "image/png": "[encoded data removed]",
      "text/plain": [
       "<Figure size 432x288 with 1 Axes>"
      ]
     },
     "metadata": {
      "needs_background": "light"
     },
     "output_type": "display_data"
    }
   ],
   "source": [
    "plot = xgb.plot_importance(booster)"
   ]
  }
 ],
 "metadata": {
  "kernelspec": {
   "display_name": "Python 3",
   "language": "python",
   "name": "python3"
  },
  "language_info": {
   "codemirror_mode": {
    "name": "ipython",
    "version": 3
   },
   "file_extension": ".py",
   "mimetype": "text/x-python",
   "name": "python",
   "nbconvert_exporter": "python",
   "pygments_lexer": "ipython3",
   "version": "3.6.8"
  }
 },
 "nbformat": 4,
 "nbformat_minor": 4
}

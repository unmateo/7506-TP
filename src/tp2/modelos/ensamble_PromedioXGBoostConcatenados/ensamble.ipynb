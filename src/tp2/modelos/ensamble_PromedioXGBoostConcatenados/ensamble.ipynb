{
 "cells": [
  {
   "cell_type": "code",
   "execution_count": 1,
   "metadata": {},
   "outputs": [],
   "source": [
    "import os\n",
    "import sys\n",
    "this = os.getcwd()\n",
    "path = this[:this.rfind(\"/\")]\n",
    "if not path in sys.path: sys.path.append(path)\n",
    "xgboost_path = path + \"/xgboost_regressor\"\n",
    "promedios_path = path + \"/promedio_zona\"\n",
    "\n",
    "import pandas as pd\n",
    "import matplotlib\n",
    "from datos import FEATURES_DISPONIBLES\n",
    "from modelo import Modelo\n",
    "\n",
    "pd.set_option('display.max_columns', 100)\n",
    "pd.set_option('display.float_format', lambda x: '%.3f' % x)"
   ]
  },
  {
   "cell_type": "code",
   "execution_count": 2,
   "metadata": {},
   "outputs": [],
   "source": [
    "from xgboost_regressor.xgboost_predictor import XGBoostRegressor\n",
    "from promedio_zona.promedio_zona import PromedioZona"
   ]
  },
  {
   "cell_type": "code",
   "execution_count": 3,
   "metadata": {},
   "outputs": [],
   "source": [
    "class EnsamblePromedioXGBoostConcatenados(XGBoostRegressor):\n",
    "    \"\"\"\n",
    "        Usa el resultado de las predicciones del modelo PromedioZona\n",
    "        para entrenar y predecir con un XGBoostRegressor.\n",
    "    \"\"\"\n",
    "    \n",
    "    \n",
    "    @Modelo.cronometrar()\n",
    "    def __init__(self):\n",
    "        self.modelo_promedios = PromedioZona()\n",
    "        super().__init__()        \n",
    "        \n",
    "    @Modelo.cronometrar()\n",
    "    def cargar_datos(self):\n",
    "        self.modelo_promedios.cargar_datos()\n",
    "        super().cargar_datos()\n",
    "    \n",
    "    @Modelo.cronometrar()\n",
    "    def entrenar(self):\n",
    "        self.modelo_promedios.entrenar()\n",
    "        predicciones_train =  self.modelo_promedios.predecir(self.modelo_promedios.train_data)\n",
    "        predicciones_test = self.modelo_promedios.predecir(self.modelo_promedios.test_data)\n",
    "        predicciones_submit = self.modelo_promedios.predecir(self.modelo_promedios.submit_data)\n",
    "        self.train_data['prediccion_promedios'] = predicciones_train['target']\n",
    "        self.test_data['prediccion_promedios'] = predicciones_test['target']\n",
    "        self.submit_data['prediccion_promedios'] = predicciones_submit['target']\n",
    "        super().entrenar()\n"
   ]
  },
  {
   "cell_type": "code",
   "execution_count": 5,
   "metadata": {},
   "outputs": [
    {
     "name": "stdout",
     "output_type": "stream",
     "text": [
      "instanciar demoro 0.0 segundos\n",
      "instanciar demoro 0.0 segundos\n",
      "__init__ demoro 0.0 segundos\n"
     ]
    }
   ],
   "source": [
    "ensamble = EnsamblePromedioXGBoostConcatenados()"
   ]
  },
  {
   "cell_type": "code",
   "execution_count": 6,
   "metadata": {},
   "outputs": [
    {
     "name": "stdout",
     "output_type": "stream",
     "text": [
      "cargar demoro 1.35 segundos\n",
      "cargar demoro 62.45 segundos\n",
      "cargar_datos demoro 67.64 segundos\n"
     ]
    }
   ],
   "source": [
    "ensamble.cargar_datos()"
   ]
  },
  {
   "cell_type": "code",
   "execution_count": 7,
   "metadata": {},
   "outputs": [
    {
     "name": "stdout",
     "output_type": "stream",
     "text": [
      "entrenar demoro 0.0 segundos\n",
      "entrenar demoro 0.15 segundos\n",
      "predecir demoro 20.71 segundos\n",
      "predecir demoro 7.16 segundos\n",
      "predecir demoro 7.21 segundos\n",
      "[21:53:57] WARNING: /workspace/src/objective/regression_obj.cu:152: reg:linear is now deprecated in favor of reg:squarederror.\n",
      "entrenar demoro 0.0 segundos\n",
      "entrenar demoro 286.01 segundos\n",
      "entrenar demoro 321.25 segundos\n"
     ]
    }
   ],
   "source": [
    "ensamble.entrenar()"
   ]
  },
  {
   "cell_type": "code",
   "execution_count": 8,
   "metadata": {},
   "outputs": [
    {
     "name": "stdout",
     "output_type": "stream",
     "text": [
      "predecir demoro 3.02 segundos\n",
      "puntuar demoro 0.0 segundos\n",
      "validar demoro 3.03 segundos\n"
     ]
    },
    {
     "data": {
      "text/plain": [
       "624058.0"
      ]
     },
     "execution_count": 8,
     "metadata": {},
     "output_type": "execute_result"
    }
   ],
   "source": [
    "ensamble.validar()"
   ]
  },
  {
   "cell_type": "code",
   "execution_count": 9,
   "metadata": {},
   "outputs": [
    {
     "name": "stdout",
     "output_type": "stream",
     "text": [
      "predecir demoro 3.09 segundos\n"
     ]
    }
   ],
   "source": [
    "predicciones = ensamble.predecir(ensamble.submit_data)"
   ]
  },
  {
   "cell_type": "code",
   "execution_count": 10,
   "metadata": {},
   "outputs": [
    {
     "name": "stdout",
     "output_type": "stream",
     "text": [
      "guardar demoro 0.13 segundos\n"
     ]
    },
    {
     "name": "stderr",
     "output_type": "stream",
     "text": [
      "100%|██████████| 968k/968k [00:04<00:00, 203kB/s]  \n"
     ]
    },
    {
     "name": "stdout",
     "output_type": "stream",
     "text": [
      "submit demoro 7.01 segundos\n",
      "presentar demoro 7.14 segundos\n"
     ]
    }
   ],
   "source": [
    "comentario = \"ensamble promedios + xgboost (concatenados) - con analisis de titulo y descripcion - score local 624058\"\n",
    "ensamble.presentar(predicciones, comentario)"
   ]
  }
 ],
 "metadata": {
  "kernelspec": {
   "display_name": "Python 3",
   "language": "python",
   "name": "python3"
  },
  "language_info": {
   "codemirror_mode": {
    "name": "ipython",
    "version": 3
   },
   "file_extension": ".py",
   "mimetype": "text/x-python",
   "name": "python",
   "nbconvert_exporter": "python",
   "pygments_lexer": "ipython3",
   "version": "3.6.8"
  }
 },
 "nbformat": 4,
 "nbformat_minor": 4
}

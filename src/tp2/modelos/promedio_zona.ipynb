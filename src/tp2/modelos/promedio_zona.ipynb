{
 "cells": [
  {
   "cell_type": "code",
   "execution_count": 1,
   "metadata": {},
   "outputs": [],
   "source": [
    "import os\n",
    "import sys\n",
    "this = os.getcwd()\n",
    "path = this[:this.rfind(\"/\")]\n",
    "if not path in sys.path: sys.path.append(path)\n",
    "from modelo import Modelo"
   ]
  },
  {
   "cell_type": "code",
   "execution_count": 2,
   "metadata": {},
   "outputs": [],
   "source": [
    "descripcion = \"\"\"\n",
    "    Calculamos el precio promedio por metro cubierto y metro total\n",
    "    para cada zona. Asignamos ese precio en caso de tener zona, o\n",
    "    el promedio general en caso de no tenerlo.\n",
    "\"\"\"\n",
    "\n",
    "class PromedioZona(Modelo):\n",
    "    \n",
    "    \n",
    "    \n",
    "    def entrenar(self):\n",
    "        super().entrenar()\n",
    "        grouped = modelo.train_data.groupby([\"idzona\"]).agg({\"id\": \"count\", \"precio_metro_cubierto\":\"mean\", \"precio_metro_total\":\"mean\"})\n",
    "        grouped.index = grouped.index.astype(int)\n",
    "        suficientes_datos = grouped.loc[grouped[\"id\"] > 5].drop(columns=[\"id\"])\n",
    "        self.predicciones = suficientes_datos.to_dict(orient=\"index\")\n",
    "        self.promedio_cubiertos = suficientes_datos[\"precio_metro_cubierto\"].mean()\n",
    "        self.promedio_totales = suficientes_datos[\"precio_metro_total\"].mean()\n",
    "        promedio_general = (self.promedio_cubiertos + self.promedio_totales) / 2\n",
    "        metros_general = self.train_data[\"metroscubiertos\"].mean()\n",
    "        self.prediccion_default = metros_general * promedio_general\n",
    "    \n",
    "    def predecir(self, datos):\n",
    "        prediccion = lambda publicacion: self.predecir_publicacion(publicacion)\n",
    "        datos[\"target\"] = datos.apply(prediccion, axis=\"columns\")\n",
    "        return datos\n",
    "\n",
    "    def predecir_publicacion(self, publicacion):\n",
    "        \"\"\"\n",
    "            \n",
    "        \n",
    "        \"\"\"\n",
    "        if not self.entrenado:\n",
    "            raise Exception(\"No se ha entrenado.\")\n",
    "        zona = publicacion[\"idzona\"]\n",
    "        cubiertos = publicacion[\"metroscubiertos\"]\n",
    "        totales = publicacion[\"metrostotales\"]\n",
    "        predicciones_zona = self.predicciones.get(zona)\n",
    "        if not predicciones_zona:\n",
    "            if totales > 0:\n",
    "                return self.promedio_totales * totales\n",
    "            if cubiertos > 0:\n",
    "                return self.promedio_cubiertos * cubiertos\n",
    "            return self.prediccion_default\n",
    "\n",
    "        prediccion_totales = predicciones_zona.get(\"precio_metro_total\")\n",
    "        if totales > 0 and prediccion_totales > 0:\n",
    "            return totales * prediccion_totales\n",
    "\n",
    "        prediccion_cubiertos = predicciones_zona.get(\"precio_metro_cubierto\")\n",
    "        if cubiertos > 0 and prediccion_cubiertos > 0:\n",
    "            return cubiertos * prediccion_cubiertos\n",
    "\n",
    "        if totales > 0:\n",
    "            return totales * self.promedio_totales\n",
    "\n",
    "        if cubiertos > 0:\n",
    "            return cubiertos * self.promedio_cubiertos\n",
    "\n",
    "        return self.prediccion_default\n",
    "            "
   ]
  },
  {
   "cell_type": "code",
   "execution_count": 3,
   "metadata": {},
   "outputs": [
    {
     "data": {
      "text/plain": [
       "907975.8304731217"
      ]
     },
     "execution_count": 3,
     "metadata": {},
     "output_type": "execute_result"
    }
   ],
   "source": [
    "modelo = PromedioZona(descripcion)\n",
    "modelo.entrenar()\n",
    "modelo.validar()\n",
    "# modelo.presentar()"
   ]
  }
 ],
 "metadata": {
  "kernelspec": {
   "display_name": "Python 3",
   "language": "python",
   "name": "python3"
  },
  "language_info": {
   "codemirror_mode": {
    "name": "ipython",
    "version": 3
   },
   "file_extension": ".py",
   "mimetype": "text/x-python",
   "name": "python",
   "nbconvert_exporter": "python",
   "pygments_lexer": "ipython3",
   "version": "3.6.8"
  }
 },
 "nbformat": 4,
 "nbformat_minor": 4
}

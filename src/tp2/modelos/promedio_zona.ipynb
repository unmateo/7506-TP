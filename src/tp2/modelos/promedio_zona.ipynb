{
 "cells": [
  {
   "cell_type": "code",
   "execution_count": 1,
   "metadata": {},
   "outputs": [],
   "source": [
    "import os\n",
    "import sys\n",
    "this = os.getcwd()\n",
    "path = this[:this.rfind(\"/\")]\n",
    "if not path in sys.path: sys.path.append(path)\n",
    "from modelo import Modelo"
   ]
  },
  {
   "cell_type": "code",
   "execution_count": 2,
   "metadata": {},
   "outputs": [],
   "source": [
    "descripcion = \"\"\"\n",
    "    Calculamos el precio promedio por metro cubierto y metro total\n",
    "    para cada zona. Asignamos ese precio en caso de tener zona, o\n",
    "    el promedio general en caso de no tenerlo.\n",
    "\"\"\"\n",
    "\n",
    "class PromedioZona(Modelo):\n",
    "    \n",
    "    \n",
    "    \n",
    "    def entrenar(self):\n",
    "        super().entrenar()\n",
    "        self.test = self.test[[\"id\",\"idzona\", \"metroscubiertos\", \"metrostotales\"]]\n",
    "        self.train[\"promedio_cubiertos\"] = self.train[\"precio\"] / self.train[\"metroscubiertos\"]\n",
    "        self.train[\"promedio_totales\"] = self.train[\"precio\"] / self.train[\"metrostotales\"]\n",
    "        grouped = modelo.train.groupby([\"idzona\"]).agg({\"id\": \"count\", \"promedio_cubiertos\": \"mean\", \"promedio_totales\": \"mean\"})\n",
    "        grouped.index = grouped.index.astype(int)\n",
    "        suficientes_datos = grouped.loc[grouped[\"id\"] > 5].drop(columns=[\"id\"])\n",
    "        self.predicciones = suficientes_datos.to_dict(orient=\"index\")\n",
    "        self.promedio_cubiertos = suficientes_datos[\"promedio_cubiertos\"].mean()\n",
    "        self.promedio_totales = suficientes_datos[\"promedio_totales\"].mean()\n",
    "        promedio_general = (self.promedio_cubiertos + self.promedio_totales) / 2\n",
    "        metros_general = self.train[\"metroscubiertos\"].mean()\n",
    "        self.prediccion_default = metros_general * promedio_general\n",
    "    \n",
    "    def predecir(self):\n",
    "        prediccion = lambda publicacion: self.predecir_publicacion(publicacion)\n",
    "        self.test[\"prediccion\"] = self.test.apply(prediccion, axis=\"columns\")\n",
    "        #import pdb; pdb.set_trace()\n",
    "        self.resultados = self.test[[\"id\", \"prediccion\"]].set_index(\"id\")\n",
    "        return True\n",
    "\n",
    "    def predecir_publicacion(self, publicacion):\n",
    "        \"\"\"\n",
    "            \n",
    "        \n",
    "        \"\"\"\n",
    "        if not self.entrenado:\n",
    "            raise Exception(\"No se ha entrenado.\")\n",
    "        zona = publicacion[\"idzona\"]\n",
    "        cubiertos = publicacion[\"metroscubiertos\"]\n",
    "        totales = publicacion[\"metrostotales\"]\n",
    "        predicciones_zona = self.predicciones.get(zona)\n",
    "        \n",
    "        if not predicciones_zona:\n",
    "            if totales > 0:\n",
    "                return self.promedio_totales * totales\n",
    "            if cubiertos > 0:\n",
    "                return self.promedio_cubiertos * cubiertos\n",
    "            return self.prediccion_default\n",
    "        \n",
    "        prediccion_totales = predicciones_zona.get(\"promedio_totales\")\n",
    "        if totales > 0 and prediccion_totales > 0:\n",
    "            return totales * prediccion_totales\n",
    "        \n",
    "        prediccion_cubiertos = predicciones_zona.get(\"promedio_cubiertos\")\n",
    "        if cubiertos > 0 and prediccion_cubiertos > 0:\n",
    "            return cubiertos * prediccion_cubiertos\n",
    "        \n",
    "        if totales > 0:\n",
    "            return totales * self.promedio_totales\n",
    "        \n",
    "        if cubiertos > 0:\n",
    "            return cubiertos * self.promedios_cubiertos\n",
    "        \n",
    "        return self.prediccion_default\n",
    "            "
   ]
  },
  {
   "cell_type": "code",
   "execution_count": 3,
   "metadata": {},
   "outputs": [
    {
     "data": {
      "text/plain": [
       "True"
      ]
     },
     "execution_count": 3,
     "metadata": {},
     "output_type": "execute_result"
    }
   ],
   "source": [
    "modelo = PromedioZona(descripcion)\n",
    "modelo.entrenar()\n",
    "modelo.predecir()\n",
    "modelo.validar()\n",
    "modelo.presentar()"
   ]
  },
  {
   "cell_type": "code",
   "execution_count": 7,
   "metadata": {},
   "outputs": [
    {
     "data": {
      "text/html": [
       "<div>\n",
       "<style scoped>\n",
       "    .dataframe tbody tr th:only-of-type {\n",
       "        vertical-align: middle;\n",
       "    }\n",
       "\n",
       "    .dataframe tbody tr th {\n",
       "        vertical-align: top;\n",
       "    }\n",
       "\n",
       "    .dataframe thead th {\n",
       "        text-align: right;\n",
       "    }\n",
       "</style>\n",
       "<table border=\"1\" class=\"dataframe\">\n",
       "  <thead>\n",
       "    <tr style=\"text-align: right;\">\n",
       "      <th></th>\n",
       "      <th>prediccion</th>\n",
       "    </tr>\n",
       "    <tr>\n",
       "      <th>id</th>\n",
       "      <th></th>\n",
       "    </tr>\n",
       "  </thead>\n",
       "  <tbody>\n",
       "    <tr>\n",
       "      <th>4941</th>\n",
       "      <td>3.586459e+06</td>\n",
       "    </tr>\n",
       "    <tr>\n",
       "      <th>51775</th>\n",
       "      <td>7.559134e+05</td>\n",
       "    </tr>\n",
       "    <tr>\n",
       "      <th>115253</th>\n",
       "      <td>2.356975e+06</td>\n",
       "    </tr>\n",
       "    <tr>\n",
       "      <th>299321</th>\n",
       "      <td>1.562448e+06</td>\n",
       "    </tr>\n",
       "    <tr>\n",
       "      <th>173570</th>\n",
       "      <td>1.169748e+06</td>\n",
       "    </tr>\n",
       "  </tbody>\n",
       "</table>\n",
       "</div>"
      ],
      "text/plain": [
       "          prediccion\n",
       "id                  \n",
       "4941    3.586459e+06\n",
       "51775   7.559134e+05\n",
       "115253  2.356975e+06\n",
       "299321  1.562448e+06\n",
       "173570  1.169748e+06"
      ]
     },
     "execution_count": 7,
     "metadata": {},
     "output_type": "execute_result"
    }
   ],
   "source": [
    "modelo.resultados.head()"
   ]
  },
  {
   "cell_type": "code",
   "execution_count": 8,
   "metadata": {},
   "outputs": [],
   "source": [
    "modelo.resultados.to_csv(\"test.csv\", header=[\"target\"])"
   ]
  }
 ],
 "metadata": {
  "kernelspec": {
   "display_name": "Python 3",
   "language": "python",
   "name": "python3"
  },
  "language_info": {
   "codemirror_mode": {
    "name": "ipython",
    "version": 3
   },
   "file_extension": ".py",
   "mimetype": "text/x-python",
   "name": "python",
   "nbconvert_exporter": "python",
   "pygments_lexer": "ipython3",
   "version": "3.6.8"
  }
 },
 "nbformat": 4,
 "nbformat_minor": 4
}

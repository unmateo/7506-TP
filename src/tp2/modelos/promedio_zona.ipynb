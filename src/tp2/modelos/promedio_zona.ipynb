{
 "cells": [
  {
   "cell_type": "code",
   "execution_count": 1,
   "metadata": {},
   "outputs": [],
   "source": [
    "import os\n",
    "import sys\n",
    "this = os.getcwd()\n",
    "path = this[:this.rfind(\"/\")]\n",
    "if not path in sys.path: sys.path.append(path)\n",
    "from modelo import Modelo"
   ]
  },
  {
   "cell_type": "code",
   "execution_count": 2,
   "metadata": {},
   "outputs": [],
   "source": [
    "class PromedioZona(Modelo):\n",
    "    \"\"\"\n",
    "        Calculamos el precio promedio por metro cubierto y metro total\n",
    "        para cada zona. Asignamos ese precio en caso de tener zona, o\n",
    "        el promedio general en caso de no tenerlo.\n",
    "    \"\"\"\n",
    "    \n",
    "    @Modelo.cronometrar()\n",
    "    def entrenar(self):\n",
    "        super().entrenar()\n",
    "        predicciones_por_zona = self._promedio_por_feature(self.train_data, \"idzona\")\n",
    "        predicciones_por_ciudad = self._promedio_por_feature(self.train_data, \"ciudad\")\n",
    "        predicciones_por_provincia = self._promedio_por_feature(self.train_data, \"provincia\")\n",
    "        self.predicciones = [\n",
    "            (\"idzona\", predicciones_por_zona),\n",
    "            (\"ciudad\", predicciones_por_ciudad),\n",
    "            (\"provincia\", predicciones_por_provincia),\n",
    "        ]\n",
    "        self.promedio_cubiertos = self.train_data[\"precio_metro_cubierto\"].mean()\n",
    "        self.promedio_totales = self.train_data[\"precio_metro_total\"].mean()\n",
    "        promedio_general = (self.promedio_cubiertos + self.promedio_totales) / 2\n",
    "        metros_general = self.train_data[\"metroscubiertos\"].mean()\n",
    "        self.prediccion_default = metros_general * promedio_general\n",
    "    \n",
    "    @Modelo.cronometrar()\n",
    "    def predecir(self, datos):\n",
    "        \"\"\"\n",
    "            Aplica predecir_publicacion a cada fila del df que recibe.\n",
    "            Asigna el resultado en la columna 'target'\n",
    "        \"\"\"\n",
    "        prediccion = lambda publicacion: self.predecir_publicacion(publicacion)\n",
    "        datos[\"target\"] = datos.apply(prediccion, axis=\"columns\")\n",
    "        return datos\n",
    "\n",
    "    def predecir_publicacion(self, publicacion):\n",
    "        \"\"\" Predice el precio de una publicacion en base a los\n",
    "            promedios de los siguientes campos, en orden de prioridad:\n",
    "                - idzona\n",
    "                - ciudad\n",
    "                - provincia\n",
    "                - general\n",
    "        \"\"\"\n",
    "        if not self.entrenado:\n",
    "            raise Exception(\"No se ha entrenado.\")\n",
    "        cubiertos = publicacion[\"metroscubiertos\"]\n",
    "        totales = publicacion[\"metrostotales\"]\n",
    "        for feature, predicciones in self.predicciones:\n",
    "            predicciones_feature = predicciones.get(publicacion[feature])\n",
    "            prediccion = self._predecir_por_feature(predicciones_feature, totales, cubiertos)\n",
    "            if prediccion: return prediccion\n",
    "        return self.prediccion_default\n",
    "    \n",
    "    def _promedio_por_feature(self, df, feature, minimas_apariciones=5):\n",
    "        \"\"\" Recibe un df y uno de sus features.\n",
    "            Agrupa por ese feature.\n",
    "            Calcula promedios de precio para cada grupo.\n",
    "            Devuelve los resultados en un diccionario.\n",
    "        \"\"\"\n",
    "        calculos = {\n",
    "            \"id\": \"count\",\n",
    "            \"precio_metro_cubierto\": \"mean\",\n",
    "            \"precio_metro_total\": \"mean\",\n",
    "        }\n",
    "        por_feature = df.groupby([feature]).agg(calculos)\n",
    "        suficientes_datos = por_feature.loc[por_feature[\"id\"] > minimas_apariciones].drop(columns=[\"id\"])\n",
    "        return suficientes_datos.to_dict(orient=\"index\")\n",
    "    \n",
    "    def _predecir_por_feature(self, predicciones, totales, cubiertos):\n",
    "        \"\"\"\n",
    "        \n",
    "        \"\"\"\n",
    "        if not predicciones:\n",
    "            return None\n",
    "        \n",
    "        prediccion_totales = predicciones.get(\"precio_metro_total\")\n",
    "        if totales > 0 and prediccion_totales > 0:\n",
    "            return totales * prediccion_totales\n",
    "\n",
    "        prediccion_cubiertos = predicciones.get(\"precio_metro_cubierto\")\n",
    "        if cubiertos > 0 and prediccion_cubiertos > 0:\n",
    "            return cubiertos * prediccion_cubiertos      \n",
    "\n",
    "        if prediccion_totales > 0:\n",
    "            return self.promedio_totales * prediccion_totales\n",
    "\n",
    "        if prediccion_cubiertos > 0:\n",
    "            return self.promedio_cubiertos * prediccion_cubiertos\n",
    "\n",
    "        return None\n",
    "            "
   ]
  },
  {
   "cell_type": "code",
   "execution_count": 3,
   "metadata": {},
   "outputs": [
    {
     "name": "stdout",
     "output_type": "stream",
     "text": [
      "instanciar demoro 22.58 segundos\n"
     ]
    }
   ],
   "source": [
    "modelo = PromedioZona()"
   ]
  },
  {
   "cell_type": "code",
   "execution_count": 4,
   "metadata": {},
   "outputs": [
    {
     "name": "stdout",
     "output_type": "stream",
     "text": [
      "entrenar demoro 0.0 segundos\n",
      "entrenar demoro 0.08 segundos\n"
     ]
    }
   ],
   "source": [
    "modelo.entrenar()"
   ]
  },
  {
   "cell_type": "code",
   "execution_count": 5,
   "metadata": {},
   "outputs": [
    {
     "name": "stdout",
     "output_type": "stream",
     "text": [
      "predecir demoro 6.78 segundos\n",
      "puntuar demoro 0.0 segundos\n",
      "validar demoro 6.78 segundos\n"
     ]
    },
    {
     "data": {
      "text/plain": [
       "855428.1439526522"
      ]
     },
     "execution_count": 5,
     "metadata": {},
     "output_type": "execute_result"
    }
   ],
   "source": [
    "modelo.validar()"
   ]
  },
  {
   "cell_type": "code",
   "execution_count": 10,
   "metadata": {},
   "outputs": [
    {
     "data": {
      "text/plain": [
       "True"
      ]
     },
     "execution_count": 10,
     "metadata": {},
     "output_type": "execute_result"
    }
   ],
   "source": [
    "comentario = \"Despues de usar datos de ciudad y provincia\"\n",
    "modelo.presentar(predicciones, comentario)"
   ]
  },
  {
   "cell_type": "code",
   "execution_count": null,
   "metadata": {},
   "outputs": [],
   "source": [
    "modelo.buscar_score(comentario)"
   ]
  }
 ],
 "metadata": {
  "kernelspec": {
   "display_name": "Python 3",
   "language": "python",
   "name": "python3"
  },
  "language_info": {
   "codemirror_mode": {
    "name": "ipython",
    "version": 3
   },
   "file_extension": ".py",
   "mimetype": "text/x-python",
   "name": "python",
   "nbconvert_exporter": "python",
   "pygments_lexer": "ipython3",
   "version": "3.6.8"
  }
 },
 "nbformat": 4,
 "nbformat_minor": 4
}

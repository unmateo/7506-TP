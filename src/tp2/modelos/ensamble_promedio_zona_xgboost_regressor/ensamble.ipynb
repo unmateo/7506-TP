{
 "cells": [
  {
   "cell_type": "code",
   "execution_count": 1,
   "metadata": {},
   "outputs": [],
   "source": [
    "import os\n",
    "import sys\n",
    "this = os.getcwd()\n",
    "path = this[:this.rfind(\"/\")]\n",
    "if not path in sys.path: sys.path.append(path)\n",
    "xgboost_path = path + \"/xgboost_regressor\"\n",
    "promedios_path = path + \"/promedio_zona\"\n",
    "\n",
    "import pandas as pd\n",
    "import matplotlib\n",
    "from datos import FEATURES_DISPONIBLES\n",
    "from modelo import Modelo\n",
    "\n",
    "pd.set_option('display.max_columns', 100)\n",
    "pd.set_option('display.float_format', lambda x: '%.3f' % x)"
   ]
  },
  {
   "cell_type": "code",
   "execution_count": 2,
   "metadata": {},
   "outputs": [],
   "source": [
    "from xgboost_regressor.xgboost_predictor import XGBoostRegressor\n",
    "from promedio_zona.promedio_zona import PromedioZona"
   ]
  },
  {
   "cell_type": "code",
   "execution_count": 3,
   "metadata": {},
   "outputs": [],
   "source": [
    "class EnsamblePromedioXGBoost(Modelo):\n",
    "    \"\"\"\n",
    "        En principio, voy a poner un promedio de ambas predicciones.\n",
    "    \"\"\"\n",
    "    \n",
    "    @Modelo.cronometrar()\n",
    "    def __init__(self):\n",
    "        self.modelo_promedios = PromedioZona()\n",
    "        self.modelo_xgboost = XGBoostRegressor()\n",
    "        super().__init__()\n",
    "\n",
    "    @Modelo.cronometrar()\n",
    "    def cargar_datos(self):\n",
    "        self.modelo_promedios.cargar_datos()\n",
    "        self.modelo_xgboost.cargar_datos()\n",
    "        self.cargado = True\n",
    "    \n",
    "    @Modelo.cronometrar()\n",
    "    def entrenar(self):\n",
    "        self.modelo_promedios.entrenar()\n",
    "        self.modelo_xgboost.entrenar()\n",
    "        super().entrenar()\n",
    "    \n",
    "    @Modelo.cronometrar()\n",
    "    def validar(self):\n",
    "        validacion_promedios = self.modelo_promedios.validar()\n",
    "        validacion_xgboost = self.modelo_xgboost.validar()\n",
    "        score = (validacion_promedios + validacion_xgboost) / 2\n",
    "        self.resultado_validacion = score\n",
    "        self.validado = True\n",
    "        \n",
    "    @Modelo.cronometrar()\n",
    "    def predecir_submit(self):\n",
    "        prediccion_promedios = self.modelo_promedios.predecir(self.modelo_promedios.submit_data)\n",
    "        prediccion_xgboost = self.modelo_xgboost.predecir(self.modelo_xgboost.submit_data)\n",
    "        predicciones = prediccion_promedios[['target']].join(prediccion_xgboost[['target']], lsuffix='_promedio', rsuffix='_xgboost')\n",
    "        predicciones['target'] = predicciones.mean(axis='columns')\n",
    "        return predicciones"
   ]
  },
  {
   "cell_type": "code",
   "execution_count": 4,
   "metadata": {},
   "outputs": [
    {
     "name": "stdout",
     "output_type": "stream",
     "text": [
      "instanciar demoro 0.0 segundos\n",
      "instanciar demoro 0.0 segundos\n",
      "instanciar demoro 0.0 segundos\n",
      "__init__ demoro 0.0 segundos\n"
     ]
    }
   ],
   "source": [
    "ensamble = EnsamblePromedioXGBoost()"
   ]
  },
  {
   "cell_type": "code",
   "execution_count": 5,
   "metadata": {},
   "outputs": [
    {
     "name": "stdout",
     "output_type": "stream",
     "text": [
      "cargar demoro 1.3 segundos\n",
      "cargar demoro 1.58 segundos\n",
      "cargar_datos demoro 6.88 segundos\n"
     ]
    }
   ],
   "source": [
    "ensamble.cargar_datos()"
   ]
  },
  {
   "cell_type": "code",
   "execution_count": 6,
   "metadata": {},
   "outputs": [
    {
     "name": "stdout",
     "output_type": "stream",
     "text": [
      "entrenar demoro 0.0 segundos\n",
      "entrenar demoro 0.15 segundos\n",
      "[15:51:01] WARNING: /workspace/src/objective/regression_obj.cu:152: reg:linear is now deprecated in favor of reg:squarederror.\n",
      "entrenar demoro 0.0 segundos\n",
      "entrenar demoro 294.62 segundos\n",
      "entrenar demoro 294.77 segundos\n"
     ]
    }
   ],
   "source": [
    "ensamble.entrenar()"
   ]
  },
  {
   "cell_type": "code",
   "execution_count": null,
   "metadata": {},
   "outputs": [],
   "source": [
    "ensamble.validar()"
   ]
  },
  {
   "cell_type": "code",
   "execution_count": null,
   "metadata": {},
   "outputs": [],
   "source": [
    "predicciones = ensamble.predecir_submit()"
   ]
  },
  {
   "cell_type": "code",
   "execution_count": 22,
   "metadata": {},
   "outputs": [
    {
     "name": "stdout",
     "output_type": "stream",
     "text": [
      "guardar demoro 0.15 segundos\n"
     ]
    },
    {
     "name": "stderr",
     "output_type": "stream",
     "text": [
      "100%|██████████| 1.35M/1.35M [00:05<00:00, 256kB/s] \n"
     ]
    },
    {
     "name": "stdout",
     "output_type": "stream",
     "text": [
      "submit demoro 8.14 segundos\n",
      "presentar demoro 8.29 segundos\n"
     ]
    }
   ],
   "source": [
    "comentario = \"test ensamble promedios + xgboost\"\n",
    "ensamble.presentar(predicciones, comentario)"
   ]
  }
 ],
 "metadata": {
  "kernelspec": {
   "display_name": "Python 3",
   "language": "python",
   "name": "python3"
  },
  "language_info": {
   "codemirror_mode": {
    "name": "ipython",
    "version": 3
   },
   "file_extension": ".py",
   "mimetype": "text/x-python",
   "name": "python",
   "nbconvert_exporter": "python",
   "pygments_lexer": "ipython3",
   "version": "3.6.8"
  }
 },
 "nbformat": 4,
 "nbformat_minor": 4
}

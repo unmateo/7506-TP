{
 "cells": [
  {
   "cell_type": "code",
   "execution_count": 1,
   "metadata": {},
   "outputs": [],
   "source": [
    "import os\n",
    "import sys\n",
    "this = os.getcwd()\n",
    "path = this[:this.rfind(\"/\")]\n",
    "if not path in sys.path: sys.path.append(path)\n",
    "xgboost_path = path + \"/xgboost_regressor\"\n",
    "promedios_path = path + \"/promedio_zona\"\n",
    "\n",
    "import pandas as pd\n",
    "import matplotlib\n",
    "from datos import FEATURES_DISPONIBLES\n",
    "from modelo import Modelo\n",
    "\n",
    "pd.set_option('display.max_columns', 100)\n",
    "pd.set_option('display.float_format', lambda x: '%.3f' % x)"
   ]
  },
  {
   "cell_type": "code",
   "execution_count": 2,
   "metadata": {},
   "outputs": [],
   "source": [
    "from xgboost_regressor.xgboost_predictor import XGBoostRegressor\n",
    "from promedio_zona.promedio_zona import PromedioZona"
   ]
  },
  {
   "cell_type": "code",
   "execution_count": 11,
   "metadata": {},
   "outputs": [],
   "source": [
    "class EnsamblePromedioXGBoost(Modelo):\n",
    "    \"\"\"\n",
    "        En principio, voy a poner un promedio de ambas predicciones.\n",
    "    \"\"\"\n",
    "    \n",
    "    @Modelo.cronometrar()\n",
    "    def __init__(self):\n",
    "        self.modelo_promedios = PromedioZona()\n",
    "        self.modelo_xgboost = XGBoostRegressor()\n",
    "        super().__init__()\n",
    "\n",
    "    @Modelo.cronometrar()\n",
    "    def cargar_datos(self):\n",
    "        self.modelo_promedios.cargar_datos()\n",
    "        self.modelo_xgboost.cargar_datos()\n",
    "        self.cargado = True\n",
    "    \n",
    "    @Modelo.cronometrar()\n",
    "    def entrenar(self):\n",
    "        self.modelo_promedios.entrenar()\n",
    "        self.modelo_xgboost.entrenar()\n",
    "        super().entrenar()\n",
    "    \n",
    "    @Modelo.cronometrar()\n",
    "    def validar(self):\n",
    "        \"\"\"\n",
    "        \"\"\"\n",
    "        predicciones = self.predecir('test')\n",
    "        score = self.puntuar(predicciones[self.feature], predicciones[\"target\"])\n",
    "        self.resultado_validacion = score\n",
    "        self.validado = True\n",
    "        return score\n",
    "\n",
    "    @Modelo.cronometrar()\n",
    "    def predecir(self, cual):\n",
    "        \"\"\"\n",
    "            cual: {'test', 'submit'}\n",
    "        \"\"\"\n",
    "        sets_disponibles  = {\n",
    "            \"test\": {\n",
    "                \"promedios\": self.modelo_promedios.test_data,\n",
    "                \"xgboost\": self.modelo_xgboost.test_data\n",
    "            },\n",
    "            \"submit\": {\n",
    "                \"promedios\": self.modelo_promedios.submit_data,\n",
    "                \"xgboost\": self.modelo_xgboost.submit_data\n",
    "            }\n",
    "        }\n",
    "        if cual not in sets_disponibles: raise Exception('No puedo predecir eso')\n",
    "        \n",
    "        columnas = [self.feature, 'target']\n",
    "        prediccion_promedios = self.modelo_promedios.predecir(sets_disponibles.get(cual).get('promedios'))[columnas]\n",
    "        prediccion_xgboost = self.modelo_xgboost.predecir(sets_disponibles.get(cual).get('xgboost'))[columnas]\n",
    "        predicciones = prediccion_promedios.join(prediccion_xgboost, lsuffix='_promedio', rsuffix='_xgboost')\n",
    "        predicciones['target'] = predicciones[['target_promedio', 'target_xgboost']].mean(axis='columns')\n",
    "        predicciones[self.feature] = predicciones[[self.feature+'_promedio', self.feature+'_xgboost']].mean(axis='columns')\n",
    "        return predicciones    \n"
   ]
  },
  {
   "cell_type": "code",
   "execution_count": 12,
   "metadata": {},
   "outputs": [
    {
     "name": "stdout",
     "output_type": "stream",
     "text": [
      "instanciar demoro 0.0 segundos\n",
      "instanciar demoro 0.0 segundos\n",
      "instanciar demoro 0.0 segundos\n",
      "__init__ demoro 0.0 segundos\n"
     ]
    }
   ],
   "source": [
    "ensamble = EnsamblePromedioXGBoost()"
   ]
  },
  {
   "cell_type": "code",
   "execution_count": 13,
   "metadata": {},
   "outputs": [
    {
     "name": "stdout",
     "output_type": "stream",
     "text": [
      "cargar demoro 1.37 segundos\n",
      "cargar demoro 1.73 segundos\n",
      "cargar_datos demoro 7.49 segundos\n"
     ]
    }
   ],
   "source": [
    "ensamble.cargar_datos()"
   ]
  },
  {
   "cell_type": "code",
   "execution_count": 14,
   "metadata": {},
   "outputs": [
    {
     "name": "stdout",
     "output_type": "stream",
     "text": [
      "entrenar demoro 0.0 segundos\n",
      "entrenar demoro 0.15 segundos\n",
      "[12:05:23] WARNING: /workspace/src/objective/regression_obj.cu:152: reg:linear is now deprecated in favor of reg:squarederror.\n",
      "entrenar demoro 0.0 segundos\n",
      "entrenar demoro 279.21 segundos\n",
      "entrenar demoro 0.0 segundos\n",
      "entrenar demoro 279.35 segundos\n"
     ]
    }
   ],
   "source": [
    "ensamble.entrenar()"
   ]
  },
  {
   "cell_type": "code",
   "execution_count": 15,
   "metadata": {},
   "outputs": [
    {
     "name": "stdout",
     "output_type": "stream",
     "text": [
      "predecir demoro 6.8 segundos\n",
      "predecir demoro 3.02 segundos\n",
      "predecir demoro 9.83 segundos\n",
      "puntuar demoro 0.0 segundos\n",
      "validar demoro 9.83 segundos\n"
     ]
    },
    {
     "data": {
      "text/plain": [
       "702184.908644387"
      ]
     },
     "execution_count": 15,
     "metadata": {},
     "output_type": "execute_result"
    }
   ],
   "source": [
    "ensamble.validar()"
   ]
  },
  {
   "cell_type": "code",
   "execution_count": null,
   "metadata": {},
   "outputs": [],
   "source": [
    "comentario = \"test ensamble promedios + xgboost\"\n",
    "ensamble.presentar(predicciones, comentario)"
   ]
  }
 ],
 "metadata": {
  "kernelspec": {
   "display_name": "Python 3",
   "language": "python",
   "name": "python3"
  },
  "language_info": {
   "codemirror_mode": {
    "name": "ipython",
    "version": 3
   },
   "file_extension": ".py",
   "mimetype": "text/x-python",
   "name": "python",
   "nbconvert_exporter": "python",
   "pygments_lexer": "ipython3",
   "version": "3.6.8"
  }
 },
 "nbformat": 4,
 "nbformat_minor": 4
}

{
 "cells": [
  {
   "cell_type": "code",
   "execution_count": 1,
   "metadata": {},
   "outputs": [],
   "source": [
    "import os\n",
    "import sys\n",
    "this = os.getcwd()\n",
    "path = this[:this.rfind(\"/\")]\n",
    "if not path in sys.path: sys.path.append(path)\n",
    "xgboost_path = path + \"/xgboost_regressor\"\n",
    "promedios_path = path + \"/promedio_zona\"\n",
    "\n",
    "import pandas as pd\n",
    "import matplotlib\n",
    "from datos import FEATURES_DISPONIBLES\n",
    "from modelo import Modelo\n",
    "\n",
    "pd.set_option('display.max_columns', 100)\n",
    "pd.set_option('display.float_format', lambda x: '%.3f' % x)"
   ]
  },
  {
   "cell_type": "code",
   "execution_count": 2,
   "metadata": {},
   "outputs": [],
   "source": [
    "from xgboost_regressor.xgboost_predictor import XGBoostRegressor\n",
    "from promedio_zona.promedio_zona import PromedioZona"
   ]
  },
  {
   "cell_type": "code",
   "execution_count": 3,
   "metadata": {},
   "outputs": [],
   "source": [
    "class EnsamblePromedioXGBoost(Modelo):\n",
    "    \"\"\"\n",
    "        Predice con un promedio ponderado entre los dos modelos.\n",
    "    \"\"\"\n",
    "    \n",
    "    \n",
    "    @Modelo.cronometrar()\n",
    "    def __init__(self):\n",
    "        self.modelo_promedios = PromedioZona()\n",
    "        self.modelo_xgboost = XGBoostRegressor()\n",
    "        self.peso_xgboost = 0.7\n",
    "        super().__init__()\n",
    "        \n",
    "        \n",
    "    @property\n",
    "    def peso_xgboost(self):\n",
    "        return self.__peso_xgboost\n",
    "\n",
    "    @peso_xgboost.setter\n",
    "    def peso_xgboost(self, peso):\n",
    "        \"\"\" \n",
    "            Indica qué peso asignarle al modelo xgboost al predecir.\n",
    "            Podría llevar a overfitting del set de validación.\n",
    "        \"\"\"\n",
    "        if not (0 <= peso <= 1):\n",
    "            raise ValueError(\"peso_xgboost debe estar en [0,1]\")\n",
    "        self.__peso_xgboost = peso\n",
    "\n",
    "    @Modelo.cronometrar()\n",
    "    def cargar_datos(self):\n",
    "        self.modelo_promedios.cargar_datos()\n",
    "        self.modelo_xgboost.cargar_datos()\n",
    "        self.cargado = True\n",
    "    \n",
    "    @Modelo.cronometrar()\n",
    "    def entrenar(self):\n",
    "        self.modelo_promedios.entrenar()\n",
    "        self.modelo_xgboost.entrenar()\n",
    "        super().entrenar()\n",
    "    \n",
    "    @Modelo.cronometrar()\n",
    "    def validar(self):\n",
    "        \"\"\"\n",
    "        \"\"\"\n",
    "        predicciones = self.predecir('test')\n",
    "        score = self.puntuar(predicciones[self.feature], predicciones[\"target\"])\n",
    "        self.resultado_validacion = score\n",
    "        self.validado = True\n",
    "        return score\n",
    "\n",
    "    @Modelo.cronometrar()\n",
    "    def predecir(self, cual):\n",
    "        \"\"\"\n",
    "            cual: {'test', 'submit'}\n",
    "        \"\"\"\n",
    "        sets_disponibles  = {\n",
    "            \"test\": {\n",
    "                \"promedios\": self.modelo_promedios.test_data,\n",
    "                \"xgboost\": self.modelo_xgboost.test_data,\n",
    "            },\n",
    "            \"submit\": {\n",
    "                \"promedios\": self.modelo_promedios.submit_data,\n",
    "                \"xgboost\": self.modelo_xgboost.submit_data\n",
    "            }\n",
    "        }\n",
    "        if cual not in sets_disponibles: raise Exception('No puedo predecir eso')\n",
    "        \n",
    "        columnas = [self.feature, 'target'] if cual == 'test' else ['target']\n",
    "        prediccion_promedios = self.modelo_promedios.predecir(sets_disponibles.get(cual).get('promedios'))[columnas]\n",
    "        prediccion_xgboost = self.modelo_xgboost.predecir(sets_disponibles.get(cual).get('xgboost'))[columnas]\n",
    "        predicciones = prediccion_promedios.join(prediccion_xgboost, lsuffix='_promedio', rsuffix='_xgboost')\n",
    "        predicciones['target'] = predicciones[['target_promedio', 'target_xgboost']].mean(axis='columns')\n",
    "        predicciones['target'] = predicciones['target_xgboost'] * self.peso_xgboost + predicciones['target_promedio'] * (1-self.peso_xgboost)\n",
    "        if cual == 'test':\n",
    "            predicciones[self.feature] = predicciones[[self.feature+'_promedio', self.feature+'_xgboost']].mean(axis='columns')\n",
    "        return predicciones    \n"
   ]
  },
  {
   "cell_type": "code",
   "execution_count": 4,
   "metadata": {},
   "outputs": [
    {
     "name": "stdout",
     "output_type": "stream",
     "text": [
      "instanciar demoro 0.0 segundos\n",
      "instanciar demoro 0.0 segundos\n",
      "instanciar demoro 0.0 segundos\n",
      "__init__ demoro 0.0 segundos\n"
     ]
    }
   ],
   "source": [
    "ensamble = EnsamblePromedioXGBoost()"
   ]
  },
  {
   "cell_type": "code",
   "execution_count": 5,
   "metadata": {},
   "outputs": [
    {
     "name": "stdout",
     "output_type": "stream",
     "text": [
      "cargar demoro 1.35 segundos\n",
      "cargar demoro 1.6 segundos\n",
      "cargar_datos demoro 7.14 segundos\n"
     ]
    }
   ],
   "source": [
    "ensamble.cargar_datos()"
   ]
  },
  {
   "cell_type": "code",
   "execution_count": 6,
   "metadata": {},
   "outputs": [
    {
     "name": "stdout",
     "output_type": "stream",
     "text": [
      "entrenar demoro 0.0 segundos\n",
      "entrenar demoro 0.14 segundos\n",
      "[12:35:57] WARNING: /workspace/src/objective/regression_obj.cu:152: reg:linear is now deprecated in favor of reg:squarederror.\n",
      "entrenar demoro 0.0 segundos\n",
      "entrenar demoro 279.53 segundos\n",
      "entrenar demoro 0.0 segundos\n",
      "entrenar demoro 279.68 segundos\n"
     ]
    }
   ],
   "source": [
    "ensamble.entrenar()"
   ]
  },
  {
   "cell_type": "code",
   "execution_count": 7,
   "metadata": {},
   "outputs": [
    {
     "name": "stdout",
     "output_type": "stream",
     "text": [
      "predecir demoro 6.63 segundos\n",
      "predecir demoro 2.98 segundos\n",
      "predecir demoro 9.63 segundos\n",
      "puntuar demoro 0.0 segundos\n",
      "validar demoro 9.63 segundos\n"
     ]
    },
    {
     "data": {
      "text/plain": [
       "692638.2637891715"
      ]
     },
     "execution_count": 7,
     "metadata": {},
     "output_type": "execute_result"
    }
   ],
   "source": [
    "ensamble.validar()"
   ]
  },
  {
   "cell_type": "code",
   "execution_count": 8,
   "metadata": {},
   "outputs": [
    {
     "name": "stdout",
     "output_type": "stream",
     "text": [
      "predecir demoro 6.61 segundos\n",
      "predecir demoro 2.98 segundos\n",
      "predecir demoro 9.6 segundos\n"
     ]
    }
   ],
   "source": [
    "predicciones = ensamble.predecir('submit')"
   ]
  },
  {
   "cell_type": "code",
   "execution_count": 9,
   "metadata": {},
   "outputs": [
    {
     "data": {
      "text/plain": [
       "0.7"
      ]
     },
     "execution_count": 9,
     "metadata": {},
     "output_type": "execute_result"
    }
   ],
   "source": [
    "ensamble.peso_xgboost"
   ]
  },
  {
   "cell_type": "code",
   "execution_count": 10,
   "metadata": {},
   "outputs": [
    {
     "name": "stdout",
     "output_type": "stream",
     "text": [
      "guardar demoro 0.14 segundos\n"
     ]
    },
    {
     "name": "stderr",
     "output_type": "stream",
     "text": [
      "100%|██████████| 1.36M/1.36M [00:05<00:00, 271kB/s] \n"
     ]
    },
    {
     "name": "stdout",
     "output_type": "stream",
     "text": [
      "submit demoro 8.16 segundos\n",
      "presentar demoro 8.3 segundos\n"
     ]
    }
   ],
   "source": [
    "comentario = \"ensamble promedios + xgboost con peso 0.7\"\n",
    "ensamble.presentar(predicciones, comentario)"
   ]
  }
 ],
 "metadata": {
  "kernelspec": {
   "display_name": "Python 3",
   "language": "python",
   "name": "python3"
  },
  "language_info": {
   "codemirror_mode": {
    "name": "ipython",
    "version": 3
   },
   "file_extension": ".py",
   "mimetype": "text/x-python",
   "name": "python",
   "nbconvert_exporter": "python",
   "pygments_lexer": "ipython3",
   "version": "3.6.8"
  }
 },
 "nbformat": 4,
 "nbformat_minor": 4
}

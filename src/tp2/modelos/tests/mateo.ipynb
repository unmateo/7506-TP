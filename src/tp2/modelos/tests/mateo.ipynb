{
 "cells": [
  {
   "cell_type": "code",
   "execution_count": 1,
   "metadata": {},
   "outputs": [],
   "source": [
    "import os\n",
    "import sys\n",
    "this = os.getcwd()\n",
    "path = this[:this.rfind(\"/\")]\n",
    "if not path in sys.path: sys.path.append(path)\n",
    "xgboost_path = path + \"/xgboost_regressor\"\n",
    "promedios_path = path + \"/promedio_zona\"\n",
    "\n",
    "import pandas as pd\n",
    "import matplotlib\n",
    "from datos import FEATURES_DISPONIBLES\n",
    "from modelo import Modelo\n",
    "\n",
    "pd.set_option('display.max_columns', 100)\n",
    "pd.set_option('display.float_format', lambda x: '%.3f' % x)"
   ]
  },
  {
   "cell_type": "code",
   "execution_count": 2,
   "metadata": {},
   "outputs": [
    {
     "name": "stdout",
     "output_type": "stream",
     "text": [
      "instanciar demoro 0.0 segundos\n"
     ]
    }
   ],
   "source": [
    "modelo = Modelo()"
   ]
  },
  {
   "cell_type": "code",
   "execution_count": 3,
   "metadata": {},
   "outputs": [
    {
     "name": "stdout",
     "output_type": "stream",
     "text": [
      "cargar demoro 83.74 segundos\n"
     ]
    },
    {
     "data": {
      "text/plain": [
       "True"
      ]
     },
     "execution_count": 3,
     "metadata": {},
     "output_type": "execute_result"
    }
   ],
   "source": [
    "modelo.cargar_datos()"
   ]
  },
  {
   "cell_type": "code",
   "execution_count": 4,
   "metadata": {},
   "outputs": [],
   "source": [
    "df = modelo.test_data"
   ]
  },
  {
   "cell_type": "markdown",
   "metadata": {},
   "source": [
    "# Campos Faltantes\n",
    "\n",
    "Análisis de qué campos tienen valores para cada df (train test submit)"
   ]
  },
  {
   "cell_type": "code",
   "execution_count": 4,
   "metadata": {},
   "outputs": [],
   "source": [
    "todo = modelo.test_data.append(modelo.train_data, sort=False).append(modelo.submit_data, sort=False)"
   ]
  },
  {
   "cell_type": "code",
   "execution_count": 5,
   "metadata": {},
   "outputs": [
    {
     "data": {
      "text/plain": [
       "2530838.5"
      ]
     },
     "execution_count": 5,
     "metadata": {},
     "output_type": "execute_result"
    }
   ],
   "source": [
    "todo['precio'].mean()"
   ]
  },
  {
   "cell_type": "code",
   "execution_count": 24,
   "metadata": {},
   "outputs": [
    {
     "data": {
      "text/plain": [
       "gps                               154969\n",
       "lat                               154183\n",
       "lng                               154183\n",
       "precio_metro_total                111467\n",
       "precio_metro_cubierto              77400\n",
       "metrostotales                      64122\n",
       "precio                             60000\n",
       "antiguedad                         54269\n",
       "garages                            47088\n",
       "idzona                             35800\n",
       "banos                              32775\n",
       "habitaciones                       28099\n",
       "metroscubiertos                    21699\n",
       "ciudad                               455\n",
       "provincia                            197\n",
       "tipodepropiedad                       53\n",
       "descripcion                            0\n",
       "dolar                                  0\n",
       "gimnasio                               0\n",
       "fecha                                  0\n",
       "palabras_negativas_descripcion         0\n",
       "usosmultiples                          0\n",
       "piscina                                0\n",
       "escuelascercanas                       0\n",
       "centroscomercialescercanos             0\n",
       "ano                                    0\n",
       "mes                                    0\n",
       "dia                                    0\n",
       "cantidad_palabras_titulo               0\n",
       "cantidad_palabras_descripcion          0\n",
       "palabras_positivas_descripcion         0\n",
       "titulo                                 0\n",
       "dtype: int64"
      ]
     },
     "execution_count": 24,
     "metadata": {},
     "output_type": "execute_result"
    }
   ],
   "source": [
    "todo.isna().sum().sort_values(ascending=False)"
   ]
  },
  {
   "cell_type": "code",
   "execution_count": 39,
   "metadata": {},
   "outputs": [
    {
     "data": {
      "text/plain": [
       "4"
      ]
     },
     "execution_count": 39,
     "metadata": {},
     "output_type": "execute_result"
    }
   ],
   "source": [
    "len(todo.banos.unique()) - 1 "
   ]
  },
  {
   "cell_type": "code",
   "execution_count": null,
   "metadata": {},
   "outputs": [],
   "source": [
    "{'antiguedad', 'garages', 'banos', 'habitaciones'}"
   ]
  },
  {
   "cell_type": "markdown",
   "metadata": {},
   "source": [
    "# Evaluación de modelo\n",
    "\n",
    "Análisis de en qué propiedades hay mayor diferencia entre real/esperado.\n",
    "En xgboost da que hay mucha diferencia en los NA"
   ]
  },
  {
   "cell_type": "code",
   "execution_count": null,
   "metadata": {},
   "outputs": [],
   "source": [
    "predicciones = modelo.predecir(modelo.test_data)\n",
    "predicciones['dif'] = abs(predicciones['precio'] - predicciones['target']) / predicciones['precio']\n",
    "peores_predicciones = modelo.test_data.loc[predicciones.sort_values(by='dif').tail(100).index]\n",
    "mejores_predicciones = modelo.test_data.loc[predicciones.sort_values(by='dif').head(100).index]\n",
    "def plot_dif(feature):\n",
    "    plot = peores_predicciones[feature].hist(color='red')\n",
    "    plot = mejores_predicciones[feature].hist(alpha=0.5, color='green')\n",
    "    print('peores')\n",
    "    print(peores_predicciones[feature].isna().value_counts(normalize=True))\n",
    "    print('mejores')\n",
    "    print(mejores_predicciones[feature].isna().value_counts(normalize=True))\n",
    "\n",
    "plot_dif('banos')\n",
    "plot_dif('garages')\n",
    "plot_dif('metrostotales')\n",
    "plot_dif('metroscubiertos')"
   ]
  }
 ],
 "metadata": {
  "kernelspec": {
   "display_name": "Python 3",
   "language": "python",
   "name": "python3"
  },
  "language_info": {
   "codemirror_mode": {
    "name": "ipython",
    "version": 3
   },
   "file_extension": ".py",
   "mimetype": "text/x-python",
   "name": "python",
   "nbconvert_exporter": "python",
   "pygments_lexer": "ipython3",
   "version": "3.6.8"
  }
 },
 "nbformat": 4,
 "nbformat_minor": 4
}

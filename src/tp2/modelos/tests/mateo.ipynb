{
 "cells": [
  {
   "cell_type": "code",
   "execution_count": 1,
   "metadata": {},
   "outputs": [],
   "source": [
    "import os\n",
    "import sys\n",
    "this = os.getcwd()\n",
    "path = this[:this.rfind(\"/\")]\n",
    "if not path in sys.path: sys.path.append(path)\n",
    "\n",
    "from modelo import Modelo\n",
    "import pandas as pd\n",
    "pd.set_option('display.max_columns', 100)\n",
    "pd.set_option('display.float_format', lambda x: '%.3f' % x)"
   ]
  },
  {
   "cell_type": "code",
   "execution_count": 2,
   "metadata": {},
   "outputs": [],
   "source": []
  },
  {
   "cell_type": "code",
   "execution_count": 3,
   "metadata": {},
   "outputs": [
    {
     "name": "stdout",
     "output_type": "stream",
     "text": [
      "instanciar demoro 0.0 segundos\n"
     ]
    }
   ],
   "source": [
    "modelo = Modelo()"
   ]
  },
  {
   "cell_type": "code",
   "execution_count": 4,
   "metadata": {},
   "outputs": [
    {
     "name": "stdout",
     "output_type": "stream",
     "text": [
      "cargar demoro 1.65 segundos\n"
     ]
    },
    {
     "data": {
      "text/plain": [
       "True"
      ]
     },
     "execution_count": 4,
     "metadata": {},
     "output_type": "execute_result"
    }
   ],
   "source": [
    "modelo.cargar_datos()"
   ]
  },
  {
   "cell_type": "code",
   "execution_count": 6,
   "metadata": {},
   "outputs": [
    {
     "data": {
      "text/plain": [
       "metrostotales                 47345\n",
       "antiguedad                    49286\n",
       "garages                       50677\n",
       "idzona                        52821\n",
       "banos                         53446\n",
       "habitaciones                  54372\n",
       "metroscubiertos               55701\n",
       "ciudad                        59917\n",
       "provincia                     59958\n",
       "tipodepropiedad               59993\n",
       "fecha                         60000\n",
       "gimnasio                      60000\n",
       "usosmultiples                 60000\n",
       "piscina                       60000\n",
       "escuelascercanas              60000\n",
       "centroscomercialescercanos    60000\n",
       "ano                           60000\n",
       "mes                           60000\n",
       "dia                           60000\n",
       "dtype: int64"
      ]
     },
     "execution_count": 6,
     "metadata": {},
     "output_type": "execute_result"
    }
   ],
   "source": [
    "modelo.submit_data.count().sort_values()"
   ]
  }
 ],
 "metadata": {
  "kernelspec": {
   "display_name": "Python 3",
   "language": "python",
   "name": "python3"
  },
  "language_info": {
   "codemirror_mode": {
    "name": "ipython",
    "version": 3
   },
   "file_extension": ".py",
   "mimetype": "text/x-python",
   "name": "python",
   "nbconvert_exporter": "python",
   "pygments_lexer": "ipython3",
   "version": "3.6.8"
  }
 },
 "nbformat": 4,
 "nbformat_minor": 4
}

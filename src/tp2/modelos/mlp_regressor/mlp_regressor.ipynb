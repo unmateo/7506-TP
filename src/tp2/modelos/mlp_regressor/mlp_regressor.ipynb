{
 "cells": [
  {
   "cell_type": "code",
   "execution_count": null,
   "metadata": {},
   "outputs": [],
   "source": [
    "import os\n",
    "import sys\n",
    "this = os.getcwd()\n",
    "path = this[:this.rfind(\"/\")]\n",
    "if not path in sys.path: sys.path.append(path)\n",
    "\n",
    "import pandas as pd\n",
    "import matplotlib\n",
    "from datos import FEATURES_DISPONIBLES\n",
    "from modelo import Modelo\n",
    "\n",
    "pd.set_option('display.max_columns', 100)\n",
    "pd.set_option('display.float_format', lambda x: '%.3f' % x)"
   ]
  },
  {
   "cell_type": "code",
   "execution_count": null,
   "metadata": {},
   "outputs": [],
   "source": [
    "from sklearn.neural_network import MLPRegressor\n",
    "from sklearn.preprocessing import StandardScaler\n",
    "from operator import concat\n",
    "from functools import reduce"
   ]
  },
  {
   "cell_type": "code",
   "execution_count": null,
   "metadata": {},
   "outputs": [],
   "source": [
    "import numpy as np\n",
    "from random import choice"
   ]
  },
  {
   "cell_type": "code",
   "execution_count": null,
   "metadata": {},
   "outputs": [],
   "source": [
    "class MLP_Regressor(Modelo):\n",
    "    \"\"\"\n",
    "    \"\"\"\n",
    "\n",
    "     \n",
    "    def cargar_datos(self):\n",
    "        \"\"\"\n",
    "        \"\"\"\n",
    "        excluir = {\n",
    "            \"idzona\",\n",
    "            \"precio_metro_cubierto\",\n",
    "            \"precio_metro_total\",\n",
    "            \"gps\", \"lat\", \"lng\",\n",
    "            'ciudad', 'provincia'\n",
    "        }\n",
    "        features = FEATURES_DISPONIBLES - excluir\n",
    "        super().cargar_datos(features)\n",
    "        self.train_data = self.preparar_datos(self.train_data)\n",
    "        self.test_data = self.preparar_datos(self.test_data)      \n",
    "        self.submit_data = self.preparar_datos(self.submit_data)\n",
    "        self.agregar_columnas_faltantes()\n",
    "        return True\n",
    "    \n",
    "    def preparar_datos(self, df):\n",
    "        \"\"\"\n",
    "        \"\"\"\n",
    "        df = df.drop(columns=[\"fecha\", \"titulo\", \"descripcion\"])\n",
    "        categoricas = {\"tipodepropiedad\"}\n",
    "        return self.one_hot_encode(df, categoricas)\n",
    "    \n",
    "    def agregar_columnas_faltantes(self):\n",
    "        \"\"\"\n",
    "            Al hacer one hot encoding individualemente sobre los dfs,\n",
    "            puede pasar que queden con columnas dispares. Por eso,\n",
    "            en esta función las agrego a cada uno.\n",
    "        \"\"\"\n",
    "        dfs = (self.train_data, self.test_data, self.submit_data)\n",
    "        columnas_todas = set(reduce(concat, [list(df.columns.values) for df in dfs], []))\n",
    "        def agregar_faltantes(df):\n",
    "            faltantes = list(columnas_todas - {'precio'} - set(df.columns.values))\n",
    "            for faltante in faltantes:\n",
    "                df[faltante] = False\n",
    "            return df.reindex(columnas_todas, axis='columns')\n",
    "        self.train_data = self.llenar_nans(agregar_faltantes(self.train_data))\n",
    "        self.test_data = self.llenar_nans(agregar_faltantes(self.test_data))\n",
    "        self.submit_data = self.llenar_nans(agregar_faltantes(self.submit_data))\n",
    "        return True\n",
    "\n",
    "    def _split_data_label(self, df, label=None):\n",
    "        if not label:\n",
    "            label = self.feature\n",
    "        data = df.loc[:, df.columns != label]\n",
    "        label = df[label].values if label in df.columns else None\n",
    "        return data, label\n",
    "    \n",
    "    def llenar_nans(self, df):\n",
    "        return df.fillna(df.mean(skipna=True, numeric_only=True))\n",
    "    \n",
    "    @Modelo.cronometrar()\n",
    "    def entrenar(self, params=None):\n",
    "        \"\"\"\n",
    "        \"\"\"\n",
    "        data_train, label_train = self._split_data_label(self.train_data)\n",
    "        self.scaler = StandardScaler()\n",
    "        self.scaler.fit(data_train)\n",
    "        X_train = self.scaler.transform(data_train)\n",
    "        \n",
    "        hiperparametros = {\n",
    "            'learning_rate_init': 0.1,\n",
    "            'activation': 'relu',\n",
    "            'alpha': 0.001,\n",
    "            'max_iter': 600,\n",
    "            'shuffle': False\n",
    "        }\n",
    "        if params:\n",
    "            hiperparametros.update(params)\n",
    "\n",
    "        self.model = MLPRegressor(**hiperparametros)\n",
    "        self.model.fit(X_train, label_train)\n",
    "        super().entrenar()\n",
    "        return True\n",
    "    \n",
    "    \n",
    "    @Modelo.cronometrar()\n",
    "    def predecir(self, df):\n",
    "        \"\"\"\n",
    "        \"\"\"\n",
    "        data = df.copy()\n",
    "        data_test, label_test = self._split_data_label(data)\n",
    "        X_data = self.scaler.transform(data_test)\n",
    "        predictions = self.model.predict(X_data)\n",
    "        data[\"target\"] = predictions\n",
    "        return data\n"
   ]
  },
  {
   "cell_type": "code",
   "execution_count": null,
   "metadata": {},
   "outputs": [],
   "source": [
    "def test():\n",
    "    modelo = MLP_Regressor()    \n",
    "    modelo.cargar_datos()\n",
    "    modelo.entrenar()\n",
    "    return modelo"
   ]
  },
  {
   "cell_type": "code",
   "execution_count": null,
   "metadata": {},
   "outputs": [],
   "source": [
    "def params_to_tuple(params):\n",
    "    return tuple(params.items())"
   ]
  },
  {
   "cell_type": "code",
   "execution_count": null,
   "metadata": {},
   "outputs": [],
   "source": [
    "def probar_parametros(modelo, params):\n",
    "    modelo.entrenar(params)\n",
    "    return modelo.validar()"
   ]
  },
  {
   "cell_type": "code",
   "execution_count": null,
   "metadata": {},
   "outputs": [],
   "source": [
    "def random_prueba(parametros):\n",
    "    prueba = parametros.copy()\n",
    "    return {key:choice(values) for key,values in prueba.items()}"
   ]
  },
  {
   "cell_type": "code",
   "execution_count": null,
   "metadata": {},
   "outputs": [],
   "source": [
    "def generar_n_pruebas(n, parametros):\n",
    "    pruebas = []\n",
    "    set_pruebas = set()\n",
    "    while len(pruebas) < n:\n",
    "        prueba = random_prueba(parametros)\n",
    "        prueba_tuple = params_to_tuple(prueba)\n",
    "        if prueba_tuple in set_pruebas: continue\n",
    "        pruebas.append(prueba)\n",
    "        set_pruebas.add(prueba_tuple)\n",
    "    return pruebas"
   ]
  },
  {
   "cell_type": "code",
   "execution_count": null,
   "metadata": {},
   "outputs": [],
   "source": [
    "def buscar_hiperparametros():\n",
    "    resultados = {}\n",
    "    modelo = MLP_Regressor()\n",
    "    modelo.cargar_datos()\n",
    "    cantidad_pruebas = 10\n",
    "    opciones = {\n",
    "        'learning_rate_init': [0.1, 0.01],\n",
    "        'activation': ['logistic','tanh','relu'],\n",
    "        'alpha': [0.0001, 0.001],\n",
    "        'max_iter': [200, 300, 400],\n",
    "        'shuffle': [False, True]\n",
    "    }\n",
    "    pruebas = generar_n_pruebas(cantidad_pruebas, opciones)\n",
    "    for prueba in pruebas:\n",
    "        print(prueba)\n",
    "        puntaje = probar_parametros(modelo, prueba)\n",
    "        print(puntaje)\n",
    "        resultados[params_to_tuple(prueba)] = puntaje\n",
    "        print(resultados)\n",
    "    return resultados"
   ]
  },
  {
   "cell_type": "markdown",
   "metadata": {},
   "source": [
    "## Mejores hiperparámetros\n",
    "\n",
    "{'learning_rate_init': 0.1, 'activation': 'relu', 'alpha': 0.001, 'max_iter': 400, 'shuffle': False}\n",
    "\n",
    "{'learning_rate_init': 0.1, 'activation': 'relu', 'alpha': 0.0001, 'max_iter': 300, 'shuffle': False}\n",
    "\n",
    "{'learning_rate_init': 0.01, 'activation': 'relu', 'alpha': 0.0001, 'max_iter': 300, 'shuffle': True}"
   ]
  }
 ],
 "metadata": {
  "kernelspec": {
   "display_name": "Python 3",
   "language": "python",
   "name": "python3"
  },
  "language_info": {
   "codemirror_mode": {
    "name": "ipython",
    "version": 3
   },
   "file_extension": ".py",
   "mimetype": "text/x-python",
   "name": "python",
   "nbconvert_exporter": "python",
   "pygments_lexer": "ipython3",
   "version": "3.6.8"
  }
 },
 "nbformat": 4,
 "nbformat_minor": 4
}

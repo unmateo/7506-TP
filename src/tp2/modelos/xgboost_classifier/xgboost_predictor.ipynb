{
 "cells": [
  {
   "cell_type": "code",
   "execution_count": 1,
   "metadata": {},
   "outputs": [],
   "source": [
    "import os\n",
    "import sys\n",
    "this = os.getcwd()\n",
    "path = this[:this.rfind(\"/\")]\n",
    "if not path in sys.path: sys.path.append(path)\n",
    "\n",
    "from sklearn.model_selection import train_test_split\n",
    "import pandas as pd\n",
    "import matplotlib\n",
    "from datos import FEATURES_DISPONIBLES\n",
    "from modelo import Modelo\n",
    "\n",
    "pd.set_option('display.max_columns', 100)\n",
    "pd.set_option('display.float_format', lambda x: '%.3f' % x)"
   ]
  },
  {
   "cell_type": "code",
   "execution_count": 2,
   "metadata": {},
   "outputs": [],
   "source": [
    "import xgboost as xgb\n",
    "from sklearn.metrics import accuracy_score"
   ]
  },
  {
   "cell_type": "code",
   "execution_count": 11,
   "metadata": {},
   "outputs": [],
   "source": [
    "class XGBoost(Modelo):\n",
    "    \"\"\"\n",
    "        Este modelo lo vamos a usar para predecir valores\n",
    "        faltantes en los sets de datos.\n",
    "    \"\"\"\n",
    "    \n",
    "    excluir = {\n",
    "        \"idzona\",\n",
    "        \"ciudad\",\n",
    "        \"provincia\",\n",
    "        \"precio\",\n",
    "        \"precio_metro_total\",\n",
    "        \"precio_metro_cubierto\",\n",
    "        \"gps\", \"lat\", \"lng\"\n",
    "    }\n",
    "    features = FEATURES_DISPONIBLES - excluir\n",
    "        \n",
    "    def __init__(self, feature):\n",
    "        \"\"\"\n",
    "        \"\"\"\n",
    "        assert feature in self.features\n",
    "        super().__init__(feature)\n",
    "\n",
    "\n",
    "    def cargar_datos(self, seed=42):\n",
    "        \"\"\"\n",
    "            Junto los 3 dataframes y armo nuevos sets:\n",
    "            train y test con las publicaciones que tengan\n",
    "            el dato a predecir, submit con las que no lo tengan.\n",
    "        \"\"\"\n",
    "        super().cargar_datos(self.features)\n",
    "        todos = self.test_data\\\n",
    "            .append(self.train_data, sort=False)\\\n",
    "            .append(self.submit_data, sort=False)\\\n",
    "            .drop(columns=[\n",
    "                'fecha',\n",
    "                'titulo',\n",
    "                'descripcion']\n",
    "            )\n",
    "        todos = self.one_hot_encode(todos, ['tipodepropiedad'])\n",
    "        self.clases_feature = len(todos[self.feature].unique())\n",
    "        self.submit_data = todos.loc[todos[self.feature].isna()]\n",
    "        con_feature = todos.loc[todos[self.feature].notna()]\n",
    "        train, test = train_test_split(con_feature, random_state=seed)\n",
    "        self.train_data = train\n",
    "        self.test_data = test\n",
    "        return True\n",
    "    \n",
    "\n",
    "    def _split_data_label(self, df, label):\n",
    "        data = df.loc[:, df.columns != label]\n",
    "        label = df[label].values\n",
    "        return data, label\n",
    "    \n",
    "    @Modelo.cronometrar()\n",
    "    def entrenar(self, params=None):\n",
    "        \"\"\"\n",
    "        \"\"\"\n",
    "        hiperparametros = {\n",
    "            'max_depth': 10,\n",
    "            'objective': 'multi:softmax',\n",
    "            'num_class': self.clases_feature,\n",
    "            'eval_metric': 'merror',\n",
    "            'learning_rate': 0.1,\n",
    "            'number_estimators': 1000,\n",
    "        }\n",
    "        if params:\n",
    "            hiperparametros.update(params)\n",
    "        train_data, train_label = self._split_data_label(self.train_data, self.feature)\n",
    "        dtrain = xgb.DMatrix(train_data, label=train_label)\n",
    "        self.predictor = xgb.train(hiperparametros, dtrain)\n",
    "        super().entrenar()\n",
    "        return True\n",
    "    \n",
    "    @Modelo.cronometrar()\n",
    "    def predecir(self, df):\n",
    "        \"\"\"\n",
    "            to_bool: bool\n",
    "                Transformar la columna target (0,1] a bool.\n",
    "                Lo hace poniendo un límite en 0.5\n",
    "        \"\"\"\n",
    "        data = df.copy()\n",
    "        predict_data, predict_label = self._split_data_label(data, self.feature)\n",
    "        dpredict = xgb.DMatrix(predict_data)\n",
    "        data[\"target\"] = self.predictor.predict(dpredict)\n",
    "        return data\n",
    "\n",
    "    \n",
    "    def puntuar(self, real, prediccion):\n",
    "        \"\"\"\n",
    "            \n",
    "        \"\"\"\n",
    "        return (real == prediccion).value_counts(normalize=True)[True]\n",
    "        "
   ]
  },
  {
   "cell_type": "code",
   "execution_count": 12,
   "metadata": {},
   "outputs": [],
   "source": [
    "def test(feature):\n",
    "    modelo = XGBoost(feature=feature)\n",
    "    modelo.cargar_datos()\n",
    "    modelo.entrenar()\n",
    "    print(modelo.validar())\n",
    "    return modelo"
   ]
  },
  {
   "cell_type": "code",
   "execution_count": null,
   "metadata": {},
   "outputs": [],
   "source": [
    "def tests():\n",
    "    modelo_garage = test('garages')\n",
    "    modelo_banos= test('banos')\n",
    "    modelo_habitaciones = test('habitaciones')\n",
    "    return modelo_garage, modelo_banos, modelo_habitaciones"
   ]
  },
  {
   "cell_type": "code",
   "execution_count": 15,
   "metadata": {},
   "outputs": [
    {
     "name": "stdout",
     "output_type": "stream",
     "text": [
      "instanciar demoro 0.0 segundos\n",
      "cargar demoro 69.48 segundos\n",
      "entrenar demoro 0.0 segundos\n",
      "entrenar demoro 14.28 segundos\n",
      "predecir demoro 0.27 segundos\n",
      "validar demoro 0.27 segundos\n",
      "0.6721231100145505\n"
     ]
    }
   ],
   "source": [
    "modelo = test('garages')"
   ]
  }
 ],
 "metadata": {
  "kernelspec": {
   "display_name": "Python 3",
   "language": "python",
   "name": "python3"
  },
  "language_info": {
   "codemirror_mode": {
    "name": "ipython",
    "version": 3
   },
   "file_extension": ".py",
   "mimetype": "text/x-python",
   "name": "python",
   "nbconvert_exporter": "python",
   "pygments_lexer": "ipython3",
   "version": "3.6.8"
  }
 },
 "nbformat": 4,
 "nbformat_minor": 4
}

{
 "cells": [
  {
   "cell_type": "code",
   "execution_count": 2,
   "metadata": {},
   "outputs": [],
   "source": [
    "import pandas as pd\n",
    "from shapely.geometry import Point\n",
    "\n",
    "DATASET_RELATIVE_PATH = \"enunciado/data/train.csv\""
   ]
  },
  {
   "cell_type": "code",
   "execution_count": 10,
   "metadata": {},
   "outputs": [],
   "source": [
    "def levantar_datos(csv_file: str = \"../\"+DATASET_RELATIVE_PATH, optimizar: bool = True) -> pd.DataFrame:\n",
    "    \"\"\"\n",
    "        Recibe un .csv que debe tener el formato de columnas específico del tp.\n",
    "        Si optimizar = True, asigna mejores tipos y agrega columnas útiles.\n",
    "        Devuelve un Dataframe con esa información.\n",
    "    \"\"\"\n",
    "    if not optimizar:\n",
    "        return pd.read_csv(csv_file)\n",
    "    dtypes = {\n",
    "        \"piscina\": \"bool\",\n",
    "        \"escuelascercanas\": \"bool\",\n",
    "        \"centroscomercialescercanos\": \"bool\",\n",
    "        \"usosmultiples\": \"bool\",\n",
    "        \"gimnasio\": \"bool\",\n",
    "        \"garages\": \"float16\",\n",
    "        \"banos\": \"float16\",\n",
    "        \"tipodepropiedad\": \"category\",\n",
    "        \"ciudad\": \"category\",\n",
    "        \"provincia\": \"category\",\n",
    "        \"antiguedad\": \"float16\",\n",
    "        \"habitaciones\": \"float16\",\n",
    "        \"metroscubiertos\": \"float32\",\n",
    "        \"metrostotales\": \"float32\",\n",
    "    }\n",
    "    df = pd.read_csv(csv_file, dtype=dtypes, parse_dates=[\"fecha\"])\n",
    "    df[\"mes\"] = df[\"fecha\"].dt.month\n",
    "    df[\"ano\"] = df[\"fecha\"].dt.year\n",
    "    df[\"dia\"] = df[\"fecha\"].dt.day\n",
    "    return df"
   ]
  },
  {
   "cell_type": "code",
   "execution_count": 3,
   "metadata": {},
   "outputs": [],
   "source": [
    "def esta_en_mexico(point: Point) -> bool:\n",
    "    \"\"\" \n",
    "        Recibe un punto (lat,lng) y devuelve (muy aproximadamente) True si está dentro de Mexico, False si no.\n",
    "        Hacerlo con ```df[\"coord\"].map(lambda x: mexico_polygon.contains(x))``` sería muy lento.\n",
    "    \"\"\"\n",
    "    MEX_MIN_LNG, MEX_MAX_LNG = (-120, -85)\n",
    "    MEX_MIN_LAT, MEX_MAX_LAT = (14,33)\n",
    "    return (MEX_MIN_LNG < point.x < MEX_MAX_LNG) and (MEX_MIN_LAT < point.y < MEX_MAX_LAT)"
   ]
  }
 ],
 "metadata": {
  "kernelspec": {
   "display_name": "Python 3",
   "language": "python",
   "name": "python3"
  },
  "language_info": {
   "codemirror_mode": {
    "name": "ipython",
    "version": 3
   },
   "file_extension": ".py",
   "mimetype": "text/x-python",
   "name": "python",
   "nbconvert_exporter": "python",
   "pygments_lexer": "ipython3",
   "version": "3.7.0"
  }
 },
 "nbformat": 4,
 "nbformat_minor": 4
}

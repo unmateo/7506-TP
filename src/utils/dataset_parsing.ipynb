{
 "cells": [
  {
   "cell_type": "code",
   "execution_count": 9,
   "metadata": {},
   "outputs": [],
   "source": [
    "import pandas as pd\n",
    "\n",
    "DATASET_RELATIVE_PATH = \"enunciado/data/train.csv\""
   ]
  },
  {
   "cell_type": "code",
   "execution_count": 10,
   "metadata": {},
   "outputs": [],
   "source": [
    "def levantar_datos(csv_file: str = \"../\"+DATASET_RELATIVE_PATH, optimizar: bool = True) -> pd.DataFrame:\n",
    "    \"\"\"\n",
    "        Recibe un .csv que debe tener el formato de columnas específico del tp.\n",
    "        Si optimizar = True, asigna mejores tipos y agrega columnas útiles.\n",
    "        Devuelve un Dataframe con esa información.\n",
    "    \"\"\"\n",
    "    if not optimizar:\n",
    "        return pd.read_csv(csv_file)\n",
    "    dtypes = {\n",
    "        \"piscina\": \"bool\",\n",
    "        \"escuelascercanas\": \"bool\",\n",
    "        \"centroscomercialescercanos\": \"bool\",\n",
    "        \"usosmultiples\": \"bool\",\n",
    "        \"gimnasio\": \"bool\",\n",
    "        \"garages\": \"float16\",\n",
    "        \"banos\": \"float16\",\n",
    "        \"tipodepropiedad\": \"category\",\n",
    "        \"ciudad\": \"category\",\n",
    "        \"provincia\": \"category\",\n",
    "        \"antiguedad\": \"float16\",\n",
    "        \"habitaciones\": \"float16\",\n",
    "        \"metroscubiertos\": \"float32\",\n",
    "        \"metrostotales\": \"float32\",\n",
    "    }\n",
    "    df = pd.read_csv(csv_file, dtype=dtypes, parse_dates=[\"fecha\"])\n",
    "    df[\"mes\"] = df[\"fecha\"].dt.month\n",
    "    df[\"ano\"] = df[\"fecha\"].dt.year\n",
    "    df[\"dia\"] = df[\"fecha\"].dt.day\n",
    "    return df"
   ]
  }
 ],
 "metadata": {
  "kernelspec": {
   "display_name": "Python 3",
   "language": "python",
   "name": "python3"
  },
  "language_info": {
   "codemirror_mode": {
    "name": "ipython",
    "version": 3
   },
   "file_extension": ".py",
   "mimetype": "text/x-python",
   "name": "python",
   "nbconvert_exporter": "python",
   "pygments_lexer": "ipython3",
   "version": "3.7.0"
  }
 },
 "nbformat": 4,
 "nbformat_minor": 4
}

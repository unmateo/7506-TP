{
 "cells": [
  {
   "cell_type": "code",
   "execution_count": null,
   "metadata": {},
   "outputs": [],
   "source": [
    "import pandas as pd\n",
    "import matplotlib.pyplot as plt\n",
    "import matplotlib as mtl\n",
    "import seaborn as sns\n",
    "import numpy as np\n",
    "# from pywaffle import Waffle\n",
    "plt.rc(\"font\",family=\"monospace\")"
   ]
  },
  {
   "cell_type": "code",
   "execution_count": 2,
   "metadata": {},
   "outputs": [],
   "source": [
    "def get_heatmap(data, title=\"Titulo\", xlabel=\"Mes\", ylabel=\"Año\" ,show_values=False):\n",
    "    fig, ax = plt.subplots(figsize=(20,15))\n",
    "    heatmap = sns.heatmap(data, cmap=\"summer_r\", square=True, cbar_kws={\"shrink\":0.3}, ax=ax, annot=show_values)\n",
    "    heatmap.set_title(title)\n",
    "    heatmap.set_ylabel(ylabel)\n",
    "    heatmap.set_xlabel(xlabel)\n",
    "    return heatmap"
   ]
  },
  {
   "cell_type": "code",
   "execution_count": null,
   "metadata": {},
   "outputs": [],
   "source": [
    "def get_barplot(series, h_align=False, title=\"\", x_label=\"\", y_label=\"\", show_grid=False):\n",
    "    max_value = series.max()\n",
    "    if h_align:\n",
    "        kind = \"barh\"\n",
    "        x_lim = (0, max_value * 1.08)\n",
    "        y_lim = None\n",
    "    else:\n",
    "        kind = \"bar\"\n",
    "        y_lim = (0, max_value * 1.08)\n",
    "        x_lim = None\n",
    "    plot = series.plot(kind=kind, figsize=(12,6), fontsize=12, cmap=\"Greens_r\", grid=show_grid,xlim=x_lim, ylim=y_lim )\n",
    "    plot.set_xlabel(x_label, fontsize=12)\n",
    "    plot.set_ylabel(y_label, fontsize=12)\n",
    "    plot.set_title(title, fontsize=16)\n",
    "    margin = max_value * 0.03\n",
    "    for index, value in enumerate(series):\n",
    "        x_pos = value+margin if h_align else index\n",
    "        y_pos = index if h_align else value+margin\n",
    "        plot.text(x_pos, y_pos, str(value), horizontalalignment='center', verticalalignment='center')\n",
    "    return plot"
   ]
  },
  {
   "cell_type": "code",
   "execution_count": null,
   "metadata": {},
   "outputs": [],
   "source": [
    "# def get_waffleplot(series, title=\" \", precision=10, boolean=False):\n",
    "#     \"\"\"Espera una serie de valores normalizados [0,1].\"\"\"\n",
    "#     if len(series)>10: raise Exception(\"La serie no puede tener más de 10 elementos\")\n",
    "#     if precision not in {10,20}: raise Exception(\"Los valores admitidos para precisión son {10,20}\")\n",
    "#     cmap = plt.cm.Set3_r\n",
    "#     max_char = 15\n",
    "#     series.index = series.index.tolist()\n",
    "#     if not boolean:\n",
    "#         otros = 0.9999 - series.sum()\n",
    "#         if otros > 0: series[\"Otros valores\"] = otros\n",
    "#         series.index = pd.Index(series.index.map(lambda x: x[:13].ljust(max_char)))\n",
    "#     colors = [mtl.colors.rgb2hex(cmap(i)) for i in range(len(series))]\n",
    "#     y_legend = (len(series)-1)/35+0.55\n",
    "#     plot = plt.figure(\n",
    "#         FigureClass=Waffle, \n",
    "#         rows=precision,\n",
    "#         columns=precision,\n",
    "#         values=series*100,\n",
    "#         figsize= (12,6),\n",
    "#         title={\"label\":title, \"horizontalalignment\":\"center\", \"fontsize\":18, \"position\": (1,1), \"pad\": 20},\n",
    "#         labels = [\"{} ({}%)\".format(n, str(v*100)[:4]) for n, v in series.items()],\n",
    "#         legend = {'bbox_to_anchor': (1.9, y_legend), \"fontsize\":14},\n",
    "#         colors = colors\n",
    "#     )\n",
    "#     plot.set_tight_layout(False)\n",
    "#     return plot"
   ]
  }
 ],
 "metadata": {
  "kernelspec": {
   "display_name": "Python 3",
   "language": "python",
   "name": "python3"
  },
  "language_info": {
   "codemirror_mode": {
    "name": "ipython",
    "version": 3
   },
   "file_extension": ".py",
   "mimetype": "text/x-python",
   "name": "python",
   "nbconvert_exporter": "python",
   "pygments_lexer": "ipython3",
   "version": "3.7.0"
  }
 },
 "nbformat": 4,
 "nbformat_minor": 4
}
